{
 "cells": [
  {
   "cell_type": "markdown",
   "metadata": {},
   "source": [
    "<div class=\"alert alert-block alert-info\">\n",
    "<b>Комментарий ревьюера:</b>\n",
    "\n",
    "Мне понравился твой проект 👍🏻 Видно, что приложено много усилий)\n",
    "\n",
    "Перед отправкой проекта, пожалуйста, перезапусти ядро и убедись, что весь код работает (Kernel -> Restart and Run All). Важно, чтобы нумерация ячеек была правильной (начиналась с \"1\" и выполнялась по порядку).\n",
    "\n",
    "Если не хочешь ждать обучения моделей, можешь сохранить лучшие гиперпараметры в отдельной переменной и закомментировать код. Необходимо также зафиксировать random_state, чтобы результат был всегда одинаковым.\n",
    "\n",
    "Таким образом, я смогу быстрее проверить проект, и ты успеешь к дедлайну 👋🏻\n",
    "</div>"
   ]
  },
  {
   "cell_type": "markdown",
   "metadata": {},
   "source": [
    "Привет!) Меня зовут Дуолан 👋 Буду проверять твой проект. Давай вместе доведем его до идеала 😉\n",
    "<br> Дальнейшее общение будет происходить на «ты», если это не вызывает никаких проблем.\n",
    "<br> Желательно реагировать на каждый мой комментарий («исправил», «не понятно как исправить ошибку», ...)\n",
    "<br> Пожалуйста, не удаляй мои комментарии, они будут необходимы для повторного ревью.\n",
    "\n",
    "Комментарии будут в <font color='green'>зеленой</font>, <font color='blue'>синей</font> или <font color='red'>красной</font> рамках:\n",
    "\n",
    "<div class=\"alert alert-block alert-success\">\n",
    "<b>✔️ Успех:</b> Если все сделано отлично\n",
    "</div>\n",
    "\n",
    "<div class=\"alert alert-block alert-warning\">\n",
    "<b>⚠️ Совет:</b> Если можно немного улучшить\n",
    "</div>\n",
    "\n",
    "<div class=\"alert alert-block alert-danger\">\n",
    "<b>❌ Замечание:</b> Если требуются исправления\n",
    "</div>\n",
    "\n",
    "Работа не может быть принята с красными комментариями.\n",
    "\n",
    "-------------------\n",
    "\n",
    "Будет очень хорошо, если ты будешь помечать свои действия следующим образом:\n",
    "\n",
    "<div class=\"alert alert-block alert-info\">\n",
    "<b>Комментарий студента:</b> ...\n",
    "</div>\n",
    "\n",
    "<div class=\"alert alert-block alert-info\">\n",
    "<b>Изменения:</b> Были внесены следующие изменения ...\n",
    "</div>"
   ]
  },
  {
   "cell_type": "markdown",
   "metadata": {},
   "source": [
    "# Определение стоимости автомобилей"
   ]
  },
  {
   "cell_type": "markdown",
   "metadata": {},
   "source": [
    "Сервис по продаже автомобилей с пробегом «Не бит, не крашен» разрабатывает приложение для привлечения новых клиентов. В нём можно быстро узнать рыночную стоимость своего автомобиля. В вашем распоряжении исторические данные: технические характеристики, комплектации и цены автомобилей. Вам нужно построить модель для определения стоимости. \n",
    "\n",
    "Заказчику важны:\n",
    "\n",
    "- качество предсказания;\n",
    "- скорость предсказания;\n",
    "- время обучения."
   ]
  },
  {
   "cell_type": "markdown",
   "metadata": {},
   "source": [
    "**Описание проекта**\n",
    "\n",
    "Сервис по продаже автомобилей с пробегом «Не бит, не крашен» разрабатывает приложение, чтобы привлечь новых клиентов. В нём можно будет узнать рыночную стоимость своего автомобиля. \n",
    "Постройте модель, которая умеет её определять. В вашем распоряжении данные о технических характеристиках, комплектации и ценах других автомобилей.\n",
    "Критерии, которые важны заказчику:\n",
    "качество предсказания;\n",
    "время обучения модели;\n",
    "время предсказания модели.\n",
    "\n",
    "**Инструкция по выполнению проекта**\n",
    "\n",
    "Чтобы усилить исследование, не ограничивайтесь градиентным бустингом. Попробуйте более простые модели — иногда они работают лучше. Эти редкие случаи легко пропустить, если всегда применять только бустинг. \n",
    "Поэкспериментируйте и сравните характеристики моделей: время обучения, время предсказания, точность результата.\n",
    "\n",
    "**Основные шаги:**\n",
    "\n",
    "1. Загрузите данные, путь к файлу: /datasets/autos.csv.\n",
    "2. Изучите данные. Заполните пропущенные значения и обработайте аномалии в столбцах. Если среди признаков имеются неинформативные, удалите их.\n",
    "3. Подготовьте выборки для обучения моделей.\n",
    "4. Обучите разные модели, одна из которых — LightGBM, как минимум одна — не бустинг. Для каждой модели попробуйте разные гиперпараметры.\n",
    "5. Проанализируйте время обучения, время предсказания и качество моделей.\n",
    "6. Опираясь на критерии заказчика, выберете лучшую модель, проверьте её качество на тестовой выборке.\n",
    "\n",
    "Примечания:\n",
    "\n",
    "Для оценки качества моделей применяйте метрику RMSE.\n",
    "\n",
    "Значение метрики RMSE должно быть меньше 2500.\n",
    "\n",
    "Самостоятельно освойте библиотеку LightGBM и её средствами постройте модели градиентного бустинга.\n",
    "\n",
    "Время выполнения ячейки кода Jupyter Notebook можно получить специальной командой. Найдите её.\n",
    "\n",
    "Модель градиентного бустинга может долго обучаться, поэтому измените у неё только два-три параметра.\n",
    "\n",
    "Если перестанет работать Jupyter Notebook, удалите лишние переменные оператором del.\n",
    "\n",
    "del features_train \n",
    "\n"
   ]
  },
  {
   "cell_type": "markdown",
   "metadata": {},
   "source": [
    "**Как будут проверять проект?**\n",
    "\n",
    "Мы подготовили критерии оценки проекта, которыми руководствуются ревьюеры. Прежде чем решать кейс, внимательно изучите их.\n",
    "\n",
    "На что обращают внимание ревьюеры, проверяя проект:\n",
    "\n",
    "Все ли шаги инструкции были выполнены?\n",
    "\n",
    "Как вы готовите данные?\n",
    "\n",
    "Какие модели и гиперпараметры вы рассматриваете?\n",
    "\n",
    "Не дублируете ли вы код?\n",
    "\n",
    "Какие выводы вы делаете?\n",
    "\n",
    "Следите ли вы за структурой проекта?\n",
    "\n",
    "Поддерживаете ли вы аккуратность кода?"
   ]
  },
  {
   "cell_type": "markdown",
   "metadata": {},
   "source": [
    "<div class=\"alert alert-block alert-success\">\n",
    "<b>Успех:</b> \n",
    "\n",
    "Отличное введение 👍 Важно чтобы в проектах было подробное описание: когда потенциальные работодатели будут смотреть твой проект в портфолио, им нужно будет понимать задачу, чтобы можно было оценить её решение :)\n",
    "</div>"
   ]
  },
  {
   "cell_type": "markdown",
   "metadata": {},
   "source": [
    "## Подготовка данных"
   ]
  },
  {
   "cell_type": "code",
   "execution_count": 1,
   "metadata": {},
   "outputs": [
    {
     "name": "stdout",
     "output_type": "stream",
     "text": [
      "Requirement already satisfied: xgboost in /opt/conda/lib/python3.9/site-packages (1.5.1)\r\n",
      "Requirement already satisfied: scipy in /opt/conda/lib/python3.9/site-packages (from xgboost) (1.9.1)\r\n",
      "Requirement already satisfied: numpy in /opt/conda/lib/python3.9/site-packages (from xgboost) (1.21.1)\r\n"
     ]
    }
   ],
   "source": [
    "!pip install xgboost"
   ]
  },
  {
   "cell_type": "code",
   "execution_count": 2,
   "metadata": {},
   "outputs": [
    {
     "name": "stdout",
     "output_type": "stream",
     "text": [
      "Requirement already satisfied: lightgbm in /opt/conda/lib/python3.9/site-packages (3.3.1)\n",
      "Requirement already satisfied: scipy in /opt/conda/lib/python3.9/site-packages (from lightgbm) (1.9.1)\n",
      "Requirement already satisfied: wheel in /opt/conda/lib/python3.9/site-packages (from lightgbm) (0.36.2)\n",
      "Requirement already satisfied: scikit-learn!=0.22.0 in /opt/conda/lib/python3.9/site-packages (from lightgbm) (0.24.1)\n",
      "Requirement already satisfied: numpy in /opt/conda/lib/python3.9/site-packages (from lightgbm) (1.21.1)\n",
      "Requirement already satisfied: threadpoolctl>=2.0.0 in /opt/conda/lib/python3.9/site-packages (from scikit-learn!=0.22.0->lightgbm) (3.1.0)\n",
      "Requirement already satisfied: joblib>=0.11 in /opt/conda/lib/python3.9/site-packages (from scikit-learn!=0.22.0->lightgbm) (1.1.0)\n"
     ]
    }
   ],
   "source": [
    "!pip install lightgbm"
   ]
  },
  {
   "cell_type": "code",
   "execution_count": 3,
   "metadata": {},
   "outputs": [
    {
     "name": "stdout",
     "output_type": "stream",
     "text": [
      "Requirement already satisfied: catboost in /opt/conda/lib/python3.9/site-packages (1.0.3)\n",
      "Requirement already satisfied: pandas>=0.24.0 in /opt/conda/lib/python3.9/site-packages (from catboost) (1.2.4)\n",
      "Requirement already satisfied: scipy in /opt/conda/lib/python3.9/site-packages (from catboost) (1.9.1)\n",
      "Requirement already satisfied: plotly in /opt/conda/lib/python3.9/site-packages (from catboost) (5.4.0)\n",
      "Requirement already satisfied: graphviz in /opt/conda/lib/python3.9/site-packages (from catboost) (0.20.1)\n",
      "Requirement already satisfied: matplotlib in /opt/conda/lib/python3.9/site-packages (from catboost) (3.3.4)\n",
      "Requirement already satisfied: six in /opt/conda/lib/python3.9/site-packages (from catboost) (1.16.0)\n",
      "Requirement already satisfied: numpy>=1.16.0 in /opt/conda/lib/python3.9/site-packages (from catboost) (1.21.1)\n",
      "Requirement already satisfied: python-dateutil>=2.7.3 in /opt/conda/lib/python3.9/site-packages (from pandas>=0.24.0->catboost) (2.8.1)\n",
      "Requirement already satisfied: pytz>=2017.3 in /opt/conda/lib/python3.9/site-packages (from pandas>=0.24.0->catboost) (2021.1)\n",
      "Requirement already satisfied: pyparsing!=2.0.4,!=2.1.2,!=2.1.6,>=2.0.3 in /opt/conda/lib/python3.9/site-packages (from matplotlib->catboost) (2.4.7)\n",
      "Requirement already satisfied: pillow>=6.2.0 in /opt/conda/lib/python3.9/site-packages (from matplotlib->catboost) (8.4.0)\n",
      "Requirement already satisfied: cycler>=0.10 in /opt/conda/lib/python3.9/site-packages (from matplotlib->catboost) (0.11.0)\n",
      "Requirement already satisfied: kiwisolver>=1.0.1 in /opt/conda/lib/python3.9/site-packages (from matplotlib->catboost) (1.4.4)\n",
      "Requirement already satisfied: tenacity>=6.2.0 in /opt/conda/lib/python3.9/site-packages (from plotly->catboost) (8.0.1)\n"
     ]
    }
   ],
   "source": [
    "\n",
    "!pip install catboost"
   ]
  },
  {
   "cell_type": "code",
   "execution_count": 4,
   "metadata": {},
   "outputs": [],
   "source": [
    "#Импорт библиотек\n",
    "import numpy as np\n",
    "import pandas as pd\n",
    "from scipy import stats as st\n",
    "import time\n",
    "import warnings\n",
    "import datetime\n",
    "# Для чтения файла\n",
    "import os \n",
    "from pathlib import Path\n",
    "import urllib\n",
    "# Модели машинного обучения для задач регрессии\n",
    "from sklearn.linear_model import LinearRegression\n",
    "from sklearn.tree import DecisionTreeRegressor\n",
    "from sklearn.ensemble import RandomForestRegressor\n",
    "import xgboost as xgb\n",
    "import lightgbm as lgb\n",
    "from catboost import Pool, CatBoostRegressor\n",
    "# Для предобработки данных\n",
    "from sklearn.impute import SimpleImputer\n",
    "# Метрики регрессии - оценка моделей\n",
    "from sklearn.metrics import mean_squared_error, r2_score, mean_absolute_error,make_scorer\n",
    "# Для масшатбирования признаков\n",
    "# Для масшатбирования признаков, кодирования\n",
    "from sklearn.preprocessing import StandardScaler, OrdinalEncoder,MinMaxScaler\n",
    "from sklearn.compose import ColumnTransformer\n",
    "from sklearn.pipeline import Pipeline\n",
    "# Проверка моделей на вменяемость\n",
    "from sklearn.dummy import DummyRegressor\n",
    "# Для разделения данных на обучающий, валидационный, тестовый набор данных. \n",
    "from sklearn.model_selection import train_test_split, GridSearchCV, RandomizedSearchCV, cross_val_score\n",
    "# Для визуализации графиков\n",
    "import matplotlib as mpl\n",
    "import matplotlib.pyplot as plt\n",
    "import matplotlib.ticker as ticker\n",
    "import seaborn as sns"
   ]
  },
  {
   "cell_type": "code",
   "execution_count": 5,
   "metadata": {},
   "outputs": [],
   "source": [
    "#Настройка matplotlib\n",
    "%matplotlib inline\n",
    "small, medium, large = 14, 16, 22\n",
    "params = {'figure.figsize':   (14, 5),\n",
    "          'figure.titlesize': medium,\n",
    "          'legend.fontsize':  small,\n",
    "          'axes.titlesize':   small,\n",
    "          'axes.labelsize':   small,\n",
    "          'xtick.labelsize':  small,\n",
    "          'ytick.labelsize':  small,\n",
    "          'legend.loc':       'best'}\n",
    "plt.rcParams.update(params)"
   ]
  },
  {
   "cell_type": "code",
   "execution_count": 6,
   "metadata": {},
   "outputs": [],
   "source": [
    "# отключим всякие предупреждения Anaconda\n",
    "warnings.filterwarnings('ignore')"
   ]
  },
  {
   "cell_type": "code",
   "execution_count": 7,
   "metadata": {},
   "outputs": [],
   "source": [
    "# уберём экспоненциальную запись\n",
    "pd.options.display.float_format = '{:.3f}'.format"
   ]
  },
  {
   "cell_type": "markdown",
   "metadata": {},
   "source": [
    "<div class=\"alert alert-block alert-success\">\n",
    "<b>✔️ Успех:</b>\n",
    "\n",
    "Импорт выглядит отлично 👍\n",
    "</div>"
   ]
  },
  {
   "cell_type": "markdown",
   "metadata": {},
   "source": [
    "### Обзор данных"
   ]
  },
  {
   "cell_type": "code",
   "execution_count": 8,
   "metadata": {},
   "outputs": [],
   "source": [
    "# сохраним полученный из файла датафрейм в соответствующую переменную\n",
    "raw_autos = pd.read_csv('/datasets/autos.csv')"
   ]
  },
  {
   "cell_type": "code",
   "execution_count": 9,
   "metadata": {},
   "outputs": [
    {
     "data": {
      "text/html": [
       "<div>\n",
       "<style scoped>\n",
       "    .dataframe tbody tr th:only-of-type {\n",
       "        vertical-align: middle;\n",
       "    }\n",
       "\n",
       "    .dataframe tbody tr th {\n",
       "        vertical-align: top;\n",
       "    }\n",
       "\n",
       "    .dataframe thead th {\n",
       "        text-align: right;\n",
       "    }\n",
       "</style>\n",
       "<table border=\"1\" class=\"dataframe\">\n",
       "  <thead>\n",
       "    <tr style=\"text-align: right;\">\n",
       "      <th></th>\n",
       "      <th>DateCrawled</th>\n",
       "      <th>Price</th>\n",
       "      <th>VehicleType</th>\n",
       "      <th>RegistrationYear</th>\n",
       "      <th>Gearbox</th>\n",
       "      <th>Power</th>\n",
       "      <th>Model</th>\n",
       "      <th>Kilometer</th>\n",
       "      <th>RegistrationMonth</th>\n",
       "      <th>FuelType</th>\n",
       "      <th>Brand</th>\n",
       "      <th>Repaired</th>\n",
       "      <th>DateCreated</th>\n",
       "      <th>NumberOfPictures</th>\n",
       "      <th>PostalCode</th>\n",
       "      <th>LastSeen</th>\n",
       "    </tr>\n",
       "  </thead>\n",
       "  <tbody>\n",
       "    <tr>\n",
       "      <th>0</th>\n",
       "      <td>2016-03-24 11:52:17</td>\n",
       "      <td>480</td>\n",
       "      <td>NaN</td>\n",
       "      <td>1993</td>\n",
       "      <td>manual</td>\n",
       "      <td>0</td>\n",
       "      <td>golf</td>\n",
       "      <td>150000</td>\n",
       "      <td>0</td>\n",
       "      <td>petrol</td>\n",
       "      <td>volkswagen</td>\n",
       "      <td>NaN</td>\n",
       "      <td>2016-03-24 00:00:00</td>\n",
       "      <td>0</td>\n",
       "      <td>70435</td>\n",
       "      <td>2016-04-07 03:16:57</td>\n",
       "    </tr>\n",
       "    <tr>\n",
       "      <th>1</th>\n",
       "      <td>2016-03-24 10:58:45</td>\n",
       "      <td>18300</td>\n",
       "      <td>coupe</td>\n",
       "      <td>2011</td>\n",
       "      <td>manual</td>\n",
       "      <td>190</td>\n",
       "      <td>NaN</td>\n",
       "      <td>125000</td>\n",
       "      <td>5</td>\n",
       "      <td>gasoline</td>\n",
       "      <td>audi</td>\n",
       "      <td>yes</td>\n",
       "      <td>2016-03-24 00:00:00</td>\n",
       "      <td>0</td>\n",
       "      <td>66954</td>\n",
       "      <td>2016-04-07 01:46:50</td>\n",
       "    </tr>\n",
       "    <tr>\n",
       "      <th>2</th>\n",
       "      <td>2016-03-14 12:52:21</td>\n",
       "      <td>9800</td>\n",
       "      <td>suv</td>\n",
       "      <td>2004</td>\n",
       "      <td>auto</td>\n",
       "      <td>163</td>\n",
       "      <td>grand</td>\n",
       "      <td>125000</td>\n",
       "      <td>8</td>\n",
       "      <td>gasoline</td>\n",
       "      <td>jeep</td>\n",
       "      <td>NaN</td>\n",
       "      <td>2016-03-14 00:00:00</td>\n",
       "      <td>0</td>\n",
       "      <td>90480</td>\n",
       "      <td>2016-04-05 12:47:46</td>\n",
       "    </tr>\n",
       "    <tr>\n",
       "      <th>3</th>\n",
       "      <td>2016-03-17 16:54:04</td>\n",
       "      <td>1500</td>\n",
       "      <td>small</td>\n",
       "      <td>2001</td>\n",
       "      <td>manual</td>\n",
       "      <td>75</td>\n",
       "      <td>golf</td>\n",
       "      <td>150000</td>\n",
       "      <td>6</td>\n",
       "      <td>petrol</td>\n",
       "      <td>volkswagen</td>\n",
       "      <td>no</td>\n",
       "      <td>2016-03-17 00:00:00</td>\n",
       "      <td>0</td>\n",
       "      <td>91074</td>\n",
       "      <td>2016-03-17 17:40:17</td>\n",
       "    </tr>\n",
       "    <tr>\n",
       "      <th>4</th>\n",
       "      <td>2016-03-31 17:25:20</td>\n",
       "      <td>3600</td>\n",
       "      <td>small</td>\n",
       "      <td>2008</td>\n",
       "      <td>manual</td>\n",
       "      <td>69</td>\n",
       "      <td>fabia</td>\n",
       "      <td>90000</td>\n",
       "      <td>7</td>\n",
       "      <td>gasoline</td>\n",
       "      <td>skoda</td>\n",
       "      <td>no</td>\n",
       "      <td>2016-03-31 00:00:00</td>\n",
       "      <td>0</td>\n",
       "      <td>60437</td>\n",
       "      <td>2016-04-06 10:17:21</td>\n",
       "    </tr>\n",
       "    <tr>\n",
       "      <th>5</th>\n",
       "      <td>2016-04-04 17:36:23</td>\n",
       "      <td>650</td>\n",
       "      <td>sedan</td>\n",
       "      <td>1995</td>\n",
       "      <td>manual</td>\n",
       "      <td>102</td>\n",
       "      <td>3er</td>\n",
       "      <td>150000</td>\n",
       "      <td>10</td>\n",
       "      <td>petrol</td>\n",
       "      <td>bmw</td>\n",
       "      <td>yes</td>\n",
       "      <td>2016-04-04 00:00:00</td>\n",
       "      <td>0</td>\n",
       "      <td>33775</td>\n",
       "      <td>2016-04-06 19:17:07</td>\n",
       "    </tr>\n",
       "    <tr>\n",
       "      <th>6</th>\n",
       "      <td>2016-04-01 20:48:51</td>\n",
       "      <td>2200</td>\n",
       "      <td>convertible</td>\n",
       "      <td>2004</td>\n",
       "      <td>manual</td>\n",
       "      <td>109</td>\n",
       "      <td>2_reihe</td>\n",
       "      <td>150000</td>\n",
       "      <td>8</td>\n",
       "      <td>petrol</td>\n",
       "      <td>peugeot</td>\n",
       "      <td>no</td>\n",
       "      <td>2016-04-01 00:00:00</td>\n",
       "      <td>0</td>\n",
       "      <td>67112</td>\n",
       "      <td>2016-04-05 18:18:39</td>\n",
       "    </tr>\n",
       "    <tr>\n",
       "      <th>7</th>\n",
       "      <td>2016-03-21 18:54:38</td>\n",
       "      <td>0</td>\n",
       "      <td>sedan</td>\n",
       "      <td>1980</td>\n",
       "      <td>manual</td>\n",
       "      <td>50</td>\n",
       "      <td>other</td>\n",
       "      <td>40000</td>\n",
       "      <td>7</td>\n",
       "      <td>petrol</td>\n",
       "      <td>volkswagen</td>\n",
       "      <td>no</td>\n",
       "      <td>2016-03-21 00:00:00</td>\n",
       "      <td>0</td>\n",
       "      <td>19348</td>\n",
       "      <td>2016-03-25 16:47:58</td>\n",
       "    </tr>\n",
       "    <tr>\n",
       "      <th>8</th>\n",
       "      <td>2016-04-04 23:42:13</td>\n",
       "      <td>14500</td>\n",
       "      <td>bus</td>\n",
       "      <td>2014</td>\n",
       "      <td>manual</td>\n",
       "      <td>125</td>\n",
       "      <td>c_max</td>\n",
       "      <td>30000</td>\n",
       "      <td>8</td>\n",
       "      <td>petrol</td>\n",
       "      <td>ford</td>\n",
       "      <td>NaN</td>\n",
       "      <td>2016-04-04 00:00:00</td>\n",
       "      <td>0</td>\n",
       "      <td>94505</td>\n",
       "      <td>2016-04-04 23:42:13</td>\n",
       "    </tr>\n",
       "    <tr>\n",
       "      <th>9</th>\n",
       "      <td>2016-03-17 10:53:50</td>\n",
       "      <td>999</td>\n",
       "      <td>small</td>\n",
       "      <td>1998</td>\n",
       "      <td>manual</td>\n",
       "      <td>101</td>\n",
       "      <td>golf</td>\n",
       "      <td>150000</td>\n",
       "      <td>0</td>\n",
       "      <td>NaN</td>\n",
       "      <td>volkswagen</td>\n",
       "      <td>NaN</td>\n",
       "      <td>2016-03-17 00:00:00</td>\n",
       "      <td>0</td>\n",
       "      <td>27472</td>\n",
       "      <td>2016-03-31 17:17:06</td>\n",
       "    </tr>\n",
       "  </tbody>\n",
       "</table>\n",
       "</div>"
      ],
      "text/plain": [
       "           DateCrawled  Price  VehicleType  RegistrationYear Gearbox  Power  \\\n",
       "0  2016-03-24 11:52:17    480          NaN              1993  manual      0   \n",
       "1  2016-03-24 10:58:45  18300        coupe              2011  manual    190   \n",
       "2  2016-03-14 12:52:21   9800          suv              2004    auto    163   \n",
       "3  2016-03-17 16:54:04   1500        small              2001  manual     75   \n",
       "4  2016-03-31 17:25:20   3600        small              2008  manual     69   \n",
       "5  2016-04-04 17:36:23    650        sedan              1995  manual    102   \n",
       "6  2016-04-01 20:48:51   2200  convertible              2004  manual    109   \n",
       "7  2016-03-21 18:54:38      0        sedan              1980  manual     50   \n",
       "8  2016-04-04 23:42:13  14500          bus              2014  manual    125   \n",
       "9  2016-03-17 10:53:50    999        small              1998  manual    101   \n",
       "\n",
       "     Model  Kilometer  RegistrationMonth  FuelType       Brand Repaired  \\\n",
       "0     golf     150000                  0    petrol  volkswagen      NaN   \n",
       "1      NaN     125000                  5  gasoline        audi      yes   \n",
       "2    grand     125000                  8  gasoline        jeep      NaN   \n",
       "3     golf     150000                  6    petrol  volkswagen       no   \n",
       "4    fabia      90000                  7  gasoline       skoda       no   \n",
       "5      3er     150000                 10    petrol         bmw      yes   \n",
       "6  2_reihe     150000                  8    petrol     peugeot       no   \n",
       "7    other      40000                  7    petrol  volkswagen       no   \n",
       "8    c_max      30000                  8    petrol        ford      NaN   \n",
       "9     golf     150000                  0       NaN  volkswagen      NaN   \n",
       "\n",
       "           DateCreated  NumberOfPictures  PostalCode             LastSeen  \n",
       "0  2016-03-24 00:00:00                 0       70435  2016-04-07 03:16:57  \n",
       "1  2016-03-24 00:00:00                 0       66954  2016-04-07 01:46:50  \n",
       "2  2016-03-14 00:00:00                 0       90480  2016-04-05 12:47:46  \n",
       "3  2016-03-17 00:00:00                 0       91074  2016-03-17 17:40:17  \n",
       "4  2016-03-31 00:00:00                 0       60437  2016-04-06 10:17:21  \n",
       "5  2016-04-04 00:00:00                 0       33775  2016-04-06 19:17:07  \n",
       "6  2016-04-01 00:00:00                 0       67112  2016-04-05 18:18:39  \n",
       "7  2016-03-21 00:00:00                 0       19348  2016-03-25 16:47:58  \n",
       "8  2016-04-04 00:00:00                 0       94505  2016-04-04 23:42:13  \n",
       "9  2016-03-17 00:00:00                 0       27472  2016-03-31 17:17:06  "
      ]
     },
     "execution_count": 9,
     "metadata": {},
     "output_type": "execute_result"
    }
   ],
   "source": [
    "#Посмотрим на данные. Выведем первые 10 строк таблицы.\n",
    "raw_autos.head(10)"
   ]
  },
  {
   "cell_type": "markdown",
   "metadata": {},
   "source": [
    "Сразу можем увидеть, что у нас есть пропущенные значения в столбцах VehicleType, Model, FuelType, NotRepaired. Также заметим, у нас есть нулевые значения в Price, NumberOfPictures."
   ]
  },
  {
   "cell_type": "code",
   "execution_count": 10,
   "metadata": {},
   "outputs": [
    {
     "name": "stdout",
     "output_type": "stream",
     "text": [
      "<class 'pandas.core.frame.DataFrame'>\n",
      "RangeIndex: 354369 entries, 0 to 354368\n",
      "Data columns (total 16 columns):\n",
      " #   Column             Non-Null Count   Dtype \n",
      "---  ------             --------------   ----- \n",
      " 0   DateCrawled        354369 non-null  object\n",
      " 1   Price              354369 non-null  int64 \n",
      " 2   VehicleType        316879 non-null  object\n",
      " 3   RegistrationYear   354369 non-null  int64 \n",
      " 4   Gearbox            334536 non-null  object\n",
      " 5   Power              354369 non-null  int64 \n",
      " 6   Model              334664 non-null  object\n",
      " 7   Kilometer          354369 non-null  int64 \n",
      " 8   RegistrationMonth  354369 non-null  int64 \n",
      " 9   FuelType           321474 non-null  object\n",
      " 10  Brand              354369 non-null  object\n",
      " 11  Repaired           283215 non-null  object\n",
      " 12  DateCreated        354369 non-null  object\n",
      " 13  NumberOfPictures   354369 non-null  int64 \n",
      " 14  PostalCode         354369 non-null  int64 \n",
      " 15  LastSeen           354369 non-null  object\n",
      "dtypes: int64(7), object(9)\n",
      "memory usage: 43.3+ MB\n"
     ]
    }
   ],
   "source": [
    "raw_autos.info()"
   ]
  },
  {
   "cell_type": "markdown",
   "metadata": {},
   "source": [
    "354369 обьекта в датафрейме. 16 столбцов. Большинство столбцов имеют тип object. Количество обьектов в каждом столбце различается. У нас есть пропущенные значения. Следовательно, необходимо предобработать данные. Также стоит заметить, что некоторые столбцы будут не нужны в постройке моделей, такие как: DateCrawled, DateCreated, NumberOfPictures, PostalCode, LastSeen."
   ]
  },
  {
   "cell_type": "code",
   "execution_count": 11,
   "metadata": {},
   "outputs": [
    {
     "data": {
      "text/html": [
       "<div>\n",
       "<style scoped>\n",
       "    .dataframe tbody tr th:only-of-type {\n",
       "        vertical-align: middle;\n",
       "    }\n",
       "\n",
       "    .dataframe tbody tr th {\n",
       "        vertical-align: top;\n",
       "    }\n",
       "\n",
       "    .dataframe thead th {\n",
       "        text-align: right;\n",
       "    }\n",
       "</style>\n",
       "<table border=\"1\" class=\"dataframe\">\n",
       "  <thead>\n",
       "    <tr style=\"text-align: right;\">\n",
       "      <th></th>\n",
       "      <th>count</th>\n",
       "      <th>mean</th>\n",
       "      <th>std</th>\n",
       "      <th>min</th>\n",
       "      <th>25%</th>\n",
       "      <th>50%</th>\n",
       "      <th>75%</th>\n",
       "      <th>max</th>\n",
       "    </tr>\n",
       "  </thead>\n",
       "  <tbody>\n",
       "    <tr>\n",
       "      <th>Price</th>\n",
       "      <td>354369.000</td>\n",
       "      <td>4416.657</td>\n",
       "      <td>4514.159</td>\n",
       "      <td>0.000</td>\n",
       "      <td>1050.000</td>\n",
       "      <td>2700.000</td>\n",
       "      <td>6400.000</td>\n",
       "      <td>20000.000</td>\n",
       "    </tr>\n",
       "    <tr>\n",
       "      <th>RegistrationYear</th>\n",
       "      <td>354369.000</td>\n",
       "      <td>2004.234</td>\n",
       "      <td>90.228</td>\n",
       "      <td>1000.000</td>\n",
       "      <td>1999.000</td>\n",
       "      <td>2003.000</td>\n",
       "      <td>2008.000</td>\n",
       "      <td>9999.000</td>\n",
       "    </tr>\n",
       "    <tr>\n",
       "      <th>Power</th>\n",
       "      <td>354369.000</td>\n",
       "      <td>110.094</td>\n",
       "      <td>189.850</td>\n",
       "      <td>0.000</td>\n",
       "      <td>69.000</td>\n",
       "      <td>105.000</td>\n",
       "      <td>143.000</td>\n",
       "      <td>20000.000</td>\n",
       "    </tr>\n",
       "    <tr>\n",
       "      <th>Kilometer</th>\n",
       "      <td>354369.000</td>\n",
       "      <td>128211.173</td>\n",
       "      <td>37905.342</td>\n",
       "      <td>5000.000</td>\n",
       "      <td>125000.000</td>\n",
       "      <td>150000.000</td>\n",
       "      <td>150000.000</td>\n",
       "      <td>150000.000</td>\n",
       "    </tr>\n",
       "    <tr>\n",
       "      <th>RegistrationMonth</th>\n",
       "      <td>354369.000</td>\n",
       "      <td>5.715</td>\n",
       "      <td>3.726</td>\n",
       "      <td>0.000</td>\n",
       "      <td>3.000</td>\n",
       "      <td>6.000</td>\n",
       "      <td>9.000</td>\n",
       "      <td>12.000</td>\n",
       "    </tr>\n",
       "    <tr>\n",
       "      <th>NumberOfPictures</th>\n",
       "      <td>354369.000</td>\n",
       "      <td>0.000</td>\n",
       "      <td>0.000</td>\n",
       "      <td>0.000</td>\n",
       "      <td>0.000</td>\n",
       "      <td>0.000</td>\n",
       "      <td>0.000</td>\n",
       "      <td>0.000</td>\n",
       "    </tr>\n",
       "    <tr>\n",
       "      <th>PostalCode</th>\n",
       "      <td>354369.000</td>\n",
       "      <td>50508.689</td>\n",
       "      <td>25783.096</td>\n",
       "      <td>1067.000</td>\n",
       "      <td>30165.000</td>\n",
       "      <td>49413.000</td>\n",
       "      <td>71083.000</td>\n",
       "      <td>99998.000</td>\n",
       "    </tr>\n",
       "  </tbody>\n",
       "</table>\n",
       "</div>"
      ],
      "text/plain": [
       "                       count       mean       std      min        25%  \\\n",
       "Price             354369.000   4416.657  4514.159    0.000   1050.000   \n",
       "RegistrationYear  354369.000   2004.234    90.228 1000.000   1999.000   \n",
       "Power             354369.000    110.094   189.850    0.000     69.000   \n",
       "Kilometer         354369.000 128211.173 37905.342 5000.000 125000.000   \n",
       "RegistrationMonth 354369.000      5.715     3.726    0.000      3.000   \n",
       "NumberOfPictures  354369.000      0.000     0.000    0.000      0.000   \n",
       "PostalCode        354369.000  50508.689 25783.096 1067.000  30165.000   \n",
       "\n",
       "                         50%        75%        max  \n",
       "Price               2700.000   6400.000  20000.000  \n",
       "RegistrationYear    2003.000   2008.000   9999.000  \n",
       "Power                105.000    143.000  20000.000  \n",
       "Kilometer         150000.000 150000.000 150000.000  \n",
       "RegistrationMonth      6.000      9.000     12.000  \n",
       "NumberOfPictures       0.000      0.000      0.000  \n",
       "PostalCode         49413.000  71083.000  99998.000  "
      ]
     },
     "execution_count": 11,
     "metadata": {},
     "output_type": "execute_result"
    }
   ],
   "source": [
    "#Посмотрим на значения, распределения в нашем DataFrame.\n",
    "raw_autos.describe().T"
   ]
  },
  {
   "cell_type": "code",
   "execution_count": 12,
   "metadata": {},
   "outputs": [],
   "source": [
    "#Создадим вспомогательные функции, например функции отрисовки графиков.\n",
    "def drawDistributionPlot(df,column, title,x_label, y_label):\n",
    "    \"\"\"\n",
    "    Функция отрисовки графика распределений\n",
    "    df - данные (выборки) \n",
    "    title - заголовок\n",
    "    x_label - название оси x\n",
    "    y_label - название оси y\n",
    "    \"\"\"\n",
    "    # KDE plot\n",
    "    plt.figure(figsize=(14,5))\n",
    "    plot  = sns.distplot(df[column],bins=30, kde=True)\n",
    "    # Заголовок\n",
    "    plt.title(title)\n",
    "    plt.xlabel(x_label)\n",
    "    plt.ylabel(y_label)\n",
    "    plt.show()"
   ]
  },
  {
   "cell_type": "code",
   "execution_count": 13,
   "metadata": {},
   "outputs": [],
   "source": [
    "def drawBoxPlot(df,column,title, x_label, y_label,showOutliers=False):\n",
    "    \"\"\"\n",
    "    Функция отрисовки boxplot\n",
    "    df - данные (выборки)\n",
    "    title - заголовок\n",
    "    x_label - название оси x\n",
    "    y_label - название оси y\n",
    "    \"\"\"\n",
    "    ax = sns.boxplot(data=df, y = column,width=0.5,showfliers=showOutliers)\n",
    "    plt.title(title)\n",
    "    plt.xlabel(x_label)\n",
    "    plt.ylabel(y_label)\n",
    "    plt.show()"
   ]
  },
  {
   "cell_type": "markdown",
   "metadata": {},
   "source": [
    "<div class=\"alert alert-block alert-success\">\n",
    "<b>✔️ Успех:</b>\n",
    "\n",
    "Хорошие помощники 👍\n",
    "</div>"
   ]
  },
  {
   "cell_type": "markdown",
   "metadata": {},
   "source": [
    "#### Цена"
   ]
  },
  {
   "cell_type": "code",
   "execution_count": 14,
   "metadata": {},
   "outputs": [
    {
     "data": {
      "image/png": "[encoded data removed]",
      "text/plain": [
       "<Figure size 1008x360 with 1 Axes>"
      ]
     },
     "metadata": {
      "needs_background": "light"
     },
     "output_type": "display_data"
    }
   ],
   "source": [
    "drawDistributionPlot(raw_autos, 'Price', \"Распределение цены автомобилей\", \"Цена\", \"Количесто автомобилей\")"
   ]
  },
  {
   "cell_type": "markdown",
   "metadata": {},
   "source": [
    "Наблюдаем, что с повышением цены, количество моделей уменьшается. Большинство значений в диапазоне от 0 до ~2500 евро. Узнаем характерный разброс."
   ]
  },
  {
   "cell_type": "code",
   "execution_count": 15,
   "metadata": {},
   "outputs": [
    {
     "data": {
      "image/png": "[encoded data removed]",
      "text/plain": [
       "<Figure size 1008x360 with 1 Axes>"
      ]
     },
     "metadata": {
      "needs_background": "light"
     },
     "output_type": "display_data"
    }
   ],
   "source": [
    "drawBoxPlot(raw_autos, 'Price', \"Распределение цены автомобилей\", \"Цена\", \"Количесто автомобилей\",True)"
   ]
  },
  {
   "cell_type": "code",
   "execution_count": 16,
   "metadata": {},
   "outputs": [
    {
     "data": {
      "text/html": [
       "<div>\n",
       "<style scoped>\n",
       "    .dataframe tbody tr th:only-of-type {\n",
       "        vertical-align: middle;\n",
       "    }\n",
       "\n",
       "    .dataframe tbody tr th {\n",
       "        vertical-align: top;\n",
       "    }\n",
       "\n",
       "    .dataframe thead th {\n",
       "        text-align: right;\n",
       "    }\n",
       "</style>\n",
       "<table border=\"1\" class=\"dataframe\">\n",
       "  <thead>\n",
       "    <tr style=\"text-align: right;\">\n",
       "      <th></th>\n",
       "      <th>DateCrawled</th>\n",
       "      <th>Price</th>\n",
       "      <th>VehicleType</th>\n",
       "      <th>RegistrationYear</th>\n",
       "      <th>Gearbox</th>\n",
       "      <th>Power</th>\n",
       "      <th>Model</th>\n",
       "      <th>Kilometer</th>\n",
       "      <th>RegistrationMonth</th>\n",
       "      <th>FuelType</th>\n",
       "      <th>Brand</th>\n",
       "      <th>Repaired</th>\n",
       "      <th>DateCreated</th>\n",
       "      <th>NumberOfPictures</th>\n",
       "      <th>PostalCode</th>\n",
       "      <th>LastSeen</th>\n",
       "    </tr>\n",
       "  </thead>\n",
       "  <tbody>\n",
       "    <tr>\n",
       "      <th>1</th>\n",
       "      <td>2016-03-24 10:58:45</td>\n",
       "      <td>18300</td>\n",
       "      <td>coupe</td>\n",
       "      <td>2011</td>\n",
       "      <td>manual</td>\n",
       "      <td>190</td>\n",
       "      <td>NaN</td>\n",
       "      <td>125000</td>\n",
       "      <td>5</td>\n",
       "      <td>gasoline</td>\n",
       "      <td>audi</td>\n",
       "      <td>yes</td>\n",
       "      <td>2016-03-24 00:00:00</td>\n",
       "      <td>0</td>\n",
       "      <td>66954</td>\n",
       "      <td>2016-04-07 01:46:50</td>\n",
       "    </tr>\n",
       "    <tr>\n",
       "      <th>14</th>\n",
       "      <td>2016-03-21 12:57:01</td>\n",
       "      <td>17999</td>\n",
       "      <td>suv</td>\n",
       "      <td>2011</td>\n",
       "      <td>manual</td>\n",
       "      <td>190</td>\n",
       "      <td>navara</td>\n",
       "      <td>70000</td>\n",
       "      <td>3</td>\n",
       "      <td>gasoline</td>\n",
       "      <td>nissan</td>\n",
       "      <td>no</td>\n",
       "      <td>2016-03-21 00:00:00</td>\n",
       "      <td>0</td>\n",
       "      <td>4177</td>\n",
       "      <td>2016-04-06 07:45:42</td>\n",
       "    </tr>\n",
       "    <tr>\n",
       "      <th>33</th>\n",
       "      <td>2016-03-25 21:48:47</td>\n",
       "      <td>18000</td>\n",
       "      <td>sedan</td>\n",
       "      <td>2007</td>\n",
       "      <td>auto</td>\n",
       "      <td>218</td>\n",
       "      <td>3er</td>\n",
       "      <td>20000</td>\n",
       "      <td>5</td>\n",
       "      <td>petrol</td>\n",
       "      <td>bmw</td>\n",
       "      <td>no</td>\n",
       "      <td>2016-03-25 00:00:00</td>\n",
       "      <td>0</td>\n",
       "      <td>39179</td>\n",
       "      <td>2016-04-07 04:45:21</td>\n",
       "    </tr>\n",
       "    <tr>\n",
       "      <th>172</th>\n",
       "      <td>2016-03-07 12:38:19</td>\n",
       "      <td>19750</td>\n",
       "      <td>convertible</td>\n",
       "      <td>2006</td>\n",
       "      <td>manual</td>\n",
       "      <td>305</td>\n",
       "      <td>mustang</td>\n",
       "      <td>50000</td>\n",
       "      <td>7</td>\n",
       "      <td>petrol</td>\n",
       "      <td>ford</td>\n",
       "      <td>no</td>\n",
       "      <td>2016-03-07 00:00:00</td>\n",
       "      <td>0</td>\n",
       "      <td>38350</td>\n",
       "      <td>2016-03-12 20:18:29</td>\n",
       "    </tr>\n",
       "    <tr>\n",
       "      <th>179</th>\n",
       "      <td>2016-03-08 20:58:31</td>\n",
       "      <td>16449</td>\n",
       "      <td>wagon</td>\n",
       "      <td>2015</td>\n",
       "      <td>auto</td>\n",
       "      <td>110</td>\n",
       "      <td>fabia</td>\n",
       "      <td>10000</td>\n",
       "      <td>8</td>\n",
       "      <td>petrol</td>\n",
       "      <td>skoda</td>\n",
       "      <td>no</td>\n",
       "      <td>2016-03-08 00:00:00</td>\n",
       "      <td>0</td>\n",
       "      <td>95502</td>\n",
       "      <td>2016-04-06 01:17:03</td>\n",
       "    </tr>\n",
       "  </tbody>\n",
       "</table>\n",
       "</div>"
      ],
      "text/plain": [
       "             DateCrawled  Price  VehicleType  RegistrationYear Gearbox  Power  \\\n",
       "1    2016-03-24 10:58:45  18300        coupe              2011  manual    190   \n",
       "14   2016-03-21 12:57:01  17999          suv              2011  manual    190   \n",
       "33   2016-03-25 21:48:47  18000        sedan              2007    auto    218   \n",
       "172  2016-03-07 12:38:19  19750  convertible              2006  manual    305   \n",
       "179  2016-03-08 20:58:31  16449        wagon              2015    auto    110   \n",
       "\n",
       "       Model  Kilometer  RegistrationMonth  FuelType   Brand Repaired  \\\n",
       "1        NaN     125000                  5  gasoline    audi      yes   \n",
       "14    navara      70000                  3  gasoline  nissan       no   \n",
       "33       3er      20000                  5    petrol     bmw       no   \n",
       "172  mustang      50000                  7    petrol    ford       no   \n",
       "179    fabia      10000                  8    petrol   skoda       no   \n",
       "\n",
       "             DateCreated  NumberOfPictures  PostalCode             LastSeen  \n",
       "1    2016-03-24 00:00:00                 0       66954  2016-04-07 01:46:50  \n",
       "14   2016-03-21 00:00:00                 0        4177  2016-04-06 07:45:42  \n",
       "33   2016-03-25 00:00:00                 0       39179  2016-04-07 04:45:21  \n",
       "172  2016-03-07 00:00:00                 0       38350  2016-03-12 20:18:29  \n",
       "179  2016-03-08 00:00:00                 0       95502  2016-04-06 01:17:03  "
      ]
     },
     "execution_count": 16,
     "metadata": {},
     "output_type": "execute_result"
    }
   ],
   "source": [
    "#Посмотрим какое количество автомобилей имеет цену больше 15 тыс. евро.\n",
    "\n",
    "raw_autos_price_greater_15 = raw_autos.query('Price > 15000')\n",
    "raw_autos_price_greater_15.head()"
   ]
  },
  {
   "cell_type": "code",
   "execution_count": 17,
   "metadata": {},
   "outputs": [
    {
     "name": "stdout",
     "output_type": "stream",
     "text": [
      "Количество автомобилей с ценой больше 15 тыс. евро: 14881\n",
      "Доля автомобилей с ценой больше 15 тыс. евро от общего количества: 4.2%\n"
     ]
    }
   ],
   "source": [
    "#Посмотрим какое количество значений.\n",
    "\n",
    "print(f'Количество автомобилей с ценой больше 15 тыс. евро: {len(raw_autos_price_greater_15)}')\n",
    "print(f'Доля автомобилей с ценой больше 15 тыс. евро от общего количества: {round(len(raw_autos_price_greater_15) / len(raw_autos) * 100, 2)}%')"
   ]
  },
  {
   "cell_type": "markdown",
   "metadata": {},
   "source": [
    "В размах усов попадают нормальные значения, за пределами находятся выборсы. После 15 тыс. евро, идут выбросы. 4.2% выбросов, не так много. Мы их оставим чтобы модель Машинного Обучения определяла эти случаи."
   ]
  },
  {
   "cell_type": "code",
   "execution_count": 18,
   "metadata": {},
   "outputs": [
    {
     "data": {
      "text/html": [
       "<div>\n",
       "<style scoped>\n",
       "    .dataframe tbody tr th:only-of-type {\n",
       "        vertical-align: middle;\n",
       "    }\n",
       "\n",
       "    .dataframe tbody tr th {\n",
       "        vertical-align: top;\n",
       "    }\n",
       "\n",
       "    .dataframe thead th {\n",
       "        text-align: right;\n",
       "    }\n",
       "</style>\n",
       "<table border=\"1\" class=\"dataframe\">\n",
       "  <thead>\n",
       "    <tr style=\"text-align: right;\">\n",
       "      <th></th>\n",
       "      <th>DateCrawled</th>\n",
       "      <th>Price</th>\n",
       "      <th>VehicleType</th>\n",
       "      <th>RegistrationYear</th>\n",
       "      <th>Gearbox</th>\n",
       "      <th>Power</th>\n",
       "      <th>Model</th>\n",
       "      <th>Kilometer</th>\n",
       "      <th>RegistrationMonth</th>\n",
       "      <th>FuelType</th>\n",
       "      <th>Brand</th>\n",
       "      <th>Repaired</th>\n",
       "      <th>DateCreated</th>\n",
       "      <th>NumberOfPictures</th>\n",
       "      <th>PostalCode</th>\n",
       "      <th>LastSeen</th>\n",
       "    </tr>\n",
       "  </thead>\n",
       "  <tbody>\n",
       "    <tr>\n",
       "      <th>7</th>\n",
       "      <td>2016-03-21 18:54:38</td>\n",
       "      <td>0</td>\n",
       "      <td>sedan</td>\n",
       "      <td>1980</td>\n",
       "      <td>manual</td>\n",
       "      <td>50</td>\n",
       "      <td>other</td>\n",
       "      <td>40000</td>\n",
       "      <td>7</td>\n",
       "      <td>petrol</td>\n",
       "      <td>volkswagen</td>\n",
       "      <td>no</td>\n",
       "      <td>2016-03-21 00:00:00</td>\n",
       "      <td>0</td>\n",
       "      <td>19348</td>\n",
       "      <td>2016-03-25 16:47:58</td>\n",
       "    </tr>\n",
       "    <tr>\n",
       "      <th>40</th>\n",
       "      <td>2016-03-26 22:06:17</td>\n",
       "      <td>0</td>\n",
       "      <td>NaN</td>\n",
       "      <td>1990</td>\n",
       "      <td>NaN</td>\n",
       "      <td>0</td>\n",
       "      <td>corsa</td>\n",
       "      <td>150000</td>\n",
       "      <td>1</td>\n",
       "      <td>petrol</td>\n",
       "      <td>opel</td>\n",
       "      <td>NaN</td>\n",
       "      <td>2016-03-26 00:00:00</td>\n",
       "      <td>0</td>\n",
       "      <td>56412</td>\n",
       "      <td>2016-03-27 17:43:34</td>\n",
       "    </tr>\n",
       "    <tr>\n",
       "      <th>111</th>\n",
       "      <td>2016-03-19 18:40:12</td>\n",
       "      <td>0</td>\n",
       "      <td>NaN</td>\n",
       "      <td>2017</td>\n",
       "      <td>manual</td>\n",
       "      <td>0</td>\n",
       "      <td>golf</td>\n",
       "      <td>5000</td>\n",
       "      <td>12</td>\n",
       "      <td>petrol</td>\n",
       "      <td>volkswagen</td>\n",
       "      <td>NaN</td>\n",
       "      <td>2016-03-19 00:00:00</td>\n",
       "      <td>0</td>\n",
       "      <td>21698</td>\n",
       "      <td>2016-04-01 08:47:05</td>\n",
       "    </tr>\n",
       "    <tr>\n",
       "      <th>115</th>\n",
       "      <td>2016-03-20 18:53:27</td>\n",
       "      <td>0</td>\n",
       "      <td>small</td>\n",
       "      <td>1999</td>\n",
       "      <td>NaN</td>\n",
       "      <td>0</td>\n",
       "      <td>NaN</td>\n",
       "      <td>5000</td>\n",
       "      <td>0</td>\n",
       "      <td>petrol</td>\n",
       "      <td>volkswagen</td>\n",
       "      <td>NaN</td>\n",
       "      <td>2016-03-20 00:00:00</td>\n",
       "      <td>0</td>\n",
       "      <td>37520</td>\n",
       "      <td>2016-04-07 02:45:22</td>\n",
       "    </tr>\n",
       "    <tr>\n",
       "      <th>152</th>\n",
       "      <td>2016-03-11 18:55:53</td>\n",
       "      <td>0</td>\n",
       "      <td>bus</td>\n",
       "      <td>2004</td>\n",
       "      <td>manual</td>\n",
       "      <td>101</td>\n",
       "      <td>meriva</td>\n",
       "      <td>150000</td>\n",
       "      <td>10</td>\n",
       "      <td>lpg</td>\n",
       "      <td>opel</td>\n",
       "      <td>yes</td>\n",
       "      <td>2016-03-11 00:00:00</td>\n",
       "      <td>0</td>\n",
       "      <td>27432</td>\n",
       "      <td>2016-03-12 23:47:10</td>\n",
       "    </tr>\n",
       "  </tbody>\n",
       "</table>\n",
       "</div>"
      ],
      "text/plain": [
       "             DateCrawled  Price VehicleType  RegistrationYear Gearbox  Power  \\\n",
       "7    2016-03-21 18:54:38      0       sedan              1980  manual     50   \n",
       "40   2016-03-26 22:06:17      0         NaN              1990     NaN      0   \n",
       "111  2016-03-19 18:40:12      0         NaN              2017  manual      0   \n",
       "115  2016-03-20 18:53:27      0       small              1999     NaN      0   \n",
       "152  2016-03-11 18:55:53      0         bus              2004  manual    101   \n",
       "\n",
       "      Model  Kilometer  RegistrationMonth FuelType       Brand Repaired  \\\n",
       "7     other      40000                  7   petrol  volkswagen       no   \n",
       "40    corsa     150000                  1   petrol        opel      NaN   \n",
       "111    golf       5000                 12   petrol  volkswagen      NaN   \n",
       "115     NaN       5000                  0   petrol  volkswagen      NaN   \n",
       "152  meriva     150000                 10      lpg        opel      yes   \n",
       "\n",
       "             DateCreated  NumberOfPictures  PostalCode             LastSeen  \n",
       "7    2016-03-21 00:00:00                 0       19348  2016-03-25 16:47:58  \n",
       "40   2016-03-26 00:00:00                 0       56412  2016-03-27 17:43:34  \n",
       "111  2016-03-19 00:00:00                 0       21698  2016-04-01 08:47:05  \n",
       "115  2016-03-20 00:00:00                 0       37520  2016-04-07 02:45:22  \n",
       "152  2016-03-11 00:00:00                 0       27432  2016-03-12 23:47:10  "
      ]
     },
     "execution_count": 18,
     "metadata": {},
     "output_type": "execute_result"
    }
   ],
   "source": [
    "#Посмотрим какие автомобили имеют цену 0 рублей.\n",
    "raw_autos_price_zero = raw_autos.query('Price == 0')\n",
    "raw_autos_price_zero.head()"
   ]
  },
  {
   "cell_type": "code",
   "execution_count": 19,
   "metadata": {},
   "outputs": [
    {
     "name": "stdout",
     "output_type": "stream",
     "text": [
      "Количество автомобилей с ценой 0 евро: 10772\n",
      "Доля автомобилей с ценой 0 евро от общего количества: 3.04%\n"
     ]
    }
   ],
   "source": [
    "#Посмотрим какое количество значений.\n",
    "print(f'Количество автомобилей с ценой 0 евро: {len(raw_autos_price_zero)}')\n",
    "print(f'Доля автомобилей с ценой 0 евро от общего количества: {round(len(raw_autos_price_zero) / len(raw_autos) * 100, 2)}%')"
   ]
  },
  {
   "cell_type": "markdown",
   "metadata": {},
   "source": [
    "3.04% доля автомобилей с ценой 0 евро. Предполагаю, что либо это ошибка в системе, которую надо сообщить разработчикам или менеджеру. Думаю, мы уберём обьекты с ценой 0 евро на этапе предобработки данных."
   ]
  },
  {
   "cell_type": "markdown",
   "metadata": {},
   "source": [
    "<div class=\"alert alert-block alert-success\">\n",
    "<b>✔️ Успех:</b> 👍\n",
    "</div>"
   ]
  },
  {
   "cell_type": "markdown",
   "metadata": {},
   "source": [
    "#### Пробег"
   ]
  },
  {
   "cell_type": "code",
   "execution_count": 20,
   "metadata": {},
   "outputs": [
    {
     "data": {
      "image/png": "[encoded data removed]",
      "text/plain": [
       "<Figure size 1008x360 with 1 Axes>"
      ]
     },
     "metadata": {
      "needs_background": "light"
     },
     "output_type": "display_data"
    }
   ],
   "source": [
    "# Посмотрим на распределение пробега автомобилей\n",
    "drawDistributionPlot(raw_autos, \"Kilometer\", \"Распределение пробега автомобилей\", \"Пробег км.\", \"Количество автомобилей\")"
   ]
  },
  {
   "cell_type": "markdown",
   "metadata": {},
   "source": [
    "Заметим что, большинство автомоблией имеют пробег 140-150 тыс. км. Ошибка ли это в системе? Возможно, максимальное значение которое можно постать было 150 тыс. км не больше. Необходимо сообщить руководству об ошибке."
   ]
  },
  {
   "cell_type": "markdown",
   "metadata": {},
   "source": [
    "<div class=\"alert alert-block alert-success\">\n",
    "<b>✔️ Успех:</b> 👍\n",
    "</div>"
   ]
  },
  {
   "cell_type": "markdown",
   "metadata": {},
   "source": [
    "#### Мощность"
   ]
  },
  {
   "cell_type": "code",
   "execution_count": 21,
   "metadata": {},
   "outputs": [
    {
     "data": {
      "text/html": [
       "<div>\n",
       "<style scoped>\n",
       "    .dataframe tbody tr th:only-of-type {\n",
       "        vertical-align: middle;\n",
       "    }\n",
       "\n",
       "    .dataframe tbody tr th {\n",
       "        vertical-align: top;\n",
       "    }\n",
       "\n",
       "    .dataframe thead th {\n",
       "        text-align: right;\n",
       "    }\n",
       "</style>\n",
       "<table border=\"1\" class=\"dataframe\">\n",
       "  <thead>\n",
       "    <tr style=\"text-align: right;\">\n",
       "      <th></th>\n",
       "      <th>DateCrawled</th>\n",
       "      <th>Price</th>\n",
       "      <th>VehicleType</th>\n",
       "      <th>RegistrationYear</th>\n",
       "      <th>Gearbox</th>\n",
       "      <th>Power</th>\n",
       "      <th>Model</th>\n",
       "      <th>Kilometer</th>\n",
       "      <th>RegistrationMonth</th>\n",
       "      <th>FuelType</th>\n",
       "      <th>Brand</th>\n",
       "      <th>Repaired</th>\n",
       "      <th>DateCreated</th>\n",
       "      <th>NumberOfPictures</th>\n",
       "      <th>PostalCode</th>\n",
       "      <th>LastSeen</th>\n",
       "    </tr>\n",
       "  </thead>\n",
       "  <tbody>\n",
       "    <tr>\n",
       "      <th>0</th>\n",
       "      <td>2016-03-24 11:52:17</td>\n",
       "      <td>480</td>\n",
       "      <td>NaN</td>\n",
       "      <td>1993</td>\n",
       "      <td>manual</td>\n",
       "      <td>0</td>\n",
       "      <td>golf</td>\n",
       "      <td>150000</td>\n",
       "      <td>0</td>\n",
       "      <td>petrol</td>\n",
       "      <td>volkswagen</td>\n",
       "      <td>NaN</td>\n",
       "      <td>2016-03-24 00:00:00</td>\n",
       "      <td>0</td>\n",
       "      <td>70435</td>\n",
       "      <td>2016-04-07 03:16:57</td>\n",
       "    </tr>\n",
       "    <tr>\n",
       "      <th>15</th>\n",
       "      <td>2016-03-11 21:39:15</td>\n",
       "      <td>450</td>\n",
       "      <td>small</td>\n",
       "      <td>1910</td>\n",
       "      <td>NaN</td>\n",
       "      <td>0</td>\n",
       "      <td>ka</td>\n",
       "      <td>5000</td>\n",
       "      <td>0</td>\n",
       "      <td>petrol</td>\n",
       "      <td>ford</td>\n",
       "      <td>NaN</td>\n",
       "      <td>2016-03-11 00:00:00</td>\n",
       "      <td>0</td>\n",
       "      <td>24148</td>\n",
       "      <td>2016-03-19 08:46:47</td>\n",
       "    </tr>\n",
       "    <tr>\n",
       "      <th>32</th>\n",
       "      <td>2016-03-15 20:59:01</td>\n",
       "      <td>245</td>\n",
       "      <td>sedan</td>\n",
       "      <td>1994</td>\n",
       "      <td>NaN</td>\n",
       "      <td>0</td>\n",
       "      <td>golf</td>\n",
       "      <td>150000</td>\n",
       "      <td>2</td>\n",
       "      <td>petrol</td>\n",
       "      <td>volkswagen</td>\n",
       "      <td>no</td>\n",
       "      <td>2016-03-15 00:00:00</td>\n",
       "      <td>0</td>\n",
       "      <td>44145</td>\n",
       "      <td>2016-03-17 18:17:43</td>\n",
       "    </tr>\n",
       "    <tr>\n",
       "      <th>37</th>\n",
       "      <td>2016-03-28 17:50:15</td>\n",
       "      <td>1500</td>\n",
       "      <td>NaN</td>\n",
       "      <td>2016</td>\n",
       "      <td>NaN</td>\n",
       "      <td>0</td>\n",
       "      <td>kangoo</td>\n",
       "      <td>150000</td>\n",
       "      <td>1</td>\n",
       "      <td>gasoline</td>\n",
       "      <td>renault</td>\n",
       "      <td>no</td>\n",
       "      <td>2016-03-28 00:00:00</td>\n",
       "      <td>0</td>\n",
       "      <td>46483</td>\n",
       "      <td>2016-03-30 09:18:02</td>\n",
       "    </tr>\n",
       "    <tr>\n",
       "      <th>40</th>\n",
       "      <td>2016-03-26 22:06:17</td>\n",
       "      <td>0</td>\n",
       "      <td>NaN</td>\n",
       "      <td>1990</td>\n",
       "      <td>NaN</td>\n",
       "      <td>0</td>\n",
       "      <td>corsa</td>\n",
       "      <td>150000</td>\n",
       "      <td>1</td>\n",
       "      <td>petrol</td>\n",
       "      <td>opel</td>\n",
       "      <td>NaN</td>\n",
       "      <td>2016-03-26 00:00:00</td>\n",
       "      <td>0</td>\n",
       "      <td>56412</td>\n",
       "      <td>2016-03-27 17:43:34</td>\n",
       "    </tr>\n",
       "  </tbody>\n",
       "</table>\n",
       "</div>"
      ],
      "text/plain": [
       "            DateCrawled  Price VehicleType  RegistrationYear Gearbox  Power  \\\n",
       "0   2016-03-24 11:52:17    480         NaN              1993  manual      0   \n",
       "15  2016-03-11 21:39:15    450       small              1910     NaN      0   \n",
       "32  2016-03-15 20:59:01    245       sedan              1994     NaN      0   \n",
       "37  2016-03-28 17:50:15   1500         NaN              2016     NaN      0   \n",
       "40  2016-03-26 22:06:17      0         NaN              1990     NaN      0   \n",
       "\n",
       "     Model  Kilometer  RegistrationMonth  FuelType       Brand Repaired  \\\n",
       "0     golf     150000                  0    petrol  volkswagen      NaN   \n",
       "15      ka       5000                  0    petrol        ford      NaN   \n",
       "32    golf     150000                  2    petrol  volkswagen       no   \n",
       "37  kangoo     150000                  1  gasoline     renault       no   \n",
       "40   corsa     150000                  1    petrol        opel      NaN   \n",
       "\n",
       "            DateCreated  NumberOfPictures  PostalCode             LastSeen  \n",
       "0   2016-03-24 00:00:00                 0       70435  2016-04-07 03:16:57  \n",
       "15  2016-03-11 00:00:00                 0       24148  2016-03-19 08:46:47  \n",
       "32  2016-03-15 00:00:00                 0       44145  2016-03-17 18:17:43  \n",
       "37  2016-03-28 00:00:00                 0       46483  2016-03-30 09:18:02  \n",
       "40  2016-03-26 00:00:00                 0       56412  2016-03-27 17:43:34  "
      ]
     },
     "execution_count": 21,
     "metadata": {},
     "output_type": "execute_result"
    }
   ],
   "source": [
    "#Посмотрим на автомобили с мощностью 0 л.с\n",
    "\n",
    "raw_autos_power_zero = raw_autos.query('Power == 0')\n",
    "\n",
    "raw_autos_power_zero.head()"
   ]
  },
  {
   "cell_type": "code",
   "execution_count": 22,
   "metadata": {},
   "outputs": [
    {
     "name": "stdout",
     "output_type": "stream",
     "text": [
      "Количество автомобилей с мощностью 0 л.с: 40225\n",
      "Доля автомобилей с мощностью 0 л.с от общего количества: 11.35%\n"
     ]
    }
   ],
   "source": [
    "#Посмотрим какое количество значений.\n",
    "\n",
    "print(f'Количество автомобилей с мощностью 0 л.с: {len(raw_autos_power_zero)}')\n",
    "print(f'Доля автомобилей с мощностью 0 л.с от общего количества: {round(len(raw_autos_power_zero) / len(raw_autos) * 100, 2)}%')"
   ]
  },
  {
   "cell_type": "markdown",
   "metadata": {},
   "source": [
    "Доля составляет 11.35%. Скорее всего тут ошибка системы. Необходимо сообщить об этой ошибке руководству. Необходимо предобработать такие данные."
   ]
  },
  {
   "cell_type": "code",
   "execution_count": 23,
   "metadata": {},
   "outputs": [
    {
     "data": {
      "text/html": [
       "<div>\n",
       "<style scoped>\n",
       "    .dataframe tbody tr th:only-of-type {\n",
       "        vertical-align: middle;\n",
       "    }\n",
       "\n",
       "    .dataframe tbody tr th {\n",
       "        vertical-align: top;\n",
       "    }\n",
       "\n",
       "    .dataframe thead th {\n",
       "        text-align: right;\n",
       "    }\n",
       "</style>\n",
       "<table border=\"1\" class=\"dataframe\">\n",
       "  <thead>\n",
       "    <tr style=\"text-align: right;\">\n",
       "      <th></th>\n",
       "      <th>DateCrawled</th>\n",
       "      <th>Price</th>\n",
       "      <th>VehicleType</th>\n",
       "      <th>RegistrationYear</th>\n",
       "      <th>Gearbox</th>\n",
       "      <th>Power</th>\n",
       "      <th>Model</th>\n",
       "      <th>Kilometer</th>\n",
       "      <th>RegistrationMonth</th>\n",
       "      <th>FuelType</th>\n",
       "      <th>Brand</th>\n",
       "      <th>Repaired</th>\n",
       "      <th>DateCreated</th>\n",
       "      <th>NumberOfPictures</th>\n",
       "      <th>PostalCode</th>\n",
       "      <th>LastSeen</th>\n",
       "    </tr>\n",
       "  </thead>\n",
       "  <tbody>\n",
       "    <tr>\n",
       "      <th>219584</th>\n",
       "      <td>2016-03-09 15:43:53</td>\n",
       "      <td>4300</td>\n",
       "      <td>coupe</td>\n",
       "      <td>1999</td>\n",
       "      <td>auto</td>\n",
       "      <td>20000</td>\n",
       "      <td>clk</td>\n",
       "      <td>150000</td>\n",
       "      <td>1</td>\n",
       "      <td>petrol</td>\n",
       "      <td>mercedes_benz</td>\n",
       "      <td>no</td>\n",
       "      <td>2016-03-09 00:00:00</td>\n",
       "      <td>0</td>\n",
       "      <td>19406</td>\n",
       "      <td>2016-03-30 08:47:08</td>\n",
       "    </tr>\n",
       "  </tbody>\n",
       "</table>\n",
       "</div>"
      ],
      "text/plain": [
       "                DateCrawled  Price VehicleType  RegistrationYear Gearbox  \\\n",
       "219584  2016-03-09 15:43:53   4300       coupe              1999    auto   \n",
       "\n",
       "        Power Model  Kilometer  RegistrationMonth FuelType          Brand  \\\n",
       "219584  20000   clk     150000                  1   petrol  mercedes_benz   \n",
       "\n",
       "       Repaired          DateCreated  NumberOfPictures  PostalCode  \\\n",
       "219584       no  2016-03-09 00:00:00                 0       19406   \n",
       "\n",
       "                   LastSeen  \n",
       "219584  2016-03-30 08:47:08  "
      ]
     },
     "execution_count": 23,
     "metadata": {},
     "output_type": "execute_result"
    }
   ],
   "source": [
    "#Посмотрим на автомобиль с максимальным значением в мощности.\n",
    "raw_autos_power_2000 = raw_autos.query('Power == 20000')\n",
    "raw_autos_power_2000"
   ]
  },
  {
   "cell_type": "markdown",
   "metadata": {},
   "source": [
    "Скорее всего пользователь тут опечатлся в поле мощности автомобиля при регистрации."
   ]
  },
  {
   "cell_type": "markdown",
   "metadata": {},
   "source": [
    "<div class=\"alert alert-block alert-success\">\n",
    "<b>✔️ Успех:</b> 👍\n",
    "</div>"
   ]
  },
  {
   "cell_type": "markdown",
   "metadata": {},
   "source": [
    "#### Регистрация автомобиля"
   ]
  },
  {
   "cell_type": "code",
   "execution_count": 24,
   "metadata": {},
   "outputs": [
    {
     "data": {
      "text/html": [
       "<div>\n",
       "<style scoped>\n",
       "    .dataframe tbody tr th:only-of-type {\n",
       "        vertical-align: middle;\n",
       "    }\n",
       "\n",
       "    .dataframe tbody tr th {\n",
       "        vertical-align: top;\n",
       "    }\n",
       "\n",
       "    .dataframe thead th {\n",
       "        text-align: right;\n",
       "    }\n",
       "</style>\n",
       "<table border=\"1\" class=\"dataframe\">\n",
       "  <thead>\n",
       "    <tr style=\"text-align: right;\">\n",
       "      <th></th>\n",
       "      <th>DateCrawled</th>\n",
       "      <th>Price</th>\n",
       "      <th>VehicleType</th>\n",
       "      <th>RegistrationYear</th>\n",
       "      <th>Gearbox</th>\n",
       "      <th>Power</th>\n",
       "      <th>Model</th>\n",
       "      <th>Kilometer</th>\n",
       "      <th>RegistrationMonth</th>\n",
       "      <th>FuelType</th>\n",
       "      <th>Brand</th>\n",
       "      <th>Repaired</th>\n",
       "      <th>DateCreated</th>\n",
       "      <th>NumberOfPictures</th>\n",
       "      <th>PostalCode</th>\n",
       "      <th>LastSeen</th>\n",
       "    </tr>\n",
       "  </thead>\n",
       "  <tbody>\n",
       "    <tr>\n",
       "      <th>16062</th>\n",
       "      <td>2016-03-29 23:42:16</td>\n",
       "      <td>190</td>\n",
       "      <td>NaN</td>\n",
       "      <td>1000</td>\n",
       "      <td>NaN</td>\n",
       "      <td>0</td>\n",
       "      <td>mondeo</td>\n",
       "      <td>5000</td>\n",
       "      <td>0</td>\n",
       "      <td>NaN</td>\n",
       "      <td>ford</td>\n",
       "      <td>NaN</td>\n",
       "      <td>2016-03-29 00:00:00</td>\n",
       "      <td>0</td>\n",
       "      <td>47166</td>\n",
       "      <td>2016-04-06 10:44:58</td>\n",
       "    </tr>\n",
       "    <tr>\n",
       "      <th>53577</th>\n",
       "      <td>2016-03-20 11:44:28</td>\n",
       "      <td>330</td>\n",
       "      <td>NaN</td>\n",
       "      <td>1000</td>\n",
       "      <td>NaN</td>\n",
       "      <td>0</td>\n",
       "      <td>polo</td>\n",
       "      <td>5000</td>\n",
       "      <td>0</td>\n",
       "      <td>NaN</td>\n",
       "      <td>volkswagen</td>\n",
       "      <td>NaN</td>\n",
       "      <td>2016-03-20 00:00:00</td>\n",
       "      <td>0</td>\n",
       "      <td>45259</td>\n",
       "      <td>2016-04-04 08:17:15</td>\n",
       "    </tr>\n",
       "    <tr>\n",
       "      <th>55605</th>\n",
       "      <td>2016-03-10 19:50:17</td>\n",
       "      <td>500</td>\n",
       "      <td>NaN</td>\n",
       "      <td>1000</td>\n",
       "      <td>NaN</td>\n",
       "      <td>0</td>\n",
       "      <td>NaN</td>\n",
       "      <td>5000</td>\n",
       "      <td>0</td>\n",
       "      <td>NaN</td>\n",
       "      <td>citroen</td>\n",
       "      <td>yes</td>\n",
       "      <td>2016-03-10 00:00:00</td>\n",
       "      <td>0</td>\n",
       "      <td>24811</td>\n",
       "      <td>2016-04-06 03:45:53</td>\n",
       "    </tr>\n",
       "    <tr>\n",
       "      <th>60017</th>\n",
       "      <td>2016-03-10 12:38:01</td>\n",
       "      <td>80</td>\n",
       "      <td>NaN</td>\n",
       "      <td>1000</td>\n",
       "      <td>NaN</td>\n",
       "      <td>0</td>\n",
       "      <td>NaN</td>\n",
       "      <td>5000</td>\n",
       "      <td>0</td>\n",
       "      <td>NaN</td>\n",
       "      <td>volkswagen</td>\n",
       "      <td>NaN</td>\n",
       "      <td>2016-03-10 00:00:00</td>\n",
       "      <td>0</td>\n",
       "      <td>93107</td>\n",
       "      <td>2016-04-07 04:45:57</td>\n",
       "    </tr>\n",
       "    <tr>\n",
       "      <th>66198</th>\n",
       "      <td>2016-03-08 14:50:20</td>\n",
       "      <td>1300</td>\n",
       "      <td>NaN</td>\n",
       "      <td>1000</td>\n",
       "      <td>auto</td>\n",
       "      <td>0</td>\n",
       "      <td>NaN</td>\n",
       "      <td>5000</td>\n",
       "      <td>6</td>\n",
       "      <td>petrol</td>\n",
       "      <td>sonstige_autos</td>\n",
       "      <td>NaN</td>\n",
       "      <td>2016-03-08 00:00:00</td>\n",
       "      <td>0</td>\n",
       "      <td>13156</td>\n",
       "      <td>2016-03-17 08:17:42</td>\n",
       "    </tr>\n",
       "  </tbody>\n",
       "</table>\n",
       "</div>"
      ],
      "text/plain": [
       "               DateCrawled  Price VehicleType  RegistrationYear Gearbox  \\\n",
       "16062  2016-03-29 23:42:16    190         NaN              1000     NaN   \n",
       "53577  2016-03-20 11:44:28    330         NaN              1000     NaN   \n",
       "55605  2016-03-10 19:50:17    500         NaN              1000     NaN   \n",
       "60017  2016-03-10 12:38:01     80         NaN              1000     NaN   \n",
       "66198  2016-03-08 14:50:20   1300         NaN              1000    auto   \n",
       "\n",
       "       Power   Model  Kilometer  RegistrationMonth FuelType           Brand  \\\n",
       "16062      0  mondeo       5000                  0      NaN            ford   \n",
       "53577      0    polo       5000                  0      NaN      volkswagen   \n",
       "55605      0     NaN       5000                  0      NaN         citroen   \n",
       "60017      0     NaN       5000                  0      NaN      volkswagen   \n",
       "66198      0     NaN       5000                  6   petrol  sonstige_autos   \n",
       "\n",
       "      Repaired          DateCreated  NumberOfPictures  PostalCode  \\\n",
       "16062      NaN  2016-03-29 00:00:00                 0       47166   \n",
       "53577      NaN  2016-03-20 00:00:00                 0       45259   \n",
       "55605      yes  2016-03-10 00:00:00                 0       24811   \n",
       "60017      NaN  2016-03-10 00:00:00                 0       93107   \n",
       "66198      NaN  2016-03-08 00:00:00                 0       13156   \n",
       "\n",
       "                  LastSeen  \n",
       "16062  2016-04-06 10:44:58  \n",
       "53577  2016-04-04 08:17:15  \n",
       "55605  2016-04-06 03:45:53  \n",
       "60017  2016-04-07 04:45:57  \n",
       "66198  2016-03-17 08:17:42  "
      ]
     },
     "execution_count": 24,
     "metadata": {},
     "output_type": "execute_result"
    }
   ],
   "source": [
    "\n",
    "raw_autos.query('RegistrationYear == 1000').head()"
   ]
  },
  {
   "cell_type": "markdown",
   "metadata": {},
   "source": [
    "Тут точно плохие данные. Уберём их на этапе предобработки"
   ]
  },
  {
   "cell_type": "code",
   "execution_count": 25,
   "metadata": {},
   "outputs": [
    {
     "data": {
      "text/html": [
       "<div>\n",
       "<style scoped>\n",
       "    .dataframe tbody tr th:only-of-type {\n",
       "        vertical-align: middle;\n",
       "    }\n",
       "\n",
       "    .dataframe tbody tr th {\n",
       "        vertical-align: top;\n",
       "    }\n",
       "\n",
       "    .dataframe thead th {\n",
       "        text-align: right;\n",
       "    }\n",
       "</style>\n",
       "<table border=\"1\" class=\"dataframe\">\n",
       "  <thead>\n",
       "    <tr style=\"text-align: right;\">\n",
       "      <th></th>\n",
       "      <th>DateCrawled</th>\n",
       "      <th>Price</th>\n",
       "      <th>VehicleType</th>\n",
       "      <th>RegistrationYear</th>\n",
       "      <th>Gearbox</th>\n",
       "      <th>Power</th>\n",
       "      <th>Model</th>\n",
       "      <th>Kilometer</th>\n",
       "      <th>RegistrationMonth</th>\n",
       "      <th>FuelType</th>\n",
       "      <th>Brand</th>\n",
       "      <th>Repaired</th>\n",
       "      <th>DateCreated</th>\n",
       "      <th>NumberOfPictures</th>\n",
       "      <th>PostalCode</th>\n",
       "      <th>LastSeen</th>\n",
       "    </tr>\n",
       "  </thead>\n",
       "  <tbody>\n",
       "    <tr>\n",
       "      <th>15147</th>\n",
       "      <td>2016-03-14 00:52:02</td>\n",
       "      <td>0</td>\n",
       "      <td>NaN</td>\n",
       "      <td>9999</td>\n",
       "      <td>NaN</td>\n",
       "      <td>0</td>\n",
       "      <td>NaN</td>\n",
       "      <td>10000</td>\n",
       "      <td>0</td>\n",
       "      <td>NaN</td>\n",
       "      <td>sonstige_autos</td>\n",
       "      <td>NaN</td>\n",
       "      <td>2016-03-13 00:00:00</td>\n",
       "      <td>0</td>\n",
       "      <td>32689</td>\n",
       "      <td>2016-03-21 23:46:46</td>\n",
       "    </tr>\n",
       "    <tr>\n",
       "      <th>17271</th>\n",
       "      <td>2016-03-23 16:43:29</td>\n",
       "      <td>700</td>\n",
       "      <td>NaN</td>\n",
       "      <td>9999</td>\n",
       "      <td>NaN</td>\n",
       "      <td>0</td>\n",
       "      <td>other</td>\n",
       "      <td>10000</td>\n",
       "      <td>0</td>\n",
       "      <td>NaN</td>\n",
       "      <td>opel</td>\n",
       "      <td>NaN</td>\n",
       "      <td>2016-03-23 00:00:00</td>\n",
       "      <td>0</td>\n",
       "      <td>21769</td>\n",
       "      <td>2016-04-05 20:16:15</td>\n",
       "    </tr>\n",
       "    <tr>\n",
       "      <th>28390</th>\n",
       "      <td>2016-04-05 08:57:08</td>\n",
       "      <td>799</td>\n",
       "      <td>NaN</td>\n",
       "      <td>9999</td>\n",
       "      <td>NaN</td>\n",
       "      <td>0</td>\n",
       "      <td>3er</td>\n",
       "      <td>10000</td>\n",
       "      <td>4</td>\n",
       "      <td>petrol</td>\n",
       "      <td>bmw</td>\n",
       "      <td>NaN</td>\n",
       "      <td>2016-04-05 00:00:00</td>\n",
       "      <td>0</td>\n",
       "      <td>72116</td>\n",
       "      <td>2016-04-07 12:17:50</td>\n",
       "    </tr>\n",
       "    <tr>\n",
       "      <th>28965</th>\n",
       "      <td>2016-04-04 22:54:47</td>\n",
       "      <td>18000</td>\n",
       "      <td>NaN</td>\n",
       "      <td>9999</td>\n",
       "      <td>NaN</td>\n",
       "      <td>0</td>\n",
       "      <td>a_klasse</td>\n",
       "      <td>10000</td>\n",
       "      <td>0</td>\n",
       "      <td>petrol</td>\n",
       "      <td>mercedes_benz</td>\n",
       "      <td>NaN</td>\n",
       "      <td>2016-04-04 00:00:00</td>\n",
       "      <td>0</td>\n",
       "      <td>51379</td>\n",
       "      <td>2016-04-07 02:44:52</td>\n",
       "    </tr>\n",
       "    <tr>\n",
       "      <th>29426</th>\n",
       "      <td>2016-03-23 21:52:25</td>\n",
       "      <td>7999</td>\n",
       "      <td>NaN</td>\n",
       "      <td>9999</td>\n",
       "      <td>NaN</td>\n",
       "      <td>0</td>\n",
       "      <td>kaefer</td>\n",
       "      <td>10000</td>\n",
       "      <td>0</td>\n",
       "      <td>NaN</td>\n",
       "      <td>volkswagen</td>\n",
       "      <td>NaN</td>\n",
       "      <td>2016-03-23 00:00:00</td>\n",
       "      <td>0</td>\n",
       "      <td>47638</td>\n",
       "      <td>2016-04-06 03:46:40</td>\n",
       "    </tr>\n",
       "  </tbody>\n",
       "</table>\n",
       "</div>"
      ],
      "text/plain": [
       "               DateCrawled  Price VehicleType  RegistrationYear Gearbox  \\\n",
       "15147  2016-03-14 00:52:02      0         NaN              9999     NaN   \n",
       "17271  2016-03-23 16:43:29    700         NaN              9999     NaN   \n",
       "28390  2016-04-05 08:57:08    799         NaN              9999     NaN   \n",
       "28965  2016-04-04 22:54:47  18000         NaN              9999     NaN   \n",
       "29426  2016-03-23 21:52:25   7999         NaN              9999     NaN   \n",
       "\n",
       "       Power     Model  Kilometer  RegistrationMonth FuelType           Brand  \\\n",
       "15147      0       NaN      10000                  0      NaN  sonstige_autos   \n",
       "17271      0     other      10000                  0      NaN            opel   \n",
       "28390      0       3er      10000                  4   petrol             bmw   \n",
       "28965      0  a_klasse      10000                  0   petrol   mercedes_benz   \n",
       "29426      0    kaefer      10000                  0      NaN      volkswagen   \n",
       "\n",
       "      Repaired          DateCreated  NumberOfPictures  PostalCode  \\\n",
       "15147      NaN  2016-03-13 00:00:00                 0       32689   \n",
       "17271      NaN  2016-03-23 00:00:00                 0       21769   \n",
       "28390      NaN  2016-04-05 00:00:00                 0       72116   \n",
       "28965      NaN  2016-04-04 00:00:00                 0       51379   \n",
       "29426      NaN  2016-03-23 00:00:00                 0       47638   \n",
       "\n",
       "                  LastSeen  \n",
       "15147  2016-03-21 23:46:46  \n",
       "17271  2016-04-05 20:16:15  \n",
       "28390  2016-04-07 12:17:50  \n",
       "28965  2016-04-07 02:44:52  \n",
       "29426  2016-04-06 03:46:40  "
      ]
     },
     "execution_count": 25,
     "metadata": {},
     "output_type": "execute_result"
    }
   ],
   "source": [
    "raw_autos.query('RegistrationYear == 9999').head()"
   ]
  },
  {
   "cell_type": "markdown",
   "metadata": {},
   "source": [
    "Тоже самое и с максимальным значением."
   ]
  },
  {
   "cell_type": "markdown",
   "metadata": {},
   "source": [
    "<div class=\"alert alert-block alert-success\">\n",
    "<b>✔️ Успех:</b> 👍\n",
    "</div>"
   ]
  },
  {
   "cell_type": "markdown",
   "metadata": {},
   "source": [
    "**Вывод**"
   ]
  },
  {
   "cell_type": "markdown",
   "metadata": {},
   "source": [
    "354369 обьекта в датафрейме. 16 столбцов. Большинство столбцов имеют тип object. Количество обьектов в каждом столбце различается. У нас есть пропущенные значения. Следовательно, необходимо предобработать данные. Также стоит заметить, что некоторые столбцы будут не нужны в постройке моделей, такие как: DateCrawled, DateCreated, NumberOfPictures, PostalCode, LastSeen. Есть аномальные значения в столбцах: RegistrationYear, Power, Kilometer. Также есть нулевые значения: NumberOfPictures, Price и пропущенные значения в столбцах VehicleType, Model, FuelType, NotRepaired. Данные сырые, надо их тщательно предобработать. Также, у нас есть столбцы с датой, нам нужно перевести их в правильный тип данных datetime."
   ]
  },
  {
   "cell_type": "markdown",
   "metadata": {},
   "source": [
    "<div class=\"alert alert-block alert-success\">\n",
    "<b>✔️ Успех:</b>\n",
    "\n",
    "Ты хорошо владеешь методами первичного анализа данных 👍 Спасибо за информативный вывод)\n",
    "</div>"
   ]
  },
  {
   "cell_type": "markdown",
   "metadata": {},
   "source": [
    "### Предобработка данных"
   ]
  },
  {
   "cell_type": "markdown",
   "metadata": {},
   "source": [
    "#### Обработка столбцов"
   ]
  },
  {
   "cell_type": "code",
   "execution_count": 26,
   "metadata": {},
   "outputs": [],
   "source": [
    "#Переведём все наименования столбцов в нижний регистр. Напишем функцию.\n",
    "def snake_case(s):\n",
    "    \"\"\"\n",
    "    Преобразование строк из camelCase в snake_case.\n",
    "    s - строка имя столбца\n",
    "    \"\"\"\n",
    "    return ''.join('_' + c.lower()\n",
    "                   if all([i != 0,\n",
    "                           c.isupper(),\n",
    "                           s[i - 1].islower()])\n",
    "                   else c.lower()\n",
    "                   for i, c in enumerate(s))"
   ]
  },
  {
   "cell_type": "code",
   "execution_count": 27,
   "metadata": {},
   "outputs": [
    {
     "data": {
      "text/plain": [
       "Index(['date_crawled', 'price', 'vehicle_type', 'registration_year', 'gearbox',\n",
       "       'power', 'model', 'kilometer', 'registration_month', 'fuel_type',\n",
       "       'brand', 'repaired', 'date_created', 'number_of_pictures',\n",
       "       'postal_code', 'last_seen'],\n",
       "      dtype='object')"
      ]
     },
     "execution_count": 27,
     "metadata": {},
     "output_type": "execute_result"
    }
   ],
   "source": [
    "# Преобразуем колонки в snake_case\n",
    "raw_autos.columns = map(snake_case, raw_autos.columns)\n",
    "raw_autos.columns"
   ]
  },
  {
   "cell_type": "markdown",
   "metadata": {},
   "source": [
    "<div class=\"alert alert-block alert-success\">\n",
    "<b>✔️ Успех:</b> \n",
    "\n",
    "Работать с такими названиями гораздо удобнее 👍🏻\n",
    "</div>"
   ]
  },
  {
   "cell_type": "markdown",
   "metadata": {},
   "source": [
    "#### Удаление лишних столбцов"
   ]
  },
  {
   "cell_type": "code",
   "execution_count": 28,
   "metadata": {},
   "outputs": [
    {
     "data": {
      "text/html": [
       "<div>\n",
       "<style scoped>\n",
       "    .dataframe tbody tr th:only-of-type {\n",
       "        vertical-align: middle;\n",
       "    }\n",
       "\n",
       "    .dataframe tbody tr th {\n",
       "        vertical-align: top;\n",
       "    }\n",
       "\n",
       "    .dataframe thead th {\n",
       "        text-align: right;\n",
       "    }\n",
       "</style>\n",
       "<table border=\"1\" class=\"dataframe\">\n",
       "  <thead>\n",
       "    <tr style=\"text-align: right;\">\n",
       "      <th></th>\n",
       "      <th>price</th>\n",
       "      <th>vehicle_type</th>\n",
       "      <th>registration_year</th>\n",
       "      <th>gearbox</th>\n",
       "      <th>power</th>\n",
       "      <th>model</th>\n",
       "      <th>kilometer</th>\n",
       "      <th>registration_month</th>\n",
       "      <th>fuel_type</th>\n",
       "      <th>brand</th>\n",
       "      <th>repaired</th>\n",
       "    </tr>\n",
       "  </thead>\n",
       "  <tbody>\n",
       "    <tr>\n",
       "      <th>0</th>\n",
       "      <td>480</td>\n",
       "      <td>NaN</td>\n",
       "      <td>1993</td>\n",
       "      <td>manual</td>\n",
       "      <td>0</td>\n",
       "      <td>golf</td>\n",
       "      <td>150000</td>\n",
       "      <td>0</td>\n",
       "      <td>petrol</td>\n",
       "      <td>volkswagen</td>\n",
       "      <td>NaN</td>\n",
       "    </tr>\n",
       "    <tr>\n",
       "      <th>1</th>\n",
       "      <td>18300</td>\n",
       "      <td>coupe</td>\n",
       "      <td>2011</td>\n",
       "      <td>manual</td>\n",
       "      <td>190</td>\n",
       "      <td>NaN</td>\n",
       "      <td>125000</td>\n",
       "      <td>5</td>\n",
       "      <td>gasoline</td>\n",
       "      <td>audi</td>\n",
       "      <td>yes</td>\n",
       "    </tr>\n",
       "    <tr>\n",
       "      <th>2</th>\n",
       "      <td>9800</td>\n",
       "      <td>suv</td>\n",
       "      <td>2004</td>\n",
       "      <td>auto</td>\n",
       "      <td>163</td>\n",
       "      <td>grand</td>\n",
       "      <td>125000</td>\n",
       "      <td>8</td>\n",
       "      <td>gasoline</td>\n",
       "      <td>jeep</td>\n",
       "      <td>NaN</td>\n",
       "    </tr>\n",
       "    <tr>\n",
       "      <th>3</th>\n",
       "      <td>1500</td>\n",
       "      <td>small</td>\n",
       "      <td>2001</td>\n",
       "      <td>manual</td>\n",
       "      <td>75</td>\n",
       "      <td>golf</td>\n",
       "      <td>150000</td>\n",
       "      <td>6</td>\n",
       "      <td>petrol</td>\n",
       "      <td>volkswagen</td>\n",
       "      <td>no</td>\n",
       "    </tr>\n",
       "    <tr>\n",
       "      <th>4</th>\n",
       "      <td>3600</td>\n",
       "      <td>small</td>\n",
       "      <td>2008</td>\n",
       "      <td>manual</td>\n",
       "      <td>69</td>\n",
       "      <td>fabia</td>\n",
       "      <td>90000</td>\n",
       "      <td>7</td>\n",
       "      <td>gasoline</td>\n",
       "      <td>skoda</td>\n",
       "      <td>no</td>\n",
       "    </tr>\n",
       "  </tbody>\n",
       "</table>\n",
       "</div>"
      ],
      "text/plain": [
       "   price vehicle_type  registration_year gearbox  power  model  kilometer  \\\n",
       "0    480          NaN               1993  manual      0   golf     150000   \n",
       "1  18300        coupe               2011  manual    190    NaN     125000   \n",
       "2   9800          suv               2004    auto    163  grand     125000   \n",
       "3   1500        small               2001  manual     75   golf     150000   \n",
       "4   3600        small               2008  manual     69  fabia      90000   \n",
       "\n",
       "   registration_month fuel_type       brand repaired  \n",
       "0                   0    petrol  volkswagen      NaN  \n",
       "1                   5  gasoline        audi      yes  \n",
       "2                   8  gasoline        jeep      NaN  \n",
       "3                   6    petrol  volkswagen       no  \n",
       "4                   7  gasoline       skoda       no  "
      ]
     },
     "execution_count": 28,
     "metadata": {},
     "output_type": "execute_result"
    }
   ],
   "source": [
    "#Уберём лишние столбцы: DateCrawled, DateCreated, NumberOfPictures, PostalCode, LastSeen.\n",
    "raw_autos = raw_autos.drop(['date_crawled','date_created' ,'number_of_pictures', 'postal_code', 'last_seen'], axis=1)\n",
    "raw_autos.head()"
   ]
  },
  {
   "cell_type": "markdown",
   "metadata": {},
   "source": [
    "<div class=\"alert alert-block alert-success\">\n",
    "<b>✔️ Успех:</b>\n",
    "\n",
    "Удалить неинформативные признаки - хорошее решение 👍\n",
    "</div>"
   ]
  },
  {
   "cell_type": "markdown",
   "metadata": {},
   "source": [
    "#### Обработка пропущенных значений"
   ]
  },
  {
   "cell_type": "code",
   "execution_count": 29,
   "metadata": {},
   "outputs": [
    {
     "data": {
      "text/plain": [
       "price                     0\n",
       "vehicle_type          37490\n",
       "registration_year         0\n",
       "gearbox               19833\n",
       "power                     0\n",
       "model                 19705\n",
       "kilometer                 0\n",
       "registration_month        0\n",
       "fuel_type             32895\n",
       "brand                     0\n",
       "repaired              71154\n",
       "dtype: int64"
      ]
     },
     "execution_count": 29,
     "metadata": {},
     "output_type": "execute_result"
    }
   ],
   "source": [
    "#Посмотрим сколько пропущенных значений в данных. Воспользуемся набором методов isna() и sum().\n",
    "raw_autos.isna().sum()"
   ]
  },
  {
   "cell_type": "markdown",
   "metadata": {},
   "source": [
    "У нас есть пропущенные значения в следующих столбцах: vehicle_type, gearbox, model, fuel_type, repaired."
   ]
  },
  {
   "cell_type": "code",
   "execution_count": 30,
   "metadata": {},
   "outputs": [],
   "source": [
    "#Создадим копию датафрейма\n",
    "\n",
    "raw_autos_copy = raw_autos.copy()"
   ]
  },
  {
   "cell_type": "code",
   "execution_count": 31,
   "metadata": {},
   "outputs": [
    {
     "data": {
      "text/plain": [
       "price                 0\n",
       "vehicle_type          0\n",
       "registration_year     0\n",
       "gearbox               0\n",
       "power                 0\n",
       "model                 0\n",
       "kilometer             0\n",
       "registration_month    0\n",
       "fuel_type             0\n",
       "brand                 0\n",
       "repaired              0\n",
       "dtype: int64"
      ]
     },
     "execution_count": 31,
     "metadata": {},
     "output_type": "execute_result"
    }
   ],
   "source": [
    "# удалим пропущенные значения.\n",
    "raw_autos_copy = raw_autos_copy.dropna(subset=['vehicle_type', 'gearbox', 'model', 'fuel_type', 'repaired'])\n",
    "raw_autos_copy.isna().sum()"
   ]
  },
  {
   "cell_type": "code",
   "execution_count": 32,
   "metadata": {},
   "outputs": [
    {
     "name": "stdout",
     "output_type": "stream",
     "text": [
      "Количество обьектов до удаления пропущенных значений: 354369\n",
      "Количество обьектов после удаления пропущенных значений: 245814\n",
      "Количество обьектов удалено: 108555\n",
      "Доля удаленных обьектов: 30.63%\n"
     ]
    }
   ],
   "source": [
    "print(f'Количество обьектов до удаления пропущенных значений: {len(raw_autos)}')\n",
    "print(f'Количество обьектов после удаления пропущенных значений: {len(raw_autos_copy)}')\n",
    "deleted_obj = len(raw_autos) - len(raw_autos_copy)\n",
    "print(f'Количество обьектов удалено: {deleted_obj}')\n",
    "print(f'Доля удаленных обьектов: {round(deleted_obj / len(raw_autos) * 100, 2)}%')"
   ]
  },
  {
   "cell_type": "markdown",
   "metadata": {},
   "source": [
    "Около 30% обьектов было удалено. Давайте попробуем восстановить данные."
   ]
  },
  {
   "cell_type": "code",
   "execution_count": 33,
   "metadata": {},
   "outputs": [],
   "source": [
    "#Напишем функцию, которая будет выводить количество строк с пропущенными значениями.\n",
    "\n",
    "def checkMissingValues(columnName,df):\n",
    "    print(columnName,\"проверка на пропущенные значения, кол-во строк с пропущенным значением: \",len(df[df[columnName].isna()]))"
   ]
  },
  {
   "cell_type": "markdown",
   "metadata": {},
   "source": [
    "<div class=\"alert alert-block alert-success\">\n",
    "<b>✔️ Успех:</b>\n",
    "\n",
    "Согласен с таким заполнением 👍\n",
    "</div>"
   ]
  },
  {
   "cell_type": "markdown",
   "metadata": {},
   "source": [
    "**Vehicle Type**"
   ]
  },
  {
   "cell_type": "code",
   "execution_count": 34,
   "metadata": {},
   "outputs": [
    {
     "name": "stdout",
     "output_type": "stream",
     "text": [
      "vehicle_type проверка на пропущенные значения, кол-во строк с пропущенным значением:  0\n"
     ]
    }
   ],
   "source": [
    "#Чтобы избежать искажения данных, предлагаю заполнить пропущенные значения \"unknown_type\"\n",
    "\n",
    "raw_autos['vehicle_type'] = raw_autos.vehicle_type.fillna(\"unknown_type\")\n",
    "checkMissingValues('vehicle_type', raw_autos)"
   ]
  },
  {
   "cell_type": "markdown",
   "metadata": {},
   "source": [
    "<div class=\"alert alert-block alert-success\">\n",
    "<b>✔️ Успех:</b>\n",
    "\n",
    "Согласен с таким заполнением 👍\n",
    "</div>"
   ]
  },
  {
   "cell_type": "markdown",
   "metadata": {},
   "source": [
    "**Gearbox**"
   ]
  },
  {
   "cell_type": "code",
   "execution_count": 35,
   "metadata": {},
   "outputs": [
    {
     "data": {
      "text/plain": [
       "manual    268251\n",
       "auto       66285\n",
       "Name: gearbox, dtype: int64"
      ]
     },
     "execution_count": 35,
     "metadata": {},
     "output_type": "execute_result"
    }
   ],
   "source": [
    "#Посмотрим на уникальные значения в столбце gearbox.\n",
    "raw_autos['gearbox'].value_counts()"
   ]
  },
  {
   "cell_type": "code",
   "execution_count": 36,
   "metadata": {},
   "outputs": [
    {
     "data": {
      "image/png": "[encoded data removed]",
      "text/plain": [
       "<Figure size 1008x360 with 1 Axes>"
      ]
     },
     "metadata": {
      "needs_background": "light"
     },
     "output_type": "display_data"
    }
   ],
   "source": [
    "#Выведем распределение\n",
    "plt.figure(figsize=(14,5))\n",
    "plot  = sns.distplot(raw_autos['registration_year'],bins=30, kde=True)\n",
    "plt.show()"
   ]
  },
  {
   "cell_type": "code",
   "execution_count": 37,
   "metadata": {},
   "outputs": [
    {
     "data": {
      "image/png": "[encoded data removed]",
      "text/plain": [
       "<Figure size 463.15x360 with 1 Axes>"
      ]
     },
     "metadata": {
      "needs_background": "light"
     },
     "output_type": "display_data"
    }
   ],
   "source": [
    "#Возьмём адекватный интервал\n",
    "raw_autos_copy = raw_autos.query('registration_year > 1900 and registration_year < 2020')\n",
    "\n",
    "sns.displot(data = raw_autos_copy, x='registration_year',bins=30, kde=True, hue='gearbox')\n",
    "plt.show()"
   ]
  },
  {
   "cell_type": "markdown",
   "metadata": {},
   "source": [
    "Первая автоматическая коробка передач была установлена в 1947 году. Можем смело предположить, что автомобили до 1947 года имели механическую коробку передач"
   ]
  },
  {
   "cell_type": "code",
   "execution_count": 38,
   "metadata": {},
   "outputs": [],
   "source": [
    "raw_autos.loc[raw_autos['registration_year'] < 1947, 'gearbox'] = raw_autos.loc[raw_autos['registration_year'] < 1947, 'gearbox'].fillna(\"manual\")"
   ]
  },
  {
   "cell_type": "code",
   "execution_count": 39,
   "metadata": {},
   "outputs": [],
   "source": [
    "#Чтобы избежать искаженние в данных, заполним остальные пропущенные значения - \"unknown_gearbox\n",
    "raw_autos['gearbox'] = raw_autos.gearbox.fillna(\"unknown_gearbox\")"
   ]
  },
  {
   "cell_type": "code",
   "execution_count": 40,
   "metadata": {},
   "outputs": [
    {
     "name": "stdout",
     "output_type": "stream",
     "text": [
      "gearbox проверка на пропущенные значения, кол-во строк с пропущенным значением:  0\n"
     ]
    }
   ],
   "source": [
    "checkMissingValues('gearbox', raw_autos)"
   ]
  },
  {
   "cell_type": "markdown",
   "metadata": {},
   "source": [
    "<div class=\"alert alert-block alert-success\">\n",
    "<b>✔️ Успех:</b>\n",
    "\n",
    "Согласен с таким заполнением 👍\n",
    "</div>"
   ]
  },
  {
   "cell_type": "markdown",
   "metadata": {},
   "source": [
    "**Model**\n"
   ]
  },
  {
   "cell_type": "code",
   "execution_count": 41,
   "metadata": {},
   "outputs": [],
   "source": [
    "#Чтобы избежать искажения в данных, заполним пропущенное значение - \"unknown_model\".\n",
    "raw_autos['model'] = raw_autos.model.fillna(\"unknown_model\")"
   ]
  },
  {
   "cell_type": "code",
   "execution_count": 42,
   "metadata": {},
   "outputs": [
    {
     "name": "stdout",
     "output_type": "stream",
     "text": [
      "model проверка на пропущенные значения, кол-во строк с пропущенным значением:  0\n"
     ]
    }
   ],
   "source": [
    "checkMissingValues('model', raw_autos)"
   ]
  },
  {
   "cell_type": "markdown",
   "metadata": {},
   "source": [
    "<div class=\"alert alert-block alert-success\">\n",
    "<b>✔️ Успех:</b>\n",
    "\n",
    "Согласен с таким заполнением 👍\n",
    "</div>"
   ]
  },
  {
   "cell_type": "markdown",
   "metadata": {},
   "source": [
    "**Fuel type**"
   ]
  },
  {
   "cell_type": "code",
   "execution_count": 43,
   "metadata": {},
   "outputs": [
    {
     "name": "stdout",
     "output_type": "stream",
     "text": [
      "fuel_type проверка на пропущенные значения, кол-во строк с пропущенным значением:  0\n"
     ]
    }
   ],
   "source": [
    "#Тоже самое сделаем со столбцом fuel type\n",
    "raw_autos['fuel_type'] = raw_autos.fuel_type.fillna(\"unknown_fuel_type\")\n",
    "checkMissingValues('fuel_type', raw_autos)"
   ]
  },
  {
   "cell_type": "markdown",
   "metadata": {},
   "source": [
    "<div class=\"alert alert-block alert-success\">\n",
    "<b>✔️ Успех:</b>\n",
    "\n",
    "Согласен с таким заполнением 👍\n",
    "</div>"
   ]
  },
  {
   "cell_type": "markdown",
   "metadata": {},
   "source": [
    "**Repaired**"
   ]
  },
  {
   "cell_type": "code",
   "execution_count": 44,
   "metadata": {},
   "outputs": [
    {
     "name": "stdout",
     "output_type": "stream",
     "text": [
      "repaired проверка на пропущенные значения, кол-во строк с пропущенным значением:  0\n"
     ]
    }
   ],
   "source": [
    "#Предлагаю заменить пропущенные значения столбца not_repaired на значение unknown_repair_status\n",
    "raw_autos['repaired'] = raw_autos['repaired'].fillna('unknown_repair_status')\n",
    "checkMissingValues('repaired', raw_autos)"
   ]
  },
  {
   "cell_type": "code",
   "execution_count": 45,
   "metadata": {},
   "outputs": [
    {
     "data": {
      "text/plain": [
       "price                 0\n",
       "vehicle_type          0\n",
       "registration_year     0\n",
       "gearbox               0\n",
       "power                 0\n",
       "model                 0\n",
       "kilometer             0\n",
       "registration_month    0\n",
       "fuel_type             0\n",
       "brand                 0\n",
       "repaired              0\n",
       "dtype: int64"
      ]
     },
     "execution_count": 45,
     "metadata": {},
     "output_type": "execute_result"
    }
   ],
   "source": [
    "raw_autos.isna().sum()"
   ]
  },
  {
   "cell_type": "markdown",
   "metadata": {},
   "source": [
    "<div class=\"alert alert-block alert-success\">\n",
    "<b>✔️ Успех:</b>\n",
    "\n",
    "Пропуски успешно обработаны 👍 Модели теперь не будут капризничать)\n",
    "</div>"
   ]
  },
  {
   "cell_type": "markdown",
   "metadata": {},
   "source": [
    "#### Обработка дупликатов"
   ]
  },
  {
   "cell_type": "markdown",
   "metadata": {},
   "source": [
    "Необходимо установить наличие дупликатов. Если появятся дупликаты - удаляем их, иначе наше исследование может привести к некорректным результатам. Воспользуемся набором методов duplicated() и sum()."
   ]
  },
  {
   "cell_type": "code",
   "execution_count": 46,
   "metadata": {},
   "outputs": [
    {
     "name": "stdout",
     "output_type": "stream",
     "text": [
      "Количество дупликатов: 27543\n",
      "Доля дупликатов в датасете: 0.08%\n"
     ]
    }
   ],
   "source": [
    "print(f'Количество дупликатов: {raw_autos.duplicated().sum()}')\n",
    "print(f'Доля дупликатов в датасете: {round(raw_autos.duplicated().sum() / len(raw_autos),2)}%')"
   ]
  },
  {
   "cell_type": "code",
   "execution_count": 47,
   "metadata": {},
   "outputs": [],
   "source": [
    "#27543 Дупликатов. Придётся их удалить.\n",
    "raw_autos = raw_autos.drop_duplicates().reset_index(drop=True)"
   ]
  },
  {
   "cell_type": "markdown",
   "metadata": {},
   "source": [
    "<div class=\"alert alert-block alert-success\">\n",
    "<b>✔️ Успех:</b>\n",
    "\n",
    "От явных дубликатов избавились 👍\n",
    "</div>"
   ]
  },
  {
   "cell_type": "markdown",
   "metadata": {},
   "source": [
    "#### Обработка аномальных значений"
   ]
  },
  {
   "cell_type": "markdown",
   "metadata": {},
   "source": [
    "Займемся обработкой аномальных значений. Ранее на этапе обзора данных, мы выделили некоторые столбцы, которые имеют аномальные значения."
   ]
  },
  {
   "cell_type": "markdown",
   "metadata": {},
   "source": [
    "**Registration Year**"
   ]
  },
  {
   "cell_type": "markdown",
   "metadata": {},
   "source": [
    "Мы заметили максимальное значение - 9999 год и минимальное значение 1000 год."
   ]
  },
  {
   "cell_type": "code",
   "execution_count": 48,
   "metadata": {},
   "outputs": [
    {
     "data": {
      "text/html": [
       "<div>\n",
       "<style scoped>\n",
       "    .dataframe tbody tr th:only-of-type {\n",
       "        vertical-align: middle;\n",
       "    }\n",
       "\n",
       "    .dataframe tbody tr th {\n",
       "        vertical-align: top;\n",
       "    }\n",
       "\n",
       "    .dataframe thead th {\n",
       "        text-align: right;\n",
       "    }\n",
       "</style>\n",
       "<table border=\"1\" class=\"dataframe\">\n",
       "  <thead>\n",
       "    <tr style=\"text-align: right;\">\n",
       "      <th></th>\n",
       "      <th>price</th>\n",
       "      <th>vehicle_type</th>\n",
       "      <th>registration_year</th>\n",
       "      <th>gearbox</th>\n",
       "      <th>power</th>\n",
       "      <th>model</th>\n",
       "      <th>kilometer</th>\n",
       "      <th>registration_month</th>\n",
       "      <th>fuel_type</th>\n",
       "      <th>brand</th>\n",
       "      <th>repaired</th>\n",
       "    </tr>\n",
       "  </thead>\n",
       "  <tbody>\n",
       "    <tr>\n",
       "      <th>15962</th>\n",
       "      <td>190</td>\n",
       "      <td>unknown_type</td>\n",
       "      <td>1000</td>\n",
       "      <td>manual</td>\n",
       "      <td>0</td>\n",
       "      <td>mondeo</td>\n",
       "      <td>5000</td>\n",
       "      <td>0</td>\n",
       "      <td>unknown_fuel_type</td>\n",
       "      <td>ford</td>\n",
       "      <td>unknown_repair_status</td>\n",
       "    </tr>\n",
       "    <tr>\n",
       "      <th>52637</th>\n",
       "      <td>330</td>\n",
       "      <td>unknown_type</td>\n",
       "      <td>1000</td>\n",
       "      <td>manual</td>\n",
       "      <td>0</td>\n",
       "      <td>polo</td>\n",
       "      <td>5000</td>\n",
       "      <td>0</td>\n",
       "      <td>unknown_fuel_type</td>\n",
       "      <td>volkswagen</td>\n",
       "      <td>unknown_repair_status</td>\n",
       "    </tr>\n",
       "    <tr>\n",
       "      <th>54605</th>\n",
       "      <td>500</td>\n",
       "      <td>unknown_type</td>\n",
       "      <td>1000</td>\n",
       "      <td>manual</td>\n",
       "      <td>0</td>\n",
       "      <td>unknown_model</td>\n",
       "      <td>5000</td>\n",
       "      <td>0</td>\n",
       "      <td>unknown_fuel_type</td>\n",
       "      <td>citroen</td>\n",
       "      <td>yes</td>\n",
       "    </tr>\n",
       "    <tr>\n",
       "      <th>58886</th>\n",
       "      <td>80</td>\n",
       "      <td>unknown_type</td>\n",
       "      <td>1000</td>\n",
       "      <td>manual</td>\n",
       "      <td>0</td>\n",
       "      <td>unknown_model</td>\n",
       "      <td>5000</td>\n",
       "      <td>0</td>\n",
       "      <td>unknown_fuel_type</td>\n",
       "      <td>volkswagen</td>\n",
       "      <td>unknown_repair_status</td>\n",
       "    </tr>\n",
       "    <tr>\n",
       "      <th>64859</th>\n",
       "      <td>1300</td>\n",
       "      <td>unknown_type</td>\n",
       "      <td>1000</td>\n",
       "      <td>auto</td>\n",
       "      <td>0</td>\n",
       "      <td>unknown_model</td>\n",
       "      <td>5000</td>\n",
       "      <td>6</td>\n",
       "      <td>petrol</td>\n",
       "      <td>sonstige_autos</td>\n",
       "      <td>unknown_repair_status</td>\n",
       "    </tr>\n",
       "  </tbody>\n",
       "</table>\n",
       "</div>"
      ],
      "text/plain": [
       "       price  vehicle_type  registration_year gearbox  power          model  \\\n",
       "15962    190  unknown_type               1000  manual      0         mondeo   \n",
       "52637    330  unknown_type               1000  manual      0           polo   \n",
       "54605    500  unknown_type               1000  manual      0  unknown_model   \n",
       "58886     80  unknown_type               1000  manual      0  unknown_model   \n",
       "64859   1300  unknown_type               1000    auto      0  unknown_model   \n",
       "\n",
       "       kilometer  registration_month          fuel_type           brand  \\\n",
       "15962       5000                   0  unknown_fuel_type            ford   \n",
       "52637       5000                   0  unknown_fuel_type      volkswagen   \n",
       "54605       5000                   0  unknown_fuel_type         citroen   \n",
       "58886       5000                   0  unknown_fuel_type      volkswagen   \n",
       "64859       5000                   6             petrol  sonstige_autos   \n",
       "\n",
       "                    repaired  \n",
       "15962  unknown_repair_status  \n",
       "52637  unknown_repair_status  \n",
       "54605                    yes  \n",
       "58886  unknown_repair_status  \n",
       "64859  unknown_repair_status  "
      ]
     },
     "execution_count": 48,
     "metadata": {},
     "output_type": "execute_result"
    }
   ],
   "source": [
    "\n",
    "reg_year_1000 = raw_autos.query('registration_year == 1000')\n",
    "reg_year_1000.head()"
   ]
  },
  {
   "cell_type": "code",
   "execution_count": 49,
   "metadata": {},
   "outputs": [
    {
     "data": {
      "text/html": [
       "<div>\n",
       "<style scoped>\n",
       "    .dataframe tbody tr th:only-of-type {\n",
       "        vertical-align: middle;\n",
       "    }\n",
       "\n",
       "    .dataframe tbody tr th {\n",
       "        vertical-align: top;\n",
       "    }\n",
       "\n",
       "    .dataframe thead th {\n",
       "        text-align: right;\n",
       "    }\n",
       "</style>\n",
       "<table border=\"1\" class=\"dataframe\">\n",
       "  <thead>\n",
       "    <tr style=\"text-align: right;\">\n",
       "      <th></th>\n",
       "      <th>price</th>\n",
       "      <th>vehicle_type</th>\n",
       "      <th>registration_year</th>\n",
       "      <th>gearbox</th>\n",
       "      <th>power</th>\n",
       "      <th>model</th>\n",
       "      <th>kilometer</th>\n",
       "      <th>registration_month</th>\n",
       "      <th>fuel_type</th>\n",
       "      <th>brand</th>\n",
       "      <th>repaired</th>\n",
       "    </tr>\n",
       "  </thead>\n",
       "  <tbody>\n",
       "    <tr>\n",
       "      <th>15063</th>\n",
       "      <td>0</td>\n",
       "      <td>unknown_type</td>\n",
       "      <td>9999</td>\n",
       "      <td>unknown_gearbox</td>\n",
       "      <td>0</td>\n",
       "      <td>unknown_model</td>\n",
       "      <td>10000</td>\n",
       "      <td>0</td>\n",
       "      <td>unknown_fuel_type</td>\n",
       "      <td>sonstige_autos</td>\n",
       "      <td>unknown_repair_status</td>\n",
       "    </tr>\n",
       "    <tr>\n",
       "      <th>17155</th>\n",
       "      <td>700</td>\n",
       "      <td>unknown_type</td>\n",
       "      <td>9999</td>\n",
       "      <td>unknown_gearbox</td>\n",
       "      <td>0</td>\n",
       "      <td>other</td>\n",
       "      <td>10000</td>\n",
       "      <td>0</td>\n",
       "      <td>unknown_fuel_type</td>\n",
       "      <td>opel</td>\n",
       "      <td>unknown_repair_status</td>\n",
       "    </tr>\n",
       "    <tr>\n",
       "      <th>28086</th>\n",
       "      <td>799</td>\n",
       "      <td>unknown_type</td>\n",
       "      <td>9999</td>\n",
       "      <td>unknown_gearbox</td>\n",
       "      <td>0</td>\n",
       "      <td>3er</td>\n",
       "      <td>10000</td>\n",
       "      <td>4</td>\n",
       "      <td>petrol</td>\n",
       "      <td>bmw</td>\n",
       "      <td>unknown_repair_status</td>\n",
       "    </tr>\n",
       "    <tr>\n",
       "      <th>28648</th>\n",
       "      <td>18000</td>\n",
       "      <td>unknown_type</td>\n",
       "      <td>9999</td>\n",
       "      <td>unknown_gearbox</td>\n",
       "      <td>0</td>\n",
       "      <td>a_klasse</td>\n",
       "      <td>10000</td>\n",
       "      <td>0</td>\n",
       "      <td>petrol</td>\n",
       "      <td>mercedes_benz</td>\n",
       "      <td>unknown_repair_status</td>\n",
       "    </tr>\n",
       "    <tr>\n",
       "      <th>29101</th>\n",
       "      <td>7999</td>\n",
       "      <td>unknown_type</td>\n",
       "      <td>9999</td>\n",
       "      <td>unknown_gearbox</td>\n",
       "      <td>0</td>\n",
       "      <td>kaefer</td>\n",
       "      <td>10000</td>\n",
       "      <td>0</td>\n",
       "      <td>unknown_fuel_type</td>\n",
       "      <td>volkswagen</td>\n",
       "      <td>unknown_repair_status</td>\n",
       "    </tr>\n",
       "  </tbody>\n",
       "</table>\n",
       "</div>"
      ],
      "text/plain": [
       "       price  vehicle_type  registration_year          gearbox  power  \\\n",
       "15063      0  unknown_type               9999  unknown_gearbox      0   \n",
       "17155    700  unknown_type               9999  unknown_gearbox      0   \n",
       "28086    799  unknown_type               9999  unknown_gearbox      0   \n",
       "28648  18000  unknown_type               9999  unknown_gearbox      0   \n",
       "29101   7999  unknown_type               9999  unknown_gearbox      0   \n",
       "\n",
       "               model  kilometer  registration_month          fuel_type  \\\n",
       "15063  unknown_model      10000                   0  unknown_fuel_type   \n",
       "17155          other      10000                   0  unknown_fuel_type   \n",
       "28086            3er      10000                   4             petrol   \n",
       "28648       a_klasse      10000                   0             petrol   \n",
       "29101         kaefer      10000                   0  unknown_fuel_type   \n",
       "\n",
       "                brand               repaired  \n",
       "15063  sonstige_autos  unknown_repair_status  \n",
       "17155            opel  unknown_repair_status  \n",
       "28086             bmw  unknown_repair_status  \n",
       "28648   mercedes_benz  unknown_repair_status  \n",
       "29101      volkswagen  unknown_repair_status  "
      ]
     },
     "execution_count": 49,
     "metadata": {},
     "output_type": "execute_result"
    }
   ],
   "source": [
    "reg_year_9999 = raw_autos.query('registration_year == 9999')\n",
    "reg_year_9999.head()"
   ]
  },
  {
   "cell_type": "code",
   "execution_count": 50,
   "metadata": {},
   "outputs": [
    {
     "name": "stdout",
     "output_type": "stream",
     "text": [
      "Количество автомобилей с регистрацией 1000 года: 35\n",
      "Количество автомобилей с регистрацией 9999 года: 24\n"
     ]
    }
   ],
   "source": [
    "print(f'Количество автомобилей с регистрацией 1000 года: {len(reg_year_1000)}')\n",
    "print(f'Количество автомобилей с регистрацией 9999 года: {len(reg_year_9999)}')"
   ]
  },
  {
   "cell_type": "code",
   "execution_count": 51,
   "metadata": {},
   "outputs": [],
   "source": [
    "#Следовательно, отфильтруем автомобили c регистрацией от 1901 до 2016 года.\n",
    "\n",
    "raw_autos_upd = raw_autos.query('registration_year > 1900 and registration_year < 2017').reset_index(drop=True)"
   ]
  },
  {
   "cell_type": "markdown",
   "metadata": {},
   "source": [
    "<div class=\"alert alert-block alert-success\">\n",
    "<b>✔️ Успех:</b>\n",
    "\n",
    "Молодец, что для верхней границы `registration_year` используешь дату скачивания анкеты 👍\n",
    "</div>"
   ]
  },
  {
   "cell_type": "markdown",
   "metadata": {},
   "source": [
    "**Power**"
   ]
  },
  {
   "cell_type": "code",
   "execution_count": 52,
   "metadata": {},
   "outputs": [
    {
     "data": {
      "image/png": "[encoded data removed]",
      "text/plain": [
       "<Figure size 1008x360 with 1 Axes>"
      ]
     },
     "metadata": {
      "needs_background": "light"
     },
     "output_type": "display_data"
    }
   ],
   "source": [
    "\n",
    "drawBoxPlot(raw_autos_upd, 'power', \"Распределение мощности автомобилей\", \"Мощность л.с\", \"Количесто автомобилей\",True)"
   ]
  },
  {
   "cell_type": "code",
   "execution_count": 53,
   "metadata": {},
   "outputs": [
    {
     "name": "stdout",
     "output_type": "stream",
     "text": [
      "Количество строк с power < 10: 33620\n",
      "Количество строк с power > 700: 316\n"
     ]
    }
   ],
   "source": [
    "#Посмотрим на количество строк, где power < 10 и сколько машин, у которых power > 700.\n",
    "num_of_cars_power_10 = len(raw_autos_upd.query('power < 10'))\n",
    "num_of_cars_power_greater_500= len(raw_autos_upd.query('power > 700'))\n",
    "print(f'Количество строк с power < 10: {num_of_cars_power_10}')\n",
    "print(f'Количество строк с power > 700: {num_of_cars_power_greater_500}')"
   ]
  },
  {
   "cell_type": "code",
   "execution_count": 54,
   "metadata": {},
   "outputs": [
    {
     "data": {
      "text/html": [
       "<div>\n",
       "<style scoped>\n",
       "    .dataframe tbody tr th:only-of-type {\n",
       "        vertical-align: middle;\n",
       "    }\n",
       "\n",
       "    .dataframe tbody tr th {\n",
       "        vertical-align: top;\n",
       "    }\n",
       "\n",
       "    .dataframe thead th {\n",
       "        text-align: right;\n",
       "    }\n",
       "</style>\n",
       "<table border=\"1\" class=\"dataframe\">\n",
       "  <thead>\n",
       "    <tr style=\"text-align: right;\">\n",
       "      <th></th>\n",
       "      <th>price</th>\n",
       "      <th>vehicle_type</th>\n",
       "      <th>registration_year</th>\n",
       "      <th>gearbox</th>\n",
       "      <th>power</th>\n",
       "      <th>model</th>\n",
       "      <th>kilometer</th>\n",
       "      <th>registration_month</th>\n",
       "      <th>fuel_type</th>\n",
       "      <th>brand</th>\n",
       "      <th>repaired</th>\n",
       "    </tr>\n",
       "  </thead>\n",
       "  <tbody>\n",
       "    <tr>\n",
       "      <th>78816</th>\n",
       "      <td>18550</td>\n",
       "      <td>sedan</td>\n",
       "      <td>2013</td>\n",
       "      <td>manual</td>\n",
       "      <td>1288</td>\n",
       "      <td>c_klasse</td>\n",
       "      <td>90000</td>\n",
       "      <td>11</td>\n",
       "      <td>gasoline</td>\n",
       "      <td>mercedes_benz</td>\n",
       "      <td>no</td>\n",
       "    </tr>\n",
       "    <tr>\n",
       "      <th>42513</th>\n",
       "      <td>15800</td>\n",
       "      <td>convertible</td>\n",
       "      <td>2014</td>\n",
       "      <td>auto</td>\n",
       "      <td>10218</td>\n",
       "      <td>fortwo</td>\n",
       "      <td>30000</td>\n",
       "      <td>3</td>\n",
       "      <td>petrol</td>\n",
       "      <td>smart</td>\n",
       "      <td>unknown_repair_status</td>\n",
       "    </tr>\n",
       "    <tr>\n",
       "      <th>206195</th>\n",
       "      <td>15499</td>\n",
       "      <td>wagon</td>\n",
       "      <td>2012</td>\n",
       "      <td>manual</td>\n",
       "      <td>13636</td>\n",
       "      <td>c_klasse</td>\n",
       "      <td>125000</td>\n",
       "      <td>4</td>\n",
       "      <td>gasoline</td>\n",
       "      <td>mercedes_benz</td>\n",
       "      <td>no</td>\n",
       "    </tr>\n",
       "    <tr>\n",
       "      <th>44277</th>\n",
       "      <td>15000</td>\n",
       "      <td>coupe</td>\n",
       "      <td>2013</td>\n",
       "      <td>auto</td>\n",
       "      <td>751</td>\n",
       "      <td>unknown_model</td>\n",
       "      <td>10000</td>\n",
       "      <td>1</td>\n",
       "      <td>petrol</td>\n",
       "      <td>sonstige_autos</td>\n",
       "      <td>no</td>\n",
       "    </tr>\n",
       "    <tr>\n",
       "      <th>175323</th>\n",
       "      <td>13200</td>\n",
       "      <td>small</td>\n",
       "      <td>2013</td>\n",
       "      <td>manual</td>\n",
       "      <td>871</td>\n",
       "      <td>other</td>\n",
       "      <td>20000</td>\n",
       "      <td>1</td>\n",
       "      <td>petrol</td>\n",
       "      <td>opel</td>\n",
       "      <td>no</td>\n",
       "    </tr>\n",
       "    <tr>\n",
       "      <th>231901</th>\n",
       "      <td>13000</td>\n",
       "      <td>wagon</td>\n",
       "      <td>2010</td>\n",
       "      <td>manual</td>\n",
       "      <td>9013</td>\n",
       "      <td>a3</td>\n",
       "      <td>5000</td>\n",
       "      <td>12</td>\n",
       "      <td>gasoline</td>\n",
       "      <td>audi</td>\n",
       "      <td>unknown_repair_status</td>\n",
       "    </tr>\n",
       "    <tr>\n",
       "      <th>239306</th>\n",
       "      <td>12800</td>\n",
       "      <td>suv</td>\n",
       "      <td>2008</td>\n",
       "      <td>manual</td>\n",
       "      <td>1701</td>\n",
       "      <td>tiguan</td>\n",
       "      <td>150000</td>\n",
       "      <td>12</td>\n",
       "      <td>gasoline</td>\n",
       "      <td>volkswagen</td>\n",
       "      <td>no</td>\n",
       "    </tr>\n",
       "    <tr>\n",
       "      <th>290463</th>\n",
       "      <td>12000</td>\n",
       "      <td>wagon</td>\n",
       "      <td>2008</td>\n",
       "      <td>manual</td>\n",
       "      <td>1700</td>\n",
       "      <td>c_klasse</td>\n",
       "      <td>150000</td>\n",
       "      <td>8</td>\n",
       "      <td>gasoline</td>\n",
       "      <td>mercedes_benz</td>\n",
       "      <td>no</td>\n",
       "    </tr>\n",
       "    <tr>\n",
       "      <th>197053</th>\n",
       "      <td>11950</td>\n",
       "      <td>convertible</td>\n",
       "      <td>2008</td>\n",
       "      <td>manual</td>\n",
       "      <td>16312</td>\n",
       "      <td>a4</td>\n",
       "      <td>20000</td>\n",
       "      <td>4</td>\n",
       "      <td>petrol</td>\n",
       "      <td>audi</td>\n",
       "      <td>no</td>\n",
       "    </tr>\n",
       "    <tr>\n",
       "      <th>277257</th>\n",
       "      <td>11900</td>\n",
       "      <td>wagon</td>\n",
       "      <td>2007</td>\n",
       "      <td>auto</td>\n",
       "      <td>16311</td>\n",
       "      <td>5er</td>\n",
       "      <td>150000</td>\n",
       "      <td>10</td>\n",
       "      <td>gasoline</td>\n",
       "      <td>bmw</td>\n",
       "      <td>no</td>\n",
       "    </tr>\n",
       "  </tbody>\n",
       "</table>\n",
       "</div>"
      ],
      "text/plain": [
       "        price vehicle_type  registration_year gearbox  power          model  \\\n",
       "78816   18550        sedan               2013  manual   1288       c_klasse   \n",
       "42513   15800  convertible               2014    auto  10218         fortwo   \n",
       "206195  15499        wagon               2012  manual  13636       c_klasse   \n",
       "44277   15000        coupe               2013    auto    751  unknown_model   \n",
       "175323  13200        small               2013  manual    871          other   \n",
       "231901  13000        wagon               2010  manual   9013             a3   \n",
       "239306  12800          suv               2008  manual   1701         tiguan   \n",
       "290463  12000        wagon               2008  manual   1700       c_klasse   \n",
       "197053  11950  convertible               2008  manual  16312             a4   \n",
       "277257  11900        wagon               2007    auto  16311            5er   \n",
       "\n",
       "        kilometer  registration_month fuel_type           brand  \\\n",
       "78816       90000                  11  gasoline   mercedes_benz   \n",
       "42513       30000                   3    petrol           smart   \n",
       "206195     125000                   4  gasoline   mercedes_benz   \n",
       "44277       10000                   1    petrol  sonstige_autos   \n",
       "175323      20000                   1    petrol            opel   \n",
       "231901       5000                  12  gasoline            audi   \n",
       "239306     150000                  12  gasoline      volkswagen   \n",
       "290463     150000                   8  gasoline   mercedes_benz   \n",
       "197053      20000                   4    petrol            audi   \n",
       "277257     150000                  10  gasoline             bmw   \n",
       "\n",
       "                     repaired  \n",
       "78816                      no  \n",
       "42513   unknown_repair_status  \n",
       "206195                     no  \n",
       "44277                      no  \n",
       "175323                     no  \n",
       "231901  unknown_repair_status  \n",
       "239306                     no  \n",
       "290463                     no  \n",
       "197053                     no  \n",
       "277257                     no  "
      ]
     },
     "execution_count": 54,
     "metadata": {},
     "output_type": "execute_result"
    }
   ],
   "source": [
    "raw_autos_upd.query('power > 700').sort_values(by='price', ascending=False).head(10)"
   ]
  },
  {
   "cell_type": "code",
   "execution_count": 55,
   "metadata": {},
   "outputs": [
    {
     "data": {
      "image/png": "[encoded data removed]",
      "text/plain": [
       "<Figure size 1008x360 with 1 Axes>"
      ]
     },
     "metadata": {
      "needs_background": "light"
     },
     "output_type": "display_data"
    }
   ],
   "source": [
    "#Суперкаров не оказалось, следовательно возьмем интервал 10 < power < 700\n",
    "\n",
    "raw_autos_upd = raw_autos.query('power > 10 and power < 700')\n",
    "\n",
    "drawBoxPlot(raw_autos_upd, 'power', \"Распределение мощности автомобилей UPDATED\", \"Мощность л.с\", \"Количесто автомобилей\")"
   ]
  },
  {
   "cell_type": "markdown",
   "metadata": {},
   "source": [
    "<div class=\"alert alert-block alert-success\">\n",
    "<b>✔️ Успех:</b>\n",
    "\n",
    "Мощность ограничили 👍\n",
    "</div>"
   ]
  },
  {
   "cell_type": "markdown",
   "metadata": {},
   "source": [
    "**Kilometer**"
   ]
  },
  {
   "cell_type": "code",
   "execution_count": 56,
   "metadata": {},
   "outputs": [
    {
     "data": {
      "text/plain": [
       "count   289215.000\n",
       "mean    128507.097\n",
       "std      36823.463\n",
       "min       5000.000\n",
       "25%     125000.000\n",
       "50%     150000.000\n",
       "75%     150000.000\n",
       "max     150000.000\n",
       "Name: kilometer, dtype: float64"
      ]
     },
     "execution_count": 56,
     "metadata": {},
     "output_type": "execute_result"
    }
   ],
   "source": [
    "raw_autos_upd.describe()['kilometer']"
   ]
  },
  {
   "cell_type": "markdown",
   "metadata": {},
   "source": [
    "В среднем пробег составляет 128 тыс. км. Обратим внимание на значение 50% и 75% персентиль и на максимальное значение - 150 тыс. км. Ошибка ли это в записи данных? Может в форме, где заполняли информацию, было зафиксировано максимальное значиние равно 150 тыс. км?"
   ]
  },
  {
   "cell_type": "markdown",
   "metadata": {},
   "source": [
    "**Registration Month**"
   ]
  },
  {
   "cell_type": "code",
   "execution_count": 57,
   "metadata": {},
   "outputs": [
    {
     "data": {
      "text/plain": [
       "count   289215.000\n",
       "mean         5.913\n",
       "std          3.620\n",
       "min          0.000\n",
       "25%          3.000\n",
       "50%          6.000\n",
       "75%          9.000\n",
       "max         12.000\n",
       "Name: registration_month, dtype: float64"
      ]
     },
     "execution_count": 57,
     "metadata": {},
     "output_type": "execute_result"
    }
   ],
   "source": [
    "raw_autos_upd.describe()['registration_month']"
   ]
  },
  {
   "cell_type": "markdown",
   "metadata": {},
   "source": [
    "Обратим внимание на минимальное и максимальное значения, 0 и 12 соответственно. Несоответствие количества месяцев.\n",
    "\n",
    "Думаю нам не понадобится этот столбец в постройке модели машинного обучения. Так что не будем предобрабатывать этот столбец."
   ]
  },
  {
   "cell_type": "markdown",
   "metadata": {},
   "source": [
    "**Price**"
   ]
  },
  {
   "cell_type": "code",
   "execution_count": 58,
   "metadata": {},
   "outputs": [
    {
     "data": {
      "text/plain": [
       "count   289215.000\n",
       "mean      4688.245\n",
       "std       4594.241\n",
       "min          0.000\n",
       "25%       1200.000\n",
       "50%       2999.000\n",
       "75%       6800.000\n",
       "max      20000.000\n",
       "Name: price, dtype: float64"
      ]
     },
     "execution_count": 58,
     "metadata": {},
     "output_type": "execute_result"
    }
   ],
   "source": [
    "raw_autos_upd.describe()['price']"
   ]
  },
  {
   "cell_type": "code",
   "execution_count": 59,
   "metadata": {},
   "outputs": [
    {
     "data": {
      "text/html": [
       "<div>\n",
       "<style scoped>\n",
       "    .dataframe tbody tr th:only-of-type {\n",
       "        vertical-align: middle;\n",
       "    }\n",
       "\n",
       "    .dataframe tbody tr th {\n",
       "        vertical-align: top;\n",
       "    }\n",
       "\n",
       "    .dataframe thead th {\n",
       "        text-align: right;\n",
       "    }\n",
       "</style>\n",
       "<table border=\"1\" class=\"dataframe\">\n",
       "  <thead>\n",
       "    <tr style=\"text-align: right;\">\n",
       "      <th></th>\n",
       "      <th>price</th>\n",
       "      <th>vehicle_type</th>\n",
       "      <th>registration_year</th>\n",
       "      <th>gearbox</th>\n",
       "      <th>power</th>\n",
       "      <th>model</th>\n",
       "      <th>kilometer</th>\n",
       "      <th>registration_month</th>\n",
       "      <th>fuel_type</th>\n",
       "      <th>brand</th>\n",
       "      <th>repaired</th>\n",
       "    </tr>\n",
       "  </thead>\n",
       "  <tbody>\n",
       "    <tr>\n",
       "      <th>7</th>\n",
       "      <td>0</td>\n",
       "      <td>sedan</td>\n",
       "      <td>1980</td>\n",
       "      <td>manual</td>\n",
       "      <td>50</td>\n",
       "      <td>other</td>\n",
       "      <td>40000</td>\n",
       "      <td>7</td>\n",
       "      <td>petrol</td>\n",
       "      <td>volkswagen</td>\n",
       "      <td>no</td>\n",
       "    </tr>\n",
       "    <tr>\n",
       "      <th>59</th>\n",
       "      <td>1</td>\n",
       "      <td>suv</td>\n",
       "      <td>1994</td>\n",
       "      <td>manual</td>\n",
       "      <td>286</td>\n",
       "      <td>unknown_model</td>\n",
       "      <td>150000</td>\n",
       "      <td>11</td>\n",
       "      <td>unknown_fuel_type</td>\n",
       "      <td>sonstige_autos</td>\n",
       "      <td>unknown_repair_status</td>\n",
       "    </tr>\n",
       "    <tr>\n",
       "      <th>89</th>\n",
       "      <td>1</td>\n",
       "      <td>sedan</td>\n",
       "      <td>1995</td>\n",
       "      <td>manual</td>\n",
       "      <td>113</td>\n",
       "      <td>e_klasse</td>\n",
       "      <td>150000</td>\n",
       "      <td>4</td>\n",
       "      <td>gasoline</td>\n",
       "      <td>mercedes_benz</td>\n",
       "      <td>no</td>\n",
       "    </tr>\n",
       "    <tr>\n",
       "      <th>152</th>\n",
       "      <td>0</td>\n",
       "      <td>bus</td>\n",
       "      <td>2004</td>\n",
       "      <td>manual</td>\n",
       "      <td>101</td>\n",
       "      <td>meriva</td>\n",
       "      <td>150000</td>\n",
       "      <td>10</td>\n",
       "      <td>lpg</td>\n",
       "      <td>opel</td>\n",
       "      <td>yes</td>\n",
       "    </tr>\n",
       "    <tr>\n",
       "      <th>231</th>\n",
       "      <td>0</td>\n",
       "      <td>wagon</td>\n",
       "      <td>2001</td>\n",
       "      <td>manual</td>\n",
       "      <td>115</td>\n",
       "      <td>mondeo</td>\n",
       "      <td>150000</td>\n",
       "      <td>0</td>\n",
       "      <td>unknown_fuel_type</td>\n",
       "      <td>ford</td>\n",
       "      <td>unknown_repair_status</td>\n",
       "    </tr>\n",
       "  </tbody>\n",
       "</table>\n",
       "</div>"
      ],
      "text/plain": [
       "     price vehicle_type  registration_year gearbox  power          model  \\\n",
       "7        0        sedan               1980  manual     50          other   \n",
       "59       1          suv               1994  manual    286  unknown_model   \n",
       "89       1        sedan               1995  manual    113       e_klasse   \n",
       "152      0          bus               2004  manual    101         meriva   \n",
       "231      0        wagon               2001  manual    115         mondeo   \n",
       "\n",
       "     kilometer  registration_month          fuel_type           brand  \\\n",
       "7        40000                   7             petrol      volkswagen   \n",
       "59      150000                  11  unknown_fuel_type  sonstige_autos   \n",
       "89      150000                   4           gasoline   mercedes_benz   \n",
       "152     150000                  10                lpg            opel   \n",
       "231     150000                   0  unknown_fuel_type            ford   \n",
       "\n",
       "                  repaired  \n",
       "7                       no  \n",
       "59   unknown_repair_status  \n",
       "89                      no  \n",
       "152                    yes  \n",
       "231  unknown_repair_status  "
      ]
     },
     "execution_count": 59,
     "metadata": {},
     "output_type": "execute_result"
    }
   ],
   "source": [
    "#Есть нулевые значения. Посмотрим на значения\n",
    "raw_autos_upd.query('price < 2').head()"
   ]
  },
  {
   "cell_type": "code",
   "execution_count": 60,
   "metadata": {},
   "outputs": [
    {
     "name": "stdout",
     "output_type": "stream",
     "text": [
      "Количество автомобилей с ценой 0: 6200\n"
     ]
    }
   ],
   "source": [
    "print(f'Количество автомобилей с ценой 0: {len(raw_autos_upd.query(\"price == 0\"))}')"
   ]
  },
  {
   "cell_type": "code",
   "execution_count": 61,
   "metadata": {},
   "outputs": [],
   "source": [
    "#Отфильтруем машины, цена которых равно 0 евро.\n",
    "raw_autos_upd = raw_autos_upd.query('price > 0').reset_index(drop=True)"
   ]
  },
  {
   "cell_type": "markdown",
   "metadata": {},
   "source": [
    "<div class=\"alert alert-block alert-success\">\n",
    "<b>✔️ Успех:</b>\n",
    "\n",
    "В данных остались машины только с адекватной ценой 👍\n",
    "</div>"
   ]
  },
  {
   "cell_type": "code",
   "execution_count": 62,
   "metadata": {},
   "outputs": [
    {
     "name": "stdout",
     "output_type": "stream",
     "text": [
      "<class 'pandas.core.frame.DataFrame'>\n",
      "RangeIndex: 283015 entries, 0 to 283014\n",
      "Data columns (total 11 columns):\n",
      " #   Column              Non-Null Count   Dtype \n",
      "---  ------              --------------   ----- \n",
      " 0   price               283015 non-null  int64 \n",
      " 1   vehicle_type        283015 non-null  object\n",
      " 2   registration_year   283015 non-null  int64 \n",
      " 3   gearbox             283015 non-null  object\n",
      " 4   power               283015 non-null  int64 \n",
      " 5   model               283015 non-null  object\n",
      " 6   kilometer           283015 non-null  int64 \n",
      " 7   registration_month  283015 non-null  int64 \n",
      " 8   fuel_type           283015 non-null  object\n",
      " 9   brand               283015 non-null  object\n",
      " 10  repaired            283015 non-null  object\n",
      "dtypes: int64(5), object(6)\n",
      "memory usage: 23.8+ MB\n"
     ]
    }
   ],
   "source": [
    "raw_autos_upd.info()"
   ]
  },
  {
   "cell_type": "code",
   "execution_count": 63,
   "metadata": {},
   "outputs": [],
   "source": [
    "#Функция которая проверит пропущенные значения, дупликаты, есть ли отрицательтные значения, соотвествующие типы данных float64\n",
    "def get_preprocessed_data(raw_data):\n",
    "    \"\"\"\n",
    "    Функция проверяет данные. Возвращает предобработанные данные для обучения.\n",
    "    raw_data - данные для проверки\n",
    "    \"\"\"\n",
    "    # проверяем данные\n",
    "    assert raw_data.isna().sum().sum() == 0, 'В данных не должно быть пропущенных значений!'\n",
    "    assert raw_data.select_dtypes(exclude=[np.float64, np.int64, np.object, np.datetime64]).size == 0, 'Данные должны иметь только численный тип данных!'\n",
    "    assert raw_data.duplicated().sum().sum() == 0, 'В данных не должно быть дупликатов!'\n",
    "    print('Данные проверку прошли!')\n",
    "    #создаем копию оригинального датафрейма\n",
    "    preprocessed_data = raw_data.copy()\n",
    "    \n",
    "    return preprocessed_data"
   ]
  },
  {
   "cell_type": "code",
   "execution_count": 64,
   "metadata": {},
   "outputs": [
    {
     "name": "stdout",
     "output_type": "stream",
     "text": [
      "Данные проверку прошли!\n"
     ]
    }
   ],
   "source": [
    "autos = get_preprocessed_data(raw_autos_upd)"
   ]
  },
  {
   "cell_type": "markdown",
   "metadata": {},
   "source": [
    "<div class=\"alert alert-block alert-success\">\n",
    "<b>✔️ Успех:</b>\n",
    "\n",
    "Данные успешно обработаны 👍\n",
    "</div>"
   ]
  },
  {
   "cell_type": "markdown",
   "metadata": {},
   "source": [
    "#### Кодирование"
   ]
  },
  {
   "cell_type": "markdown",
   "metadata": {},
   "source": [
    "Столбцы vehicle_type, model, fuel_type, brand, repaired. - категориальные признаки. Необходимо их перевести в численные признаки. Используем технику кодирования Ordinal Encoding, так как у нас много значений в категориальных признаков."
   ]
  },
  {
   "cell_type": "code",
   "execution_count": 65,
   "metadata": {},
   "outputs": [],
   "source": [
    "# создаем обьект\n",
    "encoder = OrdinalEncoder()"
   ]
  },
  {
   "cell_type": "markdown",
   "metadata": {},
   "source": [
    "\n",
    "Используем функцию fit_transform(), которая возьмет лист категориальных признаков и преобразует их. Создадим новый датафрейм с уже преобразоваными признаками."
   ]
  },
  {
   "cell_type": "code",
   "execution_count": 66,
   "metadata": {},
   "outputs": [
    {
     "data": {
      "text/html": [
       "<div>\n",
       "<style scoped>\n",
       "    .dataframe tbody tr th:only-of-type {\n",
       "        vertical-align: middle;\n",
       "    }\n",
       "\n",
       "    .dataframe tbody tr th {\n",
       "        vertical-align: top;\n",
       "    }\n",
       "\n",
       "    .dataframe thead th {\n",
       "        text-align: right;\n",
       "    }\n",
       "</style>\n",
       "<table border=\"1\" class=\"dataframe\">\n",
       "  <thead>\n",
       "    <tr style=\"text-align: right;\">\n",
       "      <th></th>\n",
       "      <th>price</th>\n",
       "      <th>vehicle_type</th>\n",
       "      <th>registration_year</th>\n",
       "      <th>gearbox</th>\n",
       "      <th>power</th>\n",
       "      <th>model</th>\n",
       "      <th>kilometer</th>\n",
       "      <th>registration_month</th>\n",
       "      <th>fuel_type</th>\n",
       "      <th>brand</th>\n",
       "      <th>repaired</th>\n",
       "    </tr>\n",
       "  </thead>\n",
       "  <tbody>\n",
       "    <tr>\n",
       "      <th>0</th>\n",
       "      <td>18300</td>\n",
       "      <td>2.000</td>\n",
       "      <td>2011</td>\n",
       "      <td>1.000</td>\n",
       "      <td>190</td>\n",
       "      <td>227.000</td>\n",
       "      <td>125000</td>\n",
       "      <td>5</td>\n",
       "      <td>2.000</td>\n",
       "      <td>1.000</td>\n",
       "      <td>2.000</td>\n",
       "    </tr>\n",
       "    <tr>\n",
       "      <th>1</th>\n",
       "      <td>9800</td>\n",
       "      <td>6.000</td>\n",
       "      <td>2004</td>\n",
       "      <td>0.000</td>\n",
       "      <td>163</td>\n",
       "      <td>117.000</td>\n",
       "      <td>125000</td>\n",
       "      <td>8</td>\n",
       "      <td>2.000</td>\n",
       "      <td>14.000</td>\n",
       "      <td>1.000</td>\n",
       "    </tr>\n",
       "    <tr>\n",
       "      <th>2</th>\n",
       "      <td>1500</td>\n",
       "      <td>5.000</td>\n",
       "      <td>2001</td>\n",
       "      <td>1.000</td>\n",
       "      <td>75</td>\n",
       "      <td>116.000</td>\n",
       "      <td>150000</td>\n",
       "      <td>6</td>\n",
       "      <td>6.000</td>\n",
       "      <td>38.000</td>\n",
       "      <td>0.000</td>\n",
       "    </tr>\n",
       "    <tr>\n",
       "      <th>3</th>\n",
       "      <td>3600</td>\n",
       "      <td>5.000</td>\n",
       "      <td>2008</td>\n",
       "      <td>1.000</td>\n",
       "      <td>69</td>\n",
       "      <td>101.000</td>\n",
       "      <td>90000</td>\n",
       "      <td>7</td>\n",
       "      <td>2.000</td>\n",
       "      <td>31.000</td>\n",
       "      <td>0.000</td>\n",
       "    </tr>\n",
       "    <tr>\n",
       "      <th>4</th>\n",
       "      <td>650</td>\n",
       "      <td>4.000</td>\n",
       "      <td>1995</td>\n",
       "      <td>1.000</td>\n",
       "      <td>102</td>\n",
       "      <td>11.000</td>\n",
       "      <td>150000</td>\n",
       "      <td>10</td>\n",
       "      <td>6.000</td>\n",
       "      <td>2.000</td>\n",
       "      <td>2.000</td>\n",
       "    </tr>\n",
       "  </tbody>\n",
       "</table>\n",
       "</div>"
      ],
      "text/plain": [
       "   price  vehicle_type  registration_year  gearbox  power   model  kilometer  \\\n",
       "0  18300         2.000               2011    1.000    190 227.000     125000   \n",
       "1   9800         6.000               2004    0.000    163 117.000     125000   \n",
       "2   1500         5.000               2001    1.000     75 116.000     150000   \n",
       "3   3600         5.000               2008    1.000     69 101.000      90000   \n",
       "4    650         4.000               1995    1.000    102  11.000     150000   \n",
       "\n",
       "   registration_month  fuel_type  brand  repaired  \n",
       "0                   5      2.000  1.000     2.000  \n",
       "1                   8      2.000 14.000     1.000  \n",
       "2                   6      6.000 38.000     0.000  \n",
       "3                   7      2.000 31.000     0.000  \n",
       "4                  10      6.000  2.000     2.000  "
      ]
     },
     "execution_count": 66,
     "metadata": {},
     "output_type": "execute_result"
    }
   ],
   "source": [
    "autos_ordinal = autos.copy()\n",
    "autos_ordinal.loc[:,['vehicle_type', 'model', 'fuel_type', 'brand', 'repaired','gearbox']] = encoder.fit_transform(autos_ordinal.loc[:,['vehicle_type', 'model', 'fuel_type', 'brand', 'repaired','gearbox']])\n",
    "autos_ordinal.head()"
   ]
  },
  {
   "cell_type": "markdown",
   "metadata": {},
   "source": [
    "<div class=\"alert alert-block alert-success\">\n",
    "<b>✔️ Успех:</b>\n",
    "\n",
    "Для моделей, основанных на деревьях решений, порядковое кодирование отлично подойдет 👍\n",
    "</div>"
   ]
  },
  {
   "cell_type": "markdown",
   "metadata": {},
   "source": [
    "<div class=\"alert alert-block alert-danger\">\n",
    "<b>❌ Замечание:</b>\n",
    "\n",
    "Кодировать данные стоит после разбиения на выборки)\n",
    "\n",
    "Кодирование переменных до разделения на обучающий и тестовый наборы может привести к \"утечке данных\". Это происходит потому, что кодирование во всем наборе данных, включая тестовый набор, может позволить модели запомнить целевые значения в тестовом наборе, которые не являются репрезентативными для реальных данных, с которыми модель еще не сталкивалась. Это может привести к чрезмерной подгонке и дать слишком оптимистичную оценку эффективности модели. Важно сначала разделить данные на обучающий и тестовый наборы, а затем выполнить кодирование, чтобы предотвратить утечку данных.\n",
    "</div>"
   ]
  },
  {
   "cell_type": "markdown",
   "metadata": {},
   "source": [
    "```python\n",
    "# порядковое кодирование\n",
    "encoder = OrdinalEncoder(handle_unknown='use_encoded_value', unknown_value=9999)\n",
    "cat_columns = [список всех категориальных признаков]\n",
    "encoder.fit(features_train[cat_columns])\n",
    "\n",
    "features_train_ord = features_train.copy()\n",
    "features_valid_ord = features_valid.copy()\n",
    "features_test_ord = features_test.copy()\n",
    "\n",
    "features_train_ord[cat_columns] = encoder.transform(features_train_ord[cat_columns])\n",
    "features_valid_ord[cat_columns] = encoder.transform(features_valid_ord[cat_columns])\n",
    "features_test_ord[cat_columns] = encoder.transform(features_test_ord[cat_columns])\n",
    "```"
   ]
  },
  {
   "cell_type": "markdown",
   "metadata": {},
   "source": [
    "#### Разделение данных"
   ]
  },
  {
   "cell_type": "markdown",
   "metadata": {},
   "source": [
    "Нам необходимо проверить модель на правильные предсказания. Мы разделим выборку для кросс-валидации. Разделим исходные данные на 2 выборки: обучающую и тестовую в соотношениее (75/25). Валидационная выборка формируется во время кросс-валидации."
   ]
  },
  {
   "cell_type": "code",
   "execution_count": 67,
   "metadata": {},
   "outputs": [],
   "source": [
    "#Для начала напишем функцию разделения целевого признака от остальных.\n",
    "def target_features_split(data,column):\n",
    "    \"\"\"\n",
    "    Функция разделяет данные на целевой признак и признаки. Функция возвращает 1) целевой признак, 2) признаки без целевого\n",
    "    data - данные которые необходимо разделить.\n",
    "    column - целевой признак\n",
    "    \"\"\"\n",
    "    return data[column], data.drop(column,axis=1)"
   ]
  },
  {
   "cell_type": "code",
   "execution_count": 68,
   "metadata": {},
   "outputs": [],
   "source": [
    "#Зафиксируем *random_state*\n",
    "random_state_value = 42"
   ]
  },
  {
   "cell_type": "code",
   "execution_count": 69,
   "metadata": {},
   "outputs": [],
   "source": [
    "target, features = target_features_split(autos_ordinal, 'price')"
   ]
  },
  {
   "cell_type": "code",
   "execution_count": 70,
   "metadata": {},
   "outputs": [],
   "source": [
    "#Напишем функцию для деления данных и печати размеров полученных наборов, чтобы избежать ошибок.\n",
    "def sampleSize(original, train, test):\n",
    "    \"\"\"\n",
    "    Функция для печати полученных наборов.\n",
    "    original - исходные данные\n",
    "    train - обучающая выборка\n",
    "    valid - валидационная выборка\n",
    "    test - тестовая выборка\n",
    "    \"\"\"\n",
    "    print(f'Размер исходных данных {len(original)}')\n",
    "    print(f'Размер тренировочной выборки {len(train)}')\n",
    "    print(f'Размер тестовой выборки {len(test)}')"
   ]
  },
  {
   "cell_type": "code",
   "execution_count": 71,
   "metadata": {},
   "outputs": [],
   "source": [
    "def cross_val_splitting_data(target,features):\n",
    "    \"\"\"\n",
    "    Функция для разделения данных на обучающую и тестовую выборки. Функция возвращает признаки и целевой признак: обучающей и тестовой выборки\n",
    "    target - целевой признак\n",
    "    features - признаки без целевого\n",
    "    \"\"\"\n",
    "    features_train, features_test, target_train, target_test = train_test_split(features, target,random_state=random_state_value,test_size=0.25)\n",
    "    # проверяем размеры выборок\n",
    "    sampleSize(features,features_train,features_test)\n",
    "    return features_train,target_train, features_test, target_test"
   ]
  },
  {
   "cell_type": "code",
   "execution_count": 72,
   "metadata": {},
   "outputs": [
    {
     "name": "stdout",
     "output_type": "stream",
     "text": [
      "Размер исходных данных 283015\n",
      "Размер тренировочной выборки 212261\n",
      "Размер тестовой выборки 70754\n"
     ]
    }
   ],
   "source": [
    "features_train_cross, target_train_cross, features_test_cross, target_test_cross = cross_val_splitting_data(target, features)"
   ]
  },
  {
   "cell_type": "markdown",
   "metadata": {},
   "source": [
    "<div class=\"alert alert-block alert-success\">\n",
    "<b>✔️ Успех:</b> \n",
    "\n",
    "Данные поделены верно, пропорции выбраны адекватные 👍\n",
    "</div>"
   ]
  },
  {
   "cell_type": "markdown",
   "metadata": {},
   "source": [
    "#### Стандартизация"
   ]
  },
  {
   "cell_type": "markdown",
   "metadata": {},
   "source": [
    "У наших признаков разный масштаб. Необходимо привести признаки к одному масштабу."
   ]
  },
  {
   "cell_type": "code",
   "execution_count": 73,
   "metadata": {},
   "outputs": [],
   "source": [
    "#Воспользуемся отдельной структурой библиотеки sklearn для стандартизирования - Standard Scaler\n",
    "def crossValStandardScaling(features_train, features_test):\n",
    "    \"\"\"\n",
    "    Функция для стандартизации данных. Возвращает стандартизированые данные из обучающей и тестовой выборки\n",
    "    features_train - признаки обучающей выборки\n",
    "    features_test - признаки тестовой выборки\n",
    "    \"\"\"\n",
    "    features_train_copy = features_train.copy()\n",
    "    features_test_copy = features_test.copy()\n",
    "    # Инициализируем scaler\n",
    "    scaler = StandardScaler()\n",
    "    # численные столбцы \n",
    "    numeric = ['power','registration_year', 'kilometer']\n",
    "    # настраиваем scaler на обучающей выборке\n",
    "    scaler.fit(features_train_copy.loc[:,numeric])\n",
    "    # преобразуем выборки с помощью transform() функции.\n",
    "    features_train_copy.loc[:,numeric] = scaler.transform(features_train_copy.loc[:,numeric])\n",
    "    features_test_copy.loc[:,numeric] = scaler.transform(features_test_copy.loc[:,numeric])\n",
    "    \n",
    "    return features_train_copy, features_test_copy"
   ]
  },
  {
   "cell_type": "code",
   "execution_count": 74,
   "metadata": {},
   "outputs": [],
   "source": [
    "features_train_cross, features_test_cross = crossValStandardScaling(features_train_cross, features_test_cross)"
   ]
  },
  {
   "cell_type": "markdown",
   "metadata": {},
   "source": [
    "<div class=\"alert alert-block alert-success\">\n",
    "<b>✔️ Успех:</b>\n",
    "\n",
    "Отлично, признаки масштабированы 👍 Не забыли, что fit нужно делать только на train выборке.\n",
    "</div>"
   ]
  },
  {
   "cell_type": "markdown",
   "metadata": {},
   "source": [
    "**Вывод**"
   ]
  },
  {
   "cell_type": "markdown",
   "metadata": {},
   "source": [
    "На этапе предобработки данных, мы:  \n",
    "1.Обработали столбцы. Привели все столбцы к нижнему регистру.  \n",
    "2.Обработали пропущенные значения.  \n",
    "3.Сделали кодирование.  \n",
    "4.Убрали ненужные столбцы.  \n",
    "5.Сделали финальные проверки с помощью кастомной функции. Данные проверку прошли.  \n",
    "6.Мы разделили выборку для кросс-валидации. Разделили исходные данные на 2 выборки: обучающую и тестовую в соотношениее (75/25).  \n",
    "7.Привели признаки к одному масштабу с помощью стандартизации.  \n",
    "Данные предобработаны и готовы к обучению моделей машинного обучения."
   ]
  },
  {
   "cell_type": "markdown",
   "metadata": {},
   "source": [
    "## Обучение моделей"
   ]
  },
  {
   "cell_type": "markdown",
   "metadata": {},
   "source": [
    "На этом этапе нам необходимо исследовать модели машинного обучения. Найти лучшую модель.  \n",
    "\n",
    "Необходимо проверить некоторые модели регрессии. Переберём гиперпараметры, посмотрим значения метрик:  \n",
    "\n",
    "* RMSE (квадратный корень из средней квадратичной ошибки).  \n",
    "\n",
    "Мы будем вести учёт моделей машинного обучения. Создадим лист моделей с помощью словаря. Потом из словаря преобразуем таблицу моделей со всеми метриками.  "
   ]
  },
  {
   "cell_type": "code",
   "execution_count": 75,
   "metadata": {},
   "outputs": [],
   "source": [
    "ml_models_stats = dict()"
   ]
  },
  {
   "cell_type": "code",
   "execution_count": 76,
   "metadata": {},
   "outputs": [],
   "source": [
    "#Напишем функцию для оценки моделей\n",
    "def evaluate_model(model_name, model,training_time,features_test, target_test,features_train, target_train,parameters=None):\n",
    "    \"\"\"\n",
    "    Функция оценивает модель по метрике rmse, добавляет модель в таблицу с метрикой и временем обучения.\n",
    "    model_name - имя модели\n",
    "    model - сама модель\n",
    "    train_score - точность на обучающей выборке\n",
    "    features_test - признаки на тестовой выборке\n",
    "    target_test - целевой признак на тестовой выборке\n",
    "    parameters - параметры модели\n",
    "    \"\"\"\n",
    "    print(f'Оценка модели: {model_name}')\n",
    "    if parameters:\n",
    "        print(f'с параметрами: {parameters}')\n",
    "    print()\n",
    "    predict_start = datetime.datetime.now()\n",
    "    predicted_test = model.predict(features_test)\n",
    "    predict_time = datetime.datetime.now() - predict_start\n",
    "    # MSE - средняя квадратичная ошибка\n",
    "    mse_test = mean_squared_error(target_test, predicted_test)\n",
    "    # RMSE - квардратный корень из средней квадратичной ошибки\n",
    "    rmse_test = mse_test ** 0.5\n",
    "    predicted_train = model.predict(features_train)\n",
    "    # MSE - средняя квадратичная ошибка\n",
    "    mse_train = mean_squared_error(target_train, predicted_train)\n",
    "    # RMSE - квардратный корень из средней квадратичной ошибки\n",
    "    rmse_train = mse_train ** 0.5\n",
    "    \n",
    "    print(f'RMSE модели на обучающей выборке: {rmse_train}')\n",
    "    print(f'RMSE модели на тестовой выборке: {rmse_test}')\n",
    "    print(f'Время обучения модели: {training_time}')\n",
    "    print(f'Время предсказания модели: {predict_time}')\n",
    "    # добаляем модель\n",
    "    ml_models_stats[model_name] = {\n",
    "        'название': model_name,\n",
    "        'время_обучения': training_time,\n",
    "        'время_предсказания':predict_time,\n",
    "        'rmse_test':rmse_test,\n",
    "        'rmse_train':rmse_train\n",
    "    }\n",
    "    print()\n",
    "    print('Модель успешно добавлена в таблицу!')"
   ]
  },
  {
   "cell_type": "markdown",
   "metadata": {},
   "source": [
    "Подоберём параметры с помощью GridSearchCV, в которой встроена кросс-валидация."
   ]
  },
  {
   "cell_type": "code",
   "execution_count": 77,
   "metadata": {},
   "outputs": [],
   "source": [
    "#Создадим scorer для GridSearch\n",
    "def rmse(target,predictions):\n",
    "    \"\"\"\n",
    "    Функция для вычисления RMSE\n",
    "    target - целевой признак\n",
    "    predictions - предсказания\n",
    "    \"\"\"\n",
    "    mse = mean_squared_error(target, predictions)\n",
    "    return mse ** 0.5"
   ]
  },
  {
   "cell_type": "code",
   "execution_count": 78,
   "metadata": {},
   "outputs": [],
   "source": [
    "rmse_scorer = make_scorer(rmse, greater_is_better=False)"
   ]
  },
  {
   "cell_type": "markdown",
   "metadata": {},
   "source": [
    "Линейнейная регрессия не будет работать корректно с ordinal encoding. Следовательно, ее пропустим и начнём с дерева решений. Мы бы сделали OHE encoding, однако, у нас очень много значений в категориальных признаках. OHE encoding наплодить кучу столбцов, что затруднит предсказание модели."
   ]
  },
  {
   "cell_type": "markdown",
   "metadata": {},
   "source": [
    "<div class=\"alert alert-block alert-success\">\n",
    "<b>✔️ Успех:</b>\n",
    "\n",
    "Хорошие помощники 👍\n",
    "</div>"
   ]
  },
  {
   "cell_type": "markdown",
   "metadata": {},
   "source": [
    "### Дерево Решений"
   ]
  },
  {
   "cell_type": "code",
   "execution_count": 79,
   "metadata": {},
   "outputs": [],
   "source": [
    "start = datetime.datetime.now()\n",
    "# создаем модель\n",
    "decision_tree_model = DecisionTreeRegressor()\n",
    "# параметры\n",
    "decision_parameters = {\n",
    "              \"max_depth\": range(1, 11),\n",
    "              \"min_samples_leaf\": range(1, 11)\n",
    "}\n",
    "\n",
    "decision_grid =  RandomizedSearchCV(estimator=decision_tree_model, param_distributions=decision_parameters, cv=5,scoring=rmse_scorer, n_iter = 20, n_jobs=-1)\n",
    "decision_grid.fit(features_train_cross,target_train_cross)\n",
    "training_time = datetime.datetime.now() - start"
   ]
  },
  {
   "cell_type": "code",
   "execution_count": 80,
   "metadata": {},
   "outputs": [
    {
     "name": "stdout",
     "output_type": "stream",
     "text": [
      "Оценка модели: Дерево решений\n",
      "с параметрами: {'min_samples_leaf': 9, 'max_depth': 10}\n",
      "\n",
      "RMSE модели на обучающей выборке: 1908.698683463817\n",
      "RMSE модели на тестовой выборке: 1990.688350508442\n",
      "Время обучения модели: 0:00:22.873429\n",
      "Время предсказания модели: 0:00:00.013115\n",
      "\n",
      "Модель успешно добавлена в таблицу!\n"
     ]
    }
   ],
   "source": [
    "evaluate_model('Дерево решений', decision_grid,training_time,features_test_cross, target_test_cross,features_train_cross,target_train_cross,decision_grid.best_params_)\n"
   ]
  },
  {
   "cell_type": "markdown",
   "metadata": {},
   "source": [
    "У Дерева Решений получше результат. Модель также быстро обучилась. Ошибается на ~2000 евро"
   ]
  },
  {
   "cell_type": "markdown",
   "metadata": {},
   "source": [
    "<div class=\"alert alert-block alert-success\">\n",
    "<b>✔️ Успех:</b> \n",
    "\n",
    "Модель обучена корректно 👍\n",
    "</div>"
   ]
  },
  {
   "cell_type": "markdown",
   "metadata": {},
   "source": [
    "### Рандомный лес"
   ]
  },
  {
   "cell_type": "code",
   "execution_count": 81,
   "metadata": {},
   "outputs": [],
   "source": [
    "start = datetime.datetime.now()\n",
    "# создаем модель\n",
    "random_forest_model = RandomForestRegressor()\n",
    "# Параметры, которые мы перебираем\n",
    "gs_params = {\n",
    "    'max_depth': range(1, 21),\n",
    "    'n_estimators':range(1,61,10)\n",
    "}\n",
    "# Создаем GridSearch для модели\n",
    "forest_rs = RandomizedSearchCV(estimator=random_forest_model,param_distributions=gs_params,scoring=rmse_scorer,cv=5,n_iter = 20,n_jobs=-1)\n",
    "# Обучаем модель\n",
    "forest_rs.fit(features_train_cross,target_train_cross)\n",
    "training_time = datetime.datetime.now() - start"
   ]
  },
  {
   "cell_type": "code",
   "execution_count": 82,
   "metadata": {},
   "outputs": [
    {
     "name": "stdout",
     "output_type": "stream",
     "text": [
      "Оценка модели: Рандомный лес\n",
      "с параметрами: {'n_estimators': 41, 'max_depth': 19}\n",
      "\n",
      "RMSE модели на обучающей выборке: 942.7523642723938\n",
      "RMSE модели на тестовой выборке: 1664.1476059627541\n",
      "Время обучения модели: 0:10:37.123084\n",
      "Время предсказания модели: 0:00:00.932481\n",
      "\n",
      "Модель успешно добавлена в таблицу!\n"
     ]
    }
   ],
   "source": [
    "evaluate_model('Рандомный лес', forest_rs,training_time,features_test_cross, target_test_cross,features_train_cross,target_train_cross,forest_rs.best_params_)\n"
   ]
  },
  {
   "cell_type": "markdown",
   "metadata": {},
   "source": [
    "Рандомный лес обучается долго чем остальные модели. Однако, он показал хороший результат на обучающей выборке и на тестовой. На обучающей ошибается ~ 1100 евро. На тестовой выборке ошибается на 1660 евро."
   ]
  },
  {
   "cell_type": "markdown",
   "metadata": {},
   "source": [
    "<div class=\"alert alert-block alert-success\">\n",
    "<b>✔️ Успех:</b> \n",
    "\n",
    "Модель обучена корректно 👍\n",
    "</div>"
   ]
  },
  {
   "cell_type": "markdown",
   "metadata": {},
   "source": [
    "### LightGBM"
   ]
  },
  {
   "cell_type": "code",
   "execution_count": 83,
   "metadata": {},
   "outputs": [],
   "source": [
    "start = datetime.datetime.now()\n",
    "lgb_params = {\n",
    "    'objective': ['regression','binary'],\n",
    "    'boosting_type' : ['dart','gbdt','goss'],\n",
    "    'max_depth': [15,30],\n",
    "    'num_leaves': [10,200,250]\n",
    "}\n",
    "lgb_reg = lgb.LGBMRegressor()\n",
    "lgb_gs = GridSearchCV(lgb_reg, lgb_params,scoring=rmse_scorer,n_jobs=-1)\n",
    "lgb_gs.fit(features_train_cross,target_train_cross)\n",
    "training_time = datetime.datetime.now() - start"
   ]
  },
  {
   "cell_type": "code",
   "execution_count": 84,
   "metadata": {},
   "outputs": [
    {
     "name": "stdout",
     "output_type": "stream",
     "text": [
      "Оценка модели: LightGBM\n",
      "с параметрами: {'boosting_type': 'goss', 'max_depth': 30, 'num_leaves': 250, 'objective': 'regression'}\n",
      "\n",
      "RMSE модели на обучающей выборке: 1422.1848557965757\n",
      "RMSE модели на тестовой выборке: 1602.5039324047605\n",
      "Время обучения модели: 0:26:36.457654\n",
      "Время предсказания модели: 0:00:01.004535\n",
      "\n",
      "Модель успешно добавлена в таблицу!\n"
     ]
    }
   ],
   "source": [
    "evaluate_model('LightGBM', lgb_gs,training_time,features_test_cross, target_test_cross,features_train_cross,target_train_cross,lgb_gs.best_params_)"
   ]
  },
  {
   "cell_type": "markdown",
   "metadata": {},
   "source": [
    "Лучший результат на тестовой выборке. Модель ошибаетсч на 1606 евро."
   ]
  },
  {
   "cell_type": "markdown",
   "metadata": {},
   "source": [
    "<div class=\"alert alert-block alert-success\">\n",
    "<b>✔️ Успех:</b> \n",
    "\n",
    "Модель обучена корректно 👍\n",
    "</div>"
   ]
  },
  {
   "cell_type": "markdown",
   "metadata": {},
   "source": [
    "### CatBoost"
   ]
  },
  {
   "cell_type": "code",
   "execution_count": 85,
   "metadata": {},
   "outputs": [],
   "source": [
    "start = datetime.datetime.now()\n",
    "catBoost_params = {\n",
    "    'learning_rate': [1],\n",
    "    'depth': [5, 6, 7, 8],\n",
    "    'l2_leaf_reg': [1, 2, 3]\n",
    "}\n",
    "catBoost_reg = CatBoostRegressor(loss_function='RMSE',random_state=random_state_value,silent=True,eval_metric=\"RMSE\")\n",
    "catBoost_gs = GridSearchCV(catBoost_reg, catBoost_params,scoring=rmse_scorer,n_jobs=-1)\n",
    "catBoost_gs.fit(features_train_cross,  target_train_cross)\n",
    "training_time = datetime.datetime.now() - start"
   ]
  },
  {
   "cell_type": "code",
   "execution_count": 86,
   "metadata": {},
   "outputs": [
    {
     "name": "stdout",
     "output_type": "stream",
     "text": [
      "Оценка модели: CatBoost\n",
      "с параметрами: {'depth': 5, 'l2_leaf_reg': 3, 'learning_rate': 1}\n",
      "\n",
      "RMSE модели на обучающей выборке: 1380.7964664998067\n",
      "RMSE модели на тестовой выборке: 1662.6493826463202\n",
      "Время обучения модели: 0:26:53.574692\n",
      "Время предсказания модели: 0:00:00.073471\n",
      "\n",
      "Модель успешно добавлена в таблицу!\n"
     ]
    }
   ],
   "source": [
    "evaluate_model('CatBoost', catBoost_gs,training_time, features_test_cross, target_test_cross,features_train_cross,target_train_cross,catBoost_gs.best_params_)\n"
   ]
  },
  {
   "cell_type": "markdown",
   "metadata": {},
   "source": [
    "Проведем проверку на вменяемость. Обучим Dummy модель"
   ]
  },
  {
   "cell_type": "markdown",
   "metadata": {},
   "source": [
    "<div class=\"alert alert-block alert-success\">\n",
    "<b>✔️ Успех:</b> \n",
    "\n",
    "Модель обучена корректно 👍\n",
    "</div>"
   ]
  },
  {
   "cell_type": "markdown",
   "metadata": {},
   "source": [
    "### Dummy"
   ]
  },
  {
   "cell_type": "code",
   "execution_count": 87,
   "metadata": {},
   "outputs": [],
   "source": [
    "start = datetime.datetime.now()\n",
    "# создаем модель\n",
    "dummy_model = DummyRegressor(strategy=\"constant\", constant=target_train_cross.median())\n",
    "# тренируем модель\n",
    "dummy_model.fit(features_train_cross,target_train_cross)\n",
    "training_time = datetime.datetime.now() - start"
   ]
  },
  {
   "cell_type": "code",
   "execution_count": 88,
   "metadata": {},
   "outputs": [
    {
     "name": "stdout",
     "output_type": "stream",
     "text": [
      "Оценка модели: Дамми модель\n",
      "\n",
      "RMSE модели на обучающей выборке: 4925.31598536369\n",
      "RMSE модели на тестовой выборке: 4935.895636107522\n",
      "Время обучения модели: 0:00:00.010524\n",
      "Время предсказания модели: 0:00:00.000519\n",
      "\n",
      "Модель успешно добавлена в таблицу!\n"
     ]
    }
   ],
   "source": [
    "evaluate_model('Дамми модель', dummy_model, training_time, features_test_cross, target_test_cross,features_train_cross,target_train_cross)\n"
   ]
  },
  {
   "cell_type": "markdown",
   "metadata": {},
   "source": [
    "<div class=\"alert alert-block alert-success\">\n",
    "<b>✔️ Успех:</b> \n",
    "\n",
    "Модель обучена корректно 👍\n",
    "</div>"
   ]
  },
  {
   "cell_type": "markdown",
   "metadata": {},
   "source": [
    "**Вывод**  \n",
    "На этом этапе мы исследовали разные ML модели: Линейная Регрессия, Дерево Решение, Рандомный Лес, LightGBM, CatBoost. Написали функцию для оценки моделей."
   ]
  },
  {
   "cell_type": "markdown",
   "metadata": {},
   "source": [
    "## Анализ моделей"
   ]
  },
  {
   "cell_type": "markdown",
   "metadata": {},
   "source": [
    "На этом этапе надо проанализировать скорость работы и качество моделей.\n",
    "\n",
    "Мы проверили 5 моделей машинного обучения (Linear Regression, Decision Tree, Random Forest,  LightGBM, CatBoost). Подобрали параметры с помощью GridSearchCV, в котором встроена кросс-валидация\n",
    "\n",
    "Для бизнеса важны следующие метрики: точность, время обучения, время предсказания. По этим метрикам будем выбирать лучшую модель."
   ]
  },
  {
   "cell_type": "code",
   "execution_count": 89,
   "metadata": {},
   "outputs": [],
   "source": [
    "#Напишем дополнительную функцию для вывода графиков\n",
    "\n",
    "def drawPlot(df,x_axis, y_axis, x_label, y_label,plot_title, order_by=None):\n",
    "    \"\"\"\n",
    "    Функция отрисовки графика\n",
    "    df - данные\n",
    "    x_axis - ось x\n",
    "    y_axis - ось y\n",
    "    x_label - название оси x\n",
    "    y_label - название оси y\n",
    "    plot_title - заголовок\n",
    "    order - столбец по которому будет определяться порядок\n",
    "    \"\"\"\n",
    "    # Заголовок\n",
    "    plt.title(plot_title)\n",
    "    sns.barplot(x=x_axis,y=y_axis, data=df,order=df[order_by])\n",
    "    # подписать оси \n",
    "    plt.xlabel(x_label)\n",
    "    plt.ylabel(y_label)\n",
    "    plt.show()"
   ]
  },
  {
   "cell_type": "code",
   "execution_count": 90,
   "metadata": {},
   "outputs": [
    {
     "data": {
      "text/html": [
       "<div>\n",
       "<style scoped>\n",
       "    .dataframe tbody tr th:only-of-type {\n",
       "        vertical-align: middle;\n",
       "    }\n",
       "\n",
       "    .dataframe tbody tr th {\n",
       "        vertical-align: top;\n",
       "    }\n",
       "\n",
       "    .dataframe thead th {\n",
       "        text-align: right;\n",
       "    }\n",
       "</style>\n",
       "<table border=\"1\" class=\"dataframe\">\n",
       "  <thead>\n",
       "    <tr style=\"text-align: right;\">\n",
       "      <th></th>\n",
       "      <th>название</th>\n",
       "      <th>время_обучения</th>\n",
       "      <th>время_предсказания</th>\n",
       "      <th>rmse_test</th>\n",
       "      <th>rmse_train</th>\n",
       "    </tr>\n",
       "  </thead>\n",
       "  <tbody>\n",
       "    <tr>\n",
       "      <th>0</th>\n",
       "      <td>Дерево решений</td>\n",
       "      <td>0 days 00:00:22.873429</td>\n",
       "      <td>0 days 00:00:00.013115</td>\n",
       "      <td>1990.688</td>\n",
       "      <td>1908.699</td>\n",
       "    </tr>\n",
       "    <tr>\n",
       "      <th>1</th>\n",
       "      <td>Рандомный лес</td>\n",
       "      <td>0 days 00:10:37.123084</td>\n",
       "      <td>0 days 00:00:00.932481</td>\n",
       "      <td>1664.148</td>\n",
       "      <td>942.752</td>\n",
       "    </tr>\n",
       "    <tr>\n",
       "      <th>2</th>\n",
       "      <td>LightGBM</td>\n",
       "      <td>0 days 00:26:36.457654</td>\n",
       "      <td>0 days 00:00:01.004535</td>\n",
       "      <td>1602.504</td>\n",
       "      <td>1422.185</td>\n",
       "    </tr>\n",
       "    <tr>\n",
       "      <th>3</th>\n",
       "      <td>CatBoost</td>\n",
       "      <td>0 days 00:26:53.574692</td>\n",
       "      <td>0 days 00:00:00.073471</td>\n",
       "      <td>1662.649</td>\n",
       "      <td>1380.796</td>\n",
       "    </tr>\n",
       "    <tr>\n",
       "      <th>4</th>\n",
       "      <td>Дамми модель</td>\n",
       "      <td>0 days 00:00:00.010524</td>\n",
       "      <td>0 days 00:00:00.000519</td>\n",
       "      <td>4935.896</td>\n",
       "      <td>4925.316</td>\n",
       "    </tr>\n",
       "  </tbody>\n",
       "</table>\n",
       "</div>"
      ],
      "text/plain": [
       "         название         время_обучения     время_предсказания  rmse_test  \\\n",
       "0  Дерево решений 0 days 00:00:22.873429 0 days 00:00:00.013115   1990.688   \n",
       "1   Рандомный лес 0 days 00:10:37.123084 0 days 00:00:00.932481   1664.148   \n",
       "2        LightGBM 0 days 00:26:36.457654 0 days 00:00:01.004535   1602.504   \n",
       "3        CatBoost 0 days 00:26:53.574692 0 days 00:00:00.073471   1662.649   \n",
       "4    Дамми модель 0 days 00:00:00.010524 0 days 00:00:00.000519   4935.896   \n",
       "\n",
       "   rmse_train  \n",
       "0    1908.699  \n",
       "1     942.752  \n",
       "2    1422.185  \n",
       "3    1380.796  \n",
       "4    4925.316  "
      ]
     },
     "execution_count": 90,
     "metadata": {},
     "output_type": "execute_result"
    }
   ],
   "source": [
    "#Создадим таблицу из полученных данных.\n",
    "ml_models = pd.DataFrame.from_dict(data=ml_models_stats, orient='index').reset_index(drop=True)\n",
    "ml_models"
   ]
  },
  {
   "cell_type": "code",
   "execution_count": 91,
   "metadata": {},
   "outputs": [
    {
     "data": {
      "text/html": [
       "<div>\n",
       "<style scoped>\n",
       "    .dataframe tbody tr th:only-of-type {\n",
       "        vertical-align: middle;\n",
       "    }\n",
       "\n",
       "    .dataframe tbody tr th {\n",
       "        vertical-align: top;\n",
       "    }\n",
       "\n",
       "    .dataframe thead th {\n",
       "        text-align: right;\n",
       "    }\n",
       "</style>\n",
       "<table border=\"1\" class=\"dataframe\">\n",
       "  <thead>\n",
       "    <tr style=\"text-align: right;\">\n",
       "      <th></th>\n",
       "      <th>название</th>\n",
       "      <th>время_обучения</th>\n",
       "      <th>время_предсказания</th>\n",
       "      <th>rmse_test</th>\n",
       "      <th>rmse_train</th>\n",
       "    </tr>\n",
       "  </thead>\n",
       "  <tbody>\n",
       "    <tr>\n",
       "      <th>0</th>\n",
       "      <td>Дерево решений</td>\n",
       "      <td>0 days 00:00:22.873429</td>\n",
       "      <td>0 days 00:00:00.013115</td>\n",
       "      <td>1990.688</td>\n",
       "      <td>1908.699</td>\n",
       "    </tr>\n",
       "    <tr>\n",
       "      <th>1</th>\n",
       "      <td>Рандомный лес</td>\n",
       "      <td>0 days 00:10:37.123084</td>\n",
       "      <td>0 days 00:00:00.932481</td>\n",
       "      <td>1664.148</td>\n",
       "      <td>942.752</td>\n",
       "    </tr>\n",
       "    <tr>\n",
       "      <th>2</th>\n",
       "      <td>LightGBM</td>\n",
       "      <td>0 days 00:26:36.457654</td>\n",
       "      <td>0 days 00:00:01.004535</td>\n",
       "      <td>1602.504</td>\n",
       "      <td>1422.185</td>\n",
       "    </tr>\n",
       "    <tr>\n",
       "      <th>3</th>\n",
       "      <td>CatBoost</td>\n",
       "      <td>0 days 00:26:53.574692</td>\n",
       "      <td>0 days 00:00:00.073471</td>\n",
       "      <td>1662.649</td>\n",
       "      <td>1380.796</td>\n",
       "    </tr>\n",
       "  </tbody>\n",
       "</table>\n",
       "</div>"
      ],
      "text/plain": [
       "         название         время_обучения     время_предсказания  rmse_test  \\\n",
       "0  Дерево решений 0 days 00:00:22.873429 0 days 00:00:00.013115   1990.688   \n",
       "1   Рандомный лес 0 days 00:10:37.123084 0 days 00:00:00.932481   1664.148   \n",
       "2        LightGBM 0 days 00:26:36.457654 0 days 00:00:01.004535   1602.504   \n",
       "3        CatBoost 0 days 00:26:53.574692 0 days 00:00:00.073471   1662.649   \n",
       "\n",
       "   rmse_train  \n",
       "0    1908.699  \n",
       "1     942.752  \n",
       "2    1422.185  \n",
       "3    1380.796  "
      ]
     },
     "execution_count": 91,
     "metadata": {},
     "output_type": "execute_result"
    }
   ],
   "source": [
    "#Модели которые прошли проверку на вменяемость.\n",
    "\n",
    "approved_models = ml_models.query(\"rmse_test < 4862.087\")\n",
    "approved_models"
   ]
  },
  {
   "cell_type": "markdown",
   "metadata": {},
   "source": [
    "<div class=\"alert alert-block alert-success\">\n",
    "<b>✔️ Успех:</b>\n",
    "\n",
    "Молодец, что для сравнения моделей заносишь их в общий датафрейм 👍\n",
    "</div>"
   ]
  },
  {
   "cell_type": "markdown",
   "metadata": {},
   "source": [
    "Все модели прошли проверку на вменяемость"
   ]
  },
  {
   "cell_type": "code",
   "execution_count": 92,
   "metadata": {},
   "outputs": [],
   "source": [
    "#Переведём время предсказания в милллисекунды\n",
    "\n",
    "def milliseconds_from_timedelta(timedelta):\n",
    "    \"\"\"Перевод в миллисекунды с обьекта timedelta\"\"\"\n",
    "    return timedelta.total_seconds() * 1e3"
   ]
  },
  {
   "cell_type": "code",
   "execution_count": 93,
   "metadata": {},
   "outputs": [],
   "source": [
    "approved_models['время_предсказания_миллисекунды'] = approved_models['время_предсказания'].apply(milliseconds_from_timedelta)"
   ]
  },
  {
   "cell_type": "code",
   "execution_count": 94,
   "metadata": {},
   "outputs": [
    {
     "data": {
      "text/html": [
       "<div>\n",
       "<style scoped>\n",
       "    .dataframe tbody tr th:only-of-type {\n",
       "        vertical-align: middle;\n",
       "    }\n",
       "\n",
       "    .dataframe tbody tr th {\n",
       "        vertical-align: top;\n",
       "    }\n",
       "\n",
       "    .dataframe thead th {\n",
       "        text-align: right;\n",
       "    }\n",
       "</style>\n",
       "<table border=\"1\" class=\"dataframe\">\n",
       "  <thead>\n",
       "    <tr style=\"text-align: right;\">\n",
       "      <th></th>\n",
       "      <th>название</th>\n",
       "      <th>rmse_test</th>\n",
       "    </tr>\n",
       "  </thead>\n",
       "  <tbody>\n",
       "    <tr>\n",
       "      <th>0</th>\n",
       "      <td>LightGBM</td>\n",
       "      <td>1602.504</td>\n",
       "    </tr>\n",
       "    <tr>\n",
       "      <th>1</th>\n",
       "      <td>CatBoost</td>\n",
       "      <td>1662.649</td>\n",
       "    </tr>\n",
       "    <tr>\n",
       "      <th>2</th>\n",
       "      <td>Рандомный лес</td>\n",
       "      <td>1664.148</td>\n",
       "    </tr>\n",
       "    <tr>\n",
       "      <th>3</th>\n",
       "      <td>Дерево решений</td>\n",
       "      <td>1990.688</td>\n",
       "    </tr>\n",
       "  </tbody>\n",
       "</table>\n",
       "</div>"
      ],
      "text/plain": [
       "         название  rmse_test\n",
       "0        LightGBM   1602.504\n",
       "1        CatBoost   1662.649\n",
       "2   Рандомный лес   1664.148\n",
       "3  Дерево решений   1990.688"
      ]
     },
     "metadata": {},
     "output_type": "display_data"
    },
    {
     "data": {
      "image/png": "[encoded data removed]",
      "text/plain": [
       "<Figure size 1008x360 with 1 Axes>"
      ]
     },
     "metadata": {
      "needs_background": "light"
     },
     "output_type": "display_data"
    }
   ],
   "source": [
    "#Найдём самую лучшую модель по метрике RMSE на тестовой выборке\n",
    "\n",
    "rmse_test_sorted = approved_models.sort_values(by='rmse_test',ascending=True).reset_index()\n",
    "display(rmse_test_sorted[['название','rmse_test']])\n",
    "# Рисуем график\n",
    "drawPlot(rmse_test_sorted, 'название','rmse_test','Модели','RMSE','RMSE моделей на тестовой выборке','название' )"
   ]
  },
  {
   "cell_type": "markdown",
   "metadata": {},
   "source": [
    "На первом месте оказалась модель LightGBM с результатом - 1602.504. \n",
    "\n"
   ]
  },
  {
   "cell_type": "code",
   "execution_count": 95,
   "metadata": {},
   "outputs": [
    {
     "data": {
      "text/html": [
       "<div>\n",
       "<style scoped>\n",
       "    .dataframe tbody tr th:only-of-type {\n",
       "        vertical-align: middle;\n",
       "    }\n",
       "\n",
       "    .dataframe tbody tr th {\n",
       "        vertical-align: top;\n",
       "    }\n",
       "\n",
       "    .dataframe thead th {\n",
       "        text-align: right;\n",
       "    }\n",
       "</style>\n",
       "<table border=\"1\" class=\"dataframe\">\n",
       "  <thead>\n",
       "    <tr style=\"text-align: right;\">\n",
       "      <th></th>\n",
       "      <th>название</th>\n",
       "      <th>время_обучения</th>\n",
       "    </tr>\n",
       "  </thead>\n",
       "  <tbody>\n",
       "    <tr>\n",
       "      <th>0</th>\n",
       "      <td>Дерево решений</td>\n",
       "      <td>0 days 00:00:22.873429</td>\n",
       "    </tr>\n",
       "    <tr>\n",
       "      <th>1</th>\n",
       "      <td>Рандомный лес</td>\n",
       "      <td>0 days 00:10:37.123084</td>\n",
       "    </tr>\n",
       "    <tr>\n",
       "      <th>2</th>\n",
       "      <td>LightGBM</td>\n",
       "      <td>0 days 00:26:36.457654</td>\n",
       "    </tr>\n",
       "    <tr>\n",
       "      <th>3</th>\n",
       "      <td>CatBoost</td>\n",
       "      <td>0 days 00:26:53.574692</td>\n",
       "    </tr>\n",
       "  </tbody>\n",
       "</table>\n",
       "</div>"
      ],
      "text/plain": [
       "         название         время_обучения\n",
       "0  Дерево решений 0 days 00:00:22.873429\n",
       "1   Рандомный лес 0 days 00:10:37.123084\n",
       "2        LightGBM 0 days 00:26:36.457654\n",
       "3        CatBoost 0 days 00:26:53.574692"
      ]
     },
     "metadata": {},
     "output_type": "display_data"
    }
   ],
   "source": [
    "train_time_sorted = approved_models.sort_values(by='время_обучения',ascending=True).reset_index()\n",
    "display(train_time_sorted[['название','время_обучения']])\n"
   ]
  },
  {
   "cell_type": "markdown",
   "metadata": {},
   "source": [
    "Быстрее всего дерево решений, на втором месте рандомный лес, LightGBM и CatBoost имеет примерно одну скорость"
   ]
  },
  {
   "cell_type": "code",
   "execution_count": 96,
   "metadata": {},
   "outputs": [
    {
     "data": {
      "text/html": [
       "<div>\n",
       "<style scoped>\n",
       "    .dataframe tbody tr th:only-of-type {\n",
       "        vertical-align: middle;\n",
       "    }\n",
       "\n",
       "    .dataframe tbody tr th {\n",
       "        vertical-align: top;\n",
       "    }\n",
       "\n",
       "    .dataframe thead th {\n",
       "        text-align: right;\n",
       "    }\n",
       "</style>\n",
       "<table border=\"1\" class=\"dataframe\">\n",
       "  <thead>\n",
       "    <tr style=\"text-align: right;\">\n",
       "      <th></th>\n",
       "      <th>название</th>\n",
       "      <th>время_предсказания</th>\n",
       "    </tr>\n",
       "  </thead>\n",
       "  <tbody>\n",
       "    <tr>\n",
       "      <th>0</th>\n",
       "      <td>Дерево решений</td>\n",
       "      <td>0 days 00:00:00.013115</td>\n",
       "    </tr>\n",
       "    <tr>\n",
       "      <th>1</th>\n",
       "      <td>CatBoost</td>\n",
       "      <td>0 days 00:00:00.073471</td>\n",
       "    </tr>\n",
       "    <tr>\n",
       "      <th>2</th>\n",
       "      <td>Рандомный лес</td>\n",
       "      <td>0 days 00:00:00.932481</td>\n",
       "    </tr>\n",
       "    <tr>\n",
       "      <th>3</th>\n",
       "      <td>LightGBM</td>\n",
       "      <td>0 days 00:00:01.004535</td>\n",
       "    </tr>\n",
       "  </tbody>\n",
       "</table>\n",
       "</div>"
      ],
      "text/plain": [
       "         название     время_предсказания\n",
       "0  Дерево решений 0 days 00:00:00.013115\n",
       "1        CatBoost 0 days 00:00:00.073471\n",
       "2   Рандомный лес 0 days 00:00:00.932481\n",
       "3        LightGBM 0 days 00:00:01.004535"
      ]
     },
     "metadata": {},
     "output_type": "display_data"
    },
    {
     "data": {
      "image/png": "[encoded data removed]",
      "text/plain": [
       "<Figure size 1008x360 with 1 Axes>"
      ]
     },
     "metadata": {
      "needs_background": "light"
     },
     "output_type": "display_data"
    }
   ],
   "source": [
    "predict_time_sorted = approved_models.sort_values(by='время_предсказания_миллисекунды',ascending=True).reset_index()\n",
    "display(predict_time_sorted[['название','время_предсказания']])\n",
    "# Рисуем график\n",
    "drawPlot(predict_time_sorted,'время_предсказания_миллисекунды','название','Время, мсек','Модели','Время предсказания моделей','название' )"
   ]
  },
  {
   "cell_type": "markdown",
   "metadata": {},
   "source": [
    "Быстрее всего предсказывает дерево решений, LightGBM медленнее всего\n",
    "\n",
    "Основываясь на полученных результатах и графиках, выберем лучшую модель - CatBoost. У модели хороший показатель точности, среднее время обучения и предсказания."
   ]
  },
  {
   "cell_type": "markdown",
   "metadata": {},
   "source": [
    "<div class=\"alert alert-block alert-danger\">\n",
    "<b>❌ Замечание:</b>\n",
    "    \n",
    "Анализ моделей не должен включать тестовую выборку. Тестовая выборка используется в самом конце - в финальном тестировании лучшей модели. Выбирать лучшую модель, основываясь на результатах на тестовой выборке кажется неверным, так как это может привести к переобучению.\n",
    "\n",
    "Если валидационной выборки нет, то анализ моделей должен выглядеть так:\n",
    "\n",
    "1. RMSE вычисляется с помощью кросс-валидации на тренировочной выборке (grid.best_score_ или cross_val_score)\n",
    "2. Время обучения = время model.fit(X_train, y_train)\n",
    "3. Время предсказания = время model.predict(X_train)\n",
    "</div>"
   ]
  },
  {
   "cell_type": "markdown",
   "metadata": {},
   "source": [
    "<div class=\"alert alert-block alert-warning\">\n",
    "<b>⚠️ Совет:</b>\n",
    "\n",
    "Из того же GridSearchCV мы можем получить время обучения и время предсказания)\n",
    "\n",
    "В атрибуте `cv_results_` есть среднее время обучения и среднее время предсказания для всех комбинаций.\n",
    "</div>"
   ]
  },
  {
   "cell_type": "markdown",
   "metadata": {},
   "source": [
    "## Тестирование лучшей модели"
   ]
  },
  {
   "cell_type": "markdown",
   "metadata": {},
   "source": [
    "<div class=\"alert alert-block alert-danger\">\n",
    "<b>❌ Замечание:</b>\n",
    "\n",
    "После анализа моделей нужно порекомендовать заказчику одну модель на основе его критериев и провести на ней финальное тестирование.\n",
    "    \n",
    "Лучше в обучении и анализе не использовать тестовую выборку. Выбирать лучшую модель, основываясь на результатах на тестовой выборке кажется неверным, так как это может привести к переобучению.\n",
    "</div>"
   ]
  },
  {
   "cell_type": "markdown",
   "metadata": {},
   "source": [
    "<div class=\"alert alert-block alert-info\">\n",
    "<b>Комментарий ревьюера:</b>\n",
    "\n",
    "Для того, чтобы все было понятно, напишу конкретный план (структуру) обучения и анализа моделей:\n",
    "\n",
    "1. Обучение моделей. При обучении необходимо рассмотреть хотя бы одну простую модель и один метод бустинга. Подбор гиперпараметров должен быть проведен как минимум для одной модели. Существует два варианта:\n",
    "\n",
    "    - Без использования валидационной выборки. В этом случае гиперпараметры следует подбирать с помощью кросс-валидации (GridSearchCV, RandomizedSearchCV) или вручную (cross_val_score).\n",
    "    - С использованием валидационной выборки. В этом случае можно не использовать кросс-валидацию и подбирать гиперпараметры вручную.\n",
    "\n",
    "2. Анализ моделей. После нахождения наилучших гиперпараметров необходимо измерить время обучения, время предсказания и RMSE. Существует два варианта:\n",
    "\n",
    "    - Без использования валидационной выборки. RMSE следует рассчитать на кросс-валидации. Время обучения можно рассчитать как время выполнения метода model.fit(X_train), а время предсказания - как время выполнения метода model.predict(X_train).\n",
    "    - С использованием валидационной выборки. RMSE следует рассчитать на валидационной выборке. Время обучения можно рассчитать как время выполнения метода model.fit(X_train), а время предсказания - как время выполнения метода model.predict(X_valid).\n",
    "\n",
    "После этого необходимо сделать выводы по анализу моделей (результаты можно занести в общую таблицу) и посоветовать заказчику наиболее подходящую модель на основе его критериев.\n",
    "\n",
    "3. Тестирование. Необходимо рассчитать финальную метрику лучшей модели на тестовой выборке (при этом тестовая выборка не должна использоваться на предыдущих этапах!). RMSE должно быть не больше 2500. Если метрика не удовлетворяет требованиям, можно попробовать внести коррективы в модель (на этапе обучения, а не на тестовой выборке!).\n",
    "\n",
    "</div>"
   ]
  },
  {
   "cell_type": "markdown",
   "metadata": {},
   "source": [
    "## Выводы"
   ]
  },
  {
   "cell_type": "markdown",
   "metadata": {},
   "source": [
    "В ходе проекта мы успешно построили модели Машинного Обучения для быстрого определения стоимости автомобиля. Выбрали лучшую модель, которая соотвествует требованию бизнеса. В проекте мы сделали:\n",
    "\n",
    "* Предобработку данных:\n",
    "\n",
    "1. Обработали столбцы. Привели все столбцы к нижнему регистру.\n",
    "2. Обработали пропущенные значения.\n",
    "3. Сделали кодирование.\n",
    "4. Убрали ненужные столбцы.\n",
    "5. Сделали финальные проверки с помощью кастомной функции. Данные проверку прошли.\n",
    "6. Мы разделили выборку для кросс-валидации. Разделили исходные данные на 2 выборки: обучающую и тестовую в соотношениее (75/25).\n",
    "7. Привели признаки к одному масштабу с помощью стандартизации.\n",
    "\n",
    "* Исследовали модели Машинного обучения:\n",
    "\n",
    "1. Подобрали параметры для каждой модели с помощью GridSearchCV, в которой встроена кросс-валидация.\n",
    "2. Мы исследовали разные ML модели: Линейная Регрессия, Дерево Решение, Рандомный Лес,  LightGBM, CatBoost.\n",
    "\n",
    "* Провели анализ скорости и точности моделей:\n",
    "\n",
    "1. Провели проверку на вменяемость. Все модели прошли тест.\n",
    "2. Основываясь на метриках, которые соотвествуют требованию бизнеса, выбрали лучшую модель - CatBoost."
   ]
  },
  {
   "cell_type": "code",
   "execution_count": 97,
   "metadata": {},
   "outputs": [
    {
     "data": {
      "text/html": [
       "<div>\n",
       "<style scoped>\n",
       "    .dataframe tbody tr th:only-of-type {\n",
       "        vertical-align: middle;\n",
       "    }\n",
       "\n",
       "    .dataframe tbody tr th {\n",
       "        vertical-align: top;\n",
       "    }\n",
       "\n",
       "    .dataframe thead th {\n",
       "        text-align: right;\n",
       "    }\n",
       "</style>\n",
       "<table border=\"1\" class=\"dataframe\">\n",
       "  <thead>\n",
       "    <tr style=\"text-align: right;\">\n",
       "      <th></th>\n",
       "      <th>название</th>\n",
       "      <th>время_обучения</th>\n",
       "      <th>время_предсказания</th>\n",
       "      <th>rmse_test</th>\n",
       "      <th>rmse_train</th>\n",
       "      <th>время_предсказания_миллисекунды</th>\n",
       "    </tr>\n",
       "  </thead>\n",
       "  <tbody>\n",
       "    <tr>\n",
       "      <th>3</th>\n",
       "      <td>CatBoost</td>\n",
       "      <td>0 days 00:26:53.574692</td>\n",
       "      <td>0 days 00:00:00.073471</td>\n",
       "      <td>1662.649</td>\n",
       "      <td>1380.796</td>\n",
       "      <td>73.471</td>\n",
       "    </tr>\n",
       "  </tbody>\n",
       "</table>\n",
       "</div>"
      ],
      "text/plain": [
       "   название         время_обучения     время_предсказания  rmse_test  \\\n",
       "3  CatBoost 0 days 00:26:53.574692 0 days 00:00:00.073471   1662.649   \n",
       "\n",
       "   rmse_train  время_предсказания_миллисекунды  \n",
       "3    1380.796                           73.471  "
      ]
     },
     "execution_count": 97,
     "metadata": {},
     "output_type": "execute_result"
    }
   ],
   "source": [
    "approved_models.query('название == \"CatBoost\"')"
   ]
  },
  {
   "cell_type": "markdown",
   "metadata": {},
   "source": [
    "<div class=\"alert alert-block alert-success\">\n",
    "<b>✔️ Успех:</b>\n",
    "\n",
    "Вывод соответствует исследованию 👍\n",
    "</div>"
   ]
  },
  {
   "cell_type": "markdown",
   "metadata": {},
   "source": [
    "# <font color='orange'>Общее впечатление</font>\n",
    "* Этот проект выполнен очень хорошо\n",
    "* Видно, что приложено много усилий\n",
    "* Молодец, что структурируешь ноутбук, приятно проверять такие работы\n",
    "* У тебя чистый и лаконичный код\n",
    "* Мне было интересно читать твои промежуточные выводы\n",
    "* Твой уровень подачи материала находится на высоком уровне\n",
    "* Исправь, пожалуйста, мои замечания. Затем отправляй на повторную проверку\n",
    "* Жду новую версию проекта 👋"
   ]
  },
  {
   "cell_type": "markdown",
   "metadata": {},
   "source": [
    "# <font color='orange'>Рекомендации 🔥</font>\n",
    "* Доступное объяснение про работу градиентного бустинга <a href='https://www.youtube.com/watch?v=ZNJ3lKyI-EY&t=995s'>ссылка</a>\n",
    "* После просмотра видео можешь почитать статью про ансамбли и бустинги <a href='https://habr.com/ru/company/ods/blog/645887/'>ссылка</a>\n",
    "* Статья на Хабре представляет краткое введение в алгоритмы бустинга и описывает их принципы работы <a href='https://habr.com/ru/company/ods/blog/327250/'>ссылка</a>\n",
    "* Подбор гиперпараметров для CatBoost <a href='https://habr.com/ru/company/otus/blog/527554/'>ссылка</a>\n",
    "* Подбор гиперпараметров для LightGBM <a href='https://programmersought.com/article/40776531516/'>ссылка</a>\n",
    "* Разумные способы кодирования категориальных данных для машинного обучения <a href='https://machinelearningmastery.ru/smarter-ways-to-encode-categorical-data-for-machine-learning-part-1-of-3-6dca2f71b159/'>ссылка</a>\n",
    "* Статья про \"непонятную\" метрику ROC-AUC <a href='https://dyakonov.org/2017/07/28/auc-roc-площадь-под-кривой-ошибок/'>ссылка</a>\n",
    "* Хочешь подтянуть математику для DS?) <a href='https://academy.stepik.org/math-for-data-science'>ссылка</a>\n",
    "* Также есть курс по математике от ЯП <a href='https://practicum.yandex.ru/math-for-da-ds/'>ссылка</a>\n",
    "* В нашем деле нужно быть всегда в курсе всех новинок, новостей и тд, вот тут публикуют новости в области DS <a href='https://www.infoq.com/data-analysis/news/'>ссылка</a>\n",
    "* Всем аналитикам данных рекомендую книгу Даниела Канемана \"Думай медленно, решай быстро\""
   ]
  }
 ],
 "metadata": {
  "ExecuteTimeLog": [
   {
    "duration": 2998,
    "start_time": "2023-04-26T07:28:37.956Z"
   },
   {
    "duration": 2269,
    "start_time": "2023-04-26T09:49:29.778Z"
   },
   {
    "duration": 1388,
    "start_time": "2023-04-26T09:49:32.050Z"
   },
   {
    "duration": 40,
    "start_time": "2023-04-26T09:49:44.013Z"
   },
   {
    "duration": 161,
    "start_time": "2023-04-26T09:49:50.133Z"
   },
   {
    "duration": 2,
    "start_time": "2023-04-26T09:51:33.057Z"
   },
   {
    "duration": 4,
    "start_time": "2023-04-26T09:52:55.477Z"
   },
   {
    "duration": 3,
    "start_time": "2023-04-26T09:52:58.387Z"
   },
   {
    "duration": 753,
    "start_time": "2023-04-26T09:53:13.739Z"
   },
   {
    "duration": 11,
    "start_time": "2023-04-26T09:55:55.077Z"
   },
   {
    "duration": 1103,
    "start_time": "2023-04-26T09:56:08.787Z"
   },
   {
    "duration": 4,
    "start_time": "2023-04-26T15:46:49.264Z"
   },
   {
    "duration": 141,
    "start_time": "2023-04-26T15:49:44.501Z"
   },
   {
    "duration": 81,
    "start_time": "2023-04-26T15:53:02.479Z"
   },
   {
    "duration": 34,
    "start_time": "2023-04-26T16:15:18.580Z"
   },
   {
    "duration": 4,
    "start_time": "2023-04-26T16:20:59.434Z"
   },
   {
    "duration": 5,
    "start_time": "2023-04-26T16:21:19.601Z"
   },
   {
    "duration": 584,
    "start_time": "2023-04-26T16:21:28.861Z"
   },
   {
    "duration": 644,
    "start_time": "2023-04-26T17:04:25.351Z"
   },
   {
    "duration": 12,
    "start_time": "2023-04-26T17:28:42.508Z"
   },
   {
    "duration": 10,
    "start_time": "2023-04-26T17:29:10.350Z"
   },
   {
    "duration": 11,
    "start_time": "2023-04-26T17:30:51.707Z"
   },
   {
    "duration": 14,
    "start_time": "2023-04-26T17:33:41.007Z"
   },
   {
    "duration": 4,
    "start_time": "2023-04-26T17:34:32.762Z"
   },
   {
    "duration": 1211,
    "start_time": "2023-04-26T17:34:38.314Z"
   },
   {
    "duration": 16,
    "start_time": "2023-04-26T17:50:17.261Z"
   },
   {
    "duration": 10,
    "start_time": "2023-04-26T17:50:25.620Z"
   },
   {
    "duration": 462,
    "start_time": "2023-04-26T17:51:15.284Z"
   },
   {
    "duration": 53,
    "start_time": "2023-04-26T18:23:18.686Z"
   },
   {
    "duration": 3,
    "start_time": "2023-04-26T18:24:09.388Z"
   },
   {
    "duration": 8,
    "start_time": "2023-04-26T18:24:29.117Z"
   },
   {
    "duration": 5,
    "start_time": "2023-04-26T18:24:44.327Z"
   },
   {
    "duration": 6550,
    "start_time": "2023-04-26T18:24:54.455Z"
   },
   {
    "duration": 6,
    "start_time": "2023-04-26T18:25:21.834Z"
   },
   {
    "duration": 6,
    "start_time": "2023-04-26T18:25:36.875Z"
   },
   {
    "duration": 31,
    "start_time": "2023-04-26T18:25:43.083Z"
   },
   {
    "duration": 53,
    "start_time": "2023-04-26T18:27:16.610Z"
   },
   {
    "duration": 878,
    "start_time": "2023-04-26T18:27:30.813Z"
   },
   {
    "duration": 3,
    "start_time": "2023-04-26T19:16:04.445Z"
   },
   {
    "duration": 3,
    "start_time": "2023-04-26T19:16:17.694Z"
   },
   {
    "duration": 13,
    "start_time": "2023-04-26T19:16:24.623Z"
   },
   {
    "duration": 319,
    "start_time": "2023-04-26T19:23:17.472Z"
   },
   {
    "duration": 1542,
    "start_time": "2023-04-26T21:28:04.626Z"
   },
   {
    "duration": 892,
    "start_time": "2023-04-26T21:28:06.169Z"
   },
   {
    "duration": 17,
    "start_time": "2023-04-26T21:28:07.063Z"
   },
   {
    "duration": 136,
    "start_time": "2023-04-26T21:28:07.081Z"
   },
   {
    "duration": 3,
    "start_time": "2023-04-26T21:28:07.219Z"
   },
   {
    "duration": 606,
    "start_time": "2023-04-26T21:28:07.223Z"
   },
   {
    "duration": 13,
    "start_time": "2023-04-26T21:28:07.830Z"
   },
   {
    "duration": 901,
    "start_time": "2023-04-26T21:28:07.848Z"
   },
   {
    "duration": 4,
    "start_time": "2023-04-26T21:28:08.750Z"
   },
   {
    "duration": 167,
    "start_time": "2023-04-26T21:28:08.755Z"
   },
   {
    "duration": 45,
    "start_time": "2023-04-26T21:28:08.923Z"
   },
   {
    "duration": 25,
    "start_time": "2023-04-26T21:28:08.969Z"
   },
   {
    "duration": 18,
    "start_time": "2023-04-26T21:28:08.996Z"
   },
   {
    "duration": 578,
    "start_time": "2023-04-26T21:28:09.016Z"
   },
   {
    "duration": 714,
    "start_time": "2023-04-26T21:28:09.595Z"
   },
   {
    "duration": 11,
    "start_time": "2023-04-26T21:28:10.311Z"
   },
   {
    "duration": 34,
    "start_time": "2023-04-26T21:28:10.333Z"
   },
   {
    "duration": 10,
    "start_time": "2023-04-26T21:28:10.369Z"
   },
   {
    "duration": 1108,
    "start_time": "2023-04-26T21:28:10.381Z"
   },
   {
    "duration": 11,
    "start_time": "2023-04-26T21:28:11.491Z"
   },
   {
    "duration": 414,
    "start_time": "2023-04-26T21:28:11.503Z"
   },
   {
    "duration": 85,
    "start_time": "2023-04-26T21:28:11.919Z"
   },
   {
    "duration": 0,
    "start_time": "2023-04-26T21:28:12.006Z"
   },
   {
    "duration": 0,
    "start_time": "2023-04-26T21:28:12.007Z"
   },
   {
    "duration": 0,
    "start_time": "2023-04-26T21:28:12.009Z"
   },
   {
    "duration": 0,
    "start_time": "2023-04-26T21:28:12.010Z"
   },
   {
    "duration": 0,
    "start_time": "2023-04-26T21:28:12.011Z"
   },
   {
    "duration": 0,
    "start_time": "2023-04-26T21:28:12.013Z"
   },
   {
    "duration": 0,
    "start_time": "2023-04-26T21:28:12.014Z"
   },
   {
    "duration": 0,
    "start_time": "2023-04-26T21:28:12.016Z"
   },
   {
    "duration": 0,
    "start_time": "2023-04-26T21:28:12.018Z"
   },
   {
    "duration": 0,
    "start_time": "2023-04-26T21:28:12.019Z"
   },
   {
    "duration": 0,
    "start_time": "2023-04-26T21:28:12.021Z"
   },
   {
    "duration": 0,
    "start_time": "2023-04-26T21:28:12.022Z"
   },
   {
    "duration": 0,
    "start_time": "2023-04-26T21:28:12.024Z"
   },
   {
    "duration": 0,
    "start_time": "2023-04-26T21:28:12.025Z"
   },
   {
    "duration": 0,
    "start_time": "2023-04-26T21:28:12.026Z"
   },
   {
    "duration": 130,
    "start_time": "2023-04-26T21:28:18.576Z"
   },
   {
    "duration": 39,
    "start_time": "2023-04-26T21:28:24.751Z"
   },
   {
    "duration": 76,
    "start_time": "2023-04-26T21:28:32.279Z"
   },
   {
    "duration": 4,
    "start_time": "2023-04-26T21:28:41.664Z"
   },
   {
    "duration": 5,
    "start_time": "2023-04-26T21:28:44.204Z"
   },
   {
    "duration": 6715,
    "start_time": "2023-04-26T21:28:45.079Z"
   },
   {
    "duration": 4,
    "start_time": "2023-04-26T21:28:51.796Z"
   },
   {
    "duration": 44,
    "start_time": "2023-04-26T21:28:51.802Z"
   },
   {
    "duration": 72,
    "start_time": "2023-04-26T21:28:51.848Z"
   },
   {
    "duration": 0,
    "start_time": "2023-04-26T21:28:51.922Z"
   },
   {
    "duration": 830,
    "start_time": "2023-04-26T21:28:53.148Z"
   },
   {
    "duration": 3,
    "start_time": "2023-04-26T21:28:54.071Z"
   },
   {
    "duration": 3,
    "start_time": "2023-04-26T21:28:55.155Z"
   },
   {
    "duration": 14,
    "start_time": "2023-04-26T21:28:56.048Z"
   },
   {
    "duration": 287,
    "start_time": "2023-04-26T21:28:57.115Z"
   },
   {
    "duration": 106,
    "start_time": "2023-04-26T21:28:58.379Z"
   },
   {
    "duration": 29,
    "start_time": "2023-04-26T21:29:31.745Z"
   },
   {
    "duration": 5,
    "start_time": "2023-04-26T21:29:39.251Z"
   },
   {
    "duration": 39,
    "start_time": "2023-04-26T21:30:05.558Z"
   },
   {
    "duration": 269,
    "start_time": "2023-04-26T21:30:21.911Z"
   },
   {
    "duration": 514,
    "start_time": "2023-04-26T21:30:49.471Z"
   },
   {
    "duration": 86,
    "start_time": "2023-04-26T21:30:57.598Z"
   },
   {
    "duration": 757,
    "start_time": "2023-04-26T21:31:37.346Z"
   },
   {
    "duration": 20,
    "start_time": "2023-04-26T23:09:30.561Z"
   },
   {
    "duration": 50,
    "start_time": "2023-04-26T23:10:41.339Z"
   },
   {
    "duration": 52,
    "start_time": "2023-04-26T23:11:03.022Z"
   },
   {
    "duration": 8,
    "start_time": "2023-04-26T23:11:37.729Z"
   },
   {
    "duration": 30,
    "start_time": "2023-04-26T23:12:55.221Z"
   },
   {
    "duration": 28,
    "start_time": "2023-04-27T00:12:49.550Z"
   },
   {
    "duration": 5,
    "start_time": "2023-04-27T00:12:59.491Z"
   },
   {
    "duration": 5,
    "start_time": "2023-04-27T00:13:08.320Z"
   },
   {
    "duration": 66,
    "start_time": "2023-04-27T00:13:57.555Z"
   },
   {
    "duration": 18,
    "start_time": "2023-04-27T00:54:49.654Z"
   },
   {
    "duration": 18,
    "start_time": "2023-04-27T00:55:26.106Z"
   },
   {
    "duration": 32,
    "start_time": "2023-04-27T01:02:38.538Z"
   },
   {
    "duration": 74,
    "start_time": "2023-04-27T01:03:09.841Z"
   },
   {
    "duration": 18,
    "start_time": "2023-04-27T01:03:20.101Z"
   },
   {
    "duration": 24,
    "start_time": "2023-04-27T01:03:31.189Z"
   },
   {
    "duration": 17,
    "start_time": "2023-04-27T01:03:46.882Z"
   },
   {
    "duration": 41,
    "start_time": "2023-04-27T01:03:56.982Z"
   },
   {
    "duration": 173,
    "start_time": "2023-04-27T01:04:04.909Z"
   },
   {
    "duration": 143,
    "start_time": "2023-04-27T01:04:17.352Z"
   },
   {
    "duration": 57,
    "start_time": "2023-04-27T01:05:37.242Z"
   },
   {
    "duration": 21,
    "start_time": "2023-04-27T01:05:41.957Z"
   },
   {
    "duration": 42,
    "start_time": "2023-04-27T01:05:46.723Z"
   },
   {
    "duration": 48,
    "start_time": "2023-04-27T01:06:19.083Z"
   },
   {
    "duration": 76,
    "start_time": "2023-04-27T01:06:25.691Z"
   },
   {
    "duration": 4410,
    "start_time": "2023-04-27T01:06:50.389Z"
   },
   {
    "duration": 451,
    "start_time": "2023-04-27T01:07:12.174Z"
   },
   {
    "duration": 112,
    "start_time": "2023-04-27T01:07:29.501Z"
   },
   {
    "duration": 3,
    "start_time": "2023-04-27T01:07:37.293Z"
   },
   {
    "duration": 25,
    "start_time": "2023-04-27T01:07:42.897Z"
   },
   {
    "duration": 13,
    "start_time": "2023-04-27T01:43:12.090Z"
   },
   {
    "duration": 7,
    "start_time": "2023-04-27T01:44:13.478Z"
   },
   {
    "duration": 3,
    "start_time": "2023-04-27T01:44:24.058Z"
   },
   {
    "duration": 35,
    "start_time": "2023-04-27T01:44:43.250Z"
   },
   {
    "duration": 3,
    "start_time": "2023-04-27T01:44:49.414Z"
   },
   {
    "duration": 4,
    "start_time": "2023-04-27T01:45:02.058Z"
   },
   {
    "duration": 3,
    "start_time": "2023-04-27T02:10:54.420Z"
   },
   {
    "duration": 94,
    "start_time": "2023-04-27T02:11:05.694Z"
   },
   {
    "duration": 4,
    "start_time": "2023-04-27T02:11:17.348Z"
   },
   {
    "duration": 111,
    "start_time": "2023-04-27T02:11:33.212Z"
   },
   {
    "duration": 5,
    "start_time": "2023-04-27T02:28:44.943Z"
   },
   {
    "duration": 3,
    "start_time": "2023-04-27T02:29:34.771Z"
   },
   {
    "duration": 3,
    "start_time": "2023-04-27T02:29:41.203Z"
   },
   {
    "duration": 3,
    "start_time": "2023-04-27T02:29:59.392Z"
   },
   {
    "duration": 5,
    "start_time": "2023-04-27T02:30:06.159Z"
   },
   {
    "duration": 160,
    "start_time": "2023-04-27T02:31:15.523Z"
   },
   {
    "duration": 3,
    "start_time": "2023-04-27T02:32:30.745Z"
   },
   {
    "duration": 188,
    "start_time": "2023-04-27T02:33:19.685Z"
   },
   {
    "duration": 1540,
    "start_time": "2023-04-27T02:34:26.835Z"
   },
   {
    "duration": 851,
    "start_time": "2023-04-27T02:34:28.377Z"
   },
   {
    "duration": 20,
    "start_time": "2023-04-27T02:34:29.230Z"
   },
   {
    "duration": 148,
    "start_time": "2023-04-27T02:34:29.253Z"
   },
   {
    "duration": 4,
    "start_time": "2023-04-27T02:34:29.403Z"
   },
   {
    "duration": 646,
    "start_time": "2023-04-27T02:34:29.409Z"
   },
   {
    "duration": 11,
    "start_time": "2023-04-27T02:34:30.057Z"
   },
   {
    "duration": 999,
    "start_time": "2023-04-27T02:34:30.070Z"
   },
   {
    "duration": 3,
    "start_time": "2023-04-27T02:34:31.071Z"
   },
   {
    "duration": 159,
    "start_time": "2023-04-27T02:34:31.077Z"
   },
   {
    "duration": 39,
    "start_time": "2023-04-27T02:34:31.237Z"
   },
   {
    "duration": 10,
    "start_time": "2023-04-27T02:34:31.277Z"
   },
   {
    "duration": 34,
    "start_time": "2023-04-27T02:34:31.288Z"
   },
   {
    "duration": 531,
    "start_time": "2023-04-27T02:34:31.323Z"
   },
   {
    "duration": 735,
    "start_time": "2023-04-27T02:34:31.855Z"
   },
   {
    "duration": 13,
    "start_time": "2023-04-27T02:34:32.591Z"
   },
   {
    "duration": 27,
    "start_time": "2023-04-27T02:34:32.606Z"
   },
   {
    "duration": 5,
    "start_time": "2023-04-27T02:34:32.635Z"
   },
   {
    "duration": 1155,
    "start_time": "2023-04-27T02:34:32.641Z"
   },
   {
    "duration": 11,
    "start_time": "2023-04-27T02:34:33.798Z"
   },
   {
    "duration": 447,
    "start_time": "2023-04-27T02:34:33.811Z"
   },
   {
    "duration": 257,
    "start_time": "2023-04-27T02:34:34.259Z"
   },
   {
    "duration": 0,
    "start_time": "2023-04-27T02:34:34.519Z"
   },
   {
    "duration": 0,
    "start_time": "2023-04-27T02:34:34.520Z"
   },
   {
    "duration": 0,
    "start_time": "2023-04-27T02:34:34.522Z"
   },
   {
    "duration": 0,
    "start_time": "2023-04-27T02:34:34.524Z"
   },
   {
    "duration": 0,
    "start_time": "2023-04-27T02:34:34.525Z"
   },
   {
    "duration": 0,
    "start_time": "2023-04-27T02:34:34.527Z"
   },
   {
    "duration": 0,
    "start_time": "2023-04-27T02:34:34.528Z"
   },
   {
    "duration": 0,
    "start_time": "2023-04-27T02:34:34.529Z"
   },
   {
    "duration": 0,
    "start_time": "2023-04-27T02:34:34.531Z"
   },
   {
    "duration": 0,
    "start_time": "2023-04-27T02:34:34.532Z"
   },
   {
    "duration": 0,
    "start_time": "2023-04-27T02:34:34.534Z"
   },
   {
    "duration": 0,
    "start_time": "2023-04-27T02:34:34.536Z"
   },
   {
    "duration": 0,
    "start_time": "2023-04-27T02:34:34.538Z"
   },
   {
    "duration": 0,
    "start_time": "2023-04-27T02:34:34.539Z"
   },
   {
    "duration": 0,
    "start_time": "2023-04-27T02:34:34.540Z"
   },
   {
    "duration": 0,
    "start_time": "2023-04-27T02:34:34.542Z"
   },
   {
    "duration": 0,
    "start_time": "2023-04-27T02:34:34.543Z"
   },
   {
    "duration": 0,
    "start_time": "2023-04-27T02:34:34.545Z"
   },
   {
    "duration": 0,
    "start_time": "2023-04-27T02:34:34.546Z"
   },
   {
    "duration": 0,
    "start_time": "2023-04-27T02:34:34.548Z"
   },
   {
    "duration": 0,
    "start_time": "2023-04-27T02:34:34.549Z"
   },
   {
    "duration": 0,
    "start_time": "2023-04-27T02:34:34.550Z"
   },
   {
    "duration": 0,
    "start_time": "2023-04-27T02:34:34.551Z"
   },
   {
    "duration": 0,
    "start_time": "2023-04-27T02:34:34.553Z"
   },
   {
    "duration": 0,
    "start_time": "2023-04-27T02:34:34.554Z"
   },
   {
    "duration": 0,
    "start_time": "2023-04-27T02:34:34.555Z"
   },
   {
    "duration": 0,
    "start_time": "2023-04-27T02:34:34.556Z"
   },
   {
    "duration": 0,
    "start_time": "2023-04-27T02:34:34.558Z"
   },
   {
    "duration": 0,
    "start_time": "2023-04-27T02:34:34.559Z"
   },
   {
    "duration": 0,
    "start_time": "2023-04-27T02:34:34.560Z"
   },
   {
    "duration": 0,
    "start_time": "2023-04-27T02:34:34.561Z"
   },
   {
    "duration": 0,
    "start_time": "2023-04-27T02:34:34.562Z"
   },
   {
    "duration": 0,
    "start_time": "2023-04-27T02:34:34.563Z"
   },
   {
    "duration": 0,
    "start_time": "2023-04-27T02:34:34.565Z"
   },
   {
    "duration": 0,
    "start_time": "2023-04-27T02:34:34.566Z"
   },
   {
    "duration": 0,
    "start_time": "2023-04-27T02:34:34.567Z"
   },
   {
    "duration": 0,
    "start_time": "2023-04-27T02:34:34.568Z"
   },
   {
    "duration": 0,
    "start_time": "2023-04-27T02:34:34.569Z"
   },
   {
    "duration": 0,
    "start_time": "2023-04-27T02:34:34.570Z"
   },
   {
    "duration": 0,
    "start_time": "2023-04-27T02:34:34.571Z"
   },
   {
    "duration": 0,
    "start_time": "2023-04-27T02:34:34.572Z"
   },
   {
    "duration": 0,
    "start_time": "2023-04-27T02:34:34.573Z"
   },
   {
    "duration": 0,
    "start_time": "2023-04-27T02:34:34.574Z"
   },
   {
    "duration": 0,
    "start_time": "2023-04-27T02:34:34.575Z"
   },
   {
    "duration": 0,
    "start_time": "2023-04-27T02:34:34.634Z"
   },
   {
    "duration": 0,
    "start_time": "2023-04-27T02:34:34.635Z"
   },
   {
    "duration": 0,
    "start_time": "2023-04-27T02:34:34.636Z"
   },
   {
    "duration": 0,
    "start_time": "2023-04-27T02:34:34.637Z"
   },
   {
    "duration": 0,
    "start_time": "2023-04-27T02:34:34.638Z"
   },
   {
    "duration": 0,
    "start_time": "2023-04-27T02:34:34.639Z"
   },
   {
    "duration": 0,
    "start_time": "2023-04-27T02:34:34.640Z"
   },
   {
    "duration": 0,
    "start_time": "2023-04-27T02:34:34.641Z"
   },
   {
    "duration": 0,
    "start_time": "2023-04-27T02:34:34.643Z"
   },
   {
    "duration": 0,
    "start_time": "2023-04-27T02:34:34.643Z"
   },
   {
    "duration": 0,
    "start_time": "2023-04-27T02:34:34.645Z"
   },
   {
    "duration": 0,
    "start_time": "2023-04-27T02:34:34.646Z"
   },
   {
    "duration": 0,
    "start_time": "2023-04-27T02:34:34.647Z"
   },
   {
    "duration": 0,
    "start_time": "2023-04-27T02:34:34.648Z"
   },
   {
    "duration": 0,
    "start_time": "2023-04-27T02:34:34.649Z"
   },
   {
    "duration": 0,
    "start_time": "2023-04-27T02:34:34.650Z"
   },
   {
    "duration": 0,
    "start_time": "2023-04-27T02:34:34.651Z"
   },
   {
    "duration": 0,
    "start_time": "2023-04-27T02:34:34.652Z"
   },
   {
    "duration": 0,
    "start_time": "2023-04-27T02:34:34.654Z"
   },
   {
    "duration": 1482,
    "start_time": "2023-04-27T02:35:47.148Z"
   },
   {
    "duration": 779,
    "start_time": "2023-04-27T02:35:48.632Z"
   },
   {
    "duration": 22,
    "start_time": "2023-04-27T02:35:49.413Z"
   },
   {
    "duration": 124,
    "start_time": "2023-04-27T02:35:49.436Z"
   },
   {
    "duration": 3,
    "start_time": "2023-04-27T02:35:49.562Z"
   },
   {
    "duration": 541,
    "start_time": "2023-04-27T02:35:49.566Z"
   },
   {
    "duration": 7,
    "start_time": "2023-04-27T02:35:50.108Z"
   },
   {
    "duration": 783,
    "start_time": "2023-04-27T02:35:50.117Z"
   },
   {
    "duration": 4,
    "start_time": "2023-04-27T02:35:50.901Z"
   },
   {
    "duration": 122,
    "start_time": "2023-04-27T02:35:50.906Z"
   },
   {
    "duration": 33,
    "start_time": "2023-04-27T02:35:51.032Z"
   },
   {
    "duration": 4,
    "start_time": "2023-04-27T02:35:51.066Z"
   },
   {
    "duration": 10,
    "start_time": "2023-04-27T02:35:51.071Z"
   },
   {
    "duration": 515,
    "start_time": "2023-04-27T02:35:51.083Z"
   },
   {
    "duration": 615,
    "start_time": "2023-04-27T02:35:51.599Z"
   },
   {
    "duration": 19,
    "start_time": "2023-04-27T02:35:52.216Z"
   },
   {
    "duration": 12,
    "start_time": "2023-04-27T02:35:52.236Z"
   },
   {
    "duration": 3,
    "start_time": "2023-04-27T02:35:52.250Z"
   },
   {
    "duration": 1027,
    "start_time": "2023-04-27T02:35:52.255Z"
   },
   {
    "duration": 10,
    "start_time": "2023-04-27T02:35:53.283Z"
   },
   {
    "duration": 376,
    "start_time": "2023-04-27T02:35:53.294Z"
   },
   {
    "duration": 39,
    "start_time": "2023-04-27T02:35:53.671Z"
   },
   {
    "duration": 3,
    "start_time": "2023-04-27T02:35:53.712Z"
   },
   {
    "duration": 18,
    "start_time": "2023-04-27T02:35:53.716Z"
   },
   {
    "duration": 5820,
    "start_time": "2023-04-27T02:35:53.736Z"
   },
   {
    "duration": 4,
    "start_time": "2023-04-27T02:35:59.558Z"
   },
   {
    "duration": 37,
    "start_time": "2023-04-27T02:35:59.564Z"
   },
   {
    "duration": 81,
    "start_time": "2023-04-27T02:35:59.603Z"
   },
   {
    "duration": 0,
    "start_time": "2023-04-27T02:35:59.686Z"
   },
   {
    "duration": 0,
    "start_time": "2023-04-27T02:35:59.688Z"
   },
   {
    "duration": 0,
    "start_time": "2023-04-27T02:35:59.689Z"
   },
   {
    "duration": 0,
    "start_time": "2023-04-27T02:35:59.689Z"
   },
   {
    "duration": 0,
    "start_time": "2023-04-27T02:35:59.690Z"
   },
   {
    "duration": 0,
    "start_time": "2023-04-27T02:35:59.691Z"
   },
   {
    "duration": 0,
    "start_time": "2023-04-27T02:35:59.692Z"
   },
   {
    "duration": 0,
    "start_time": "2023-04-27T02:35:59.693Z"
   },
   {
    "duration": 0,
    "start_time": "2023-04-27T02:35:59.694Z"
   },
   {
    "duration": 0,
    "start_time": "2023-04-27T02:35:59.695Z"
   },
   {
    "duration": 0,
    "start_time": "2023-04-27T02:35:59.696Z"
   },
   {
    "duration": 0,
    "start_time": "2023-04-27T02:35:59.697Z"
   },
   {
    "duration": 0,
    "start_time": "2023-04-27T02:35:59.699Z"
   },
   {
    "duration": 0,
    "start_time": "2023-04-27T02:35:59.700Z"
   },
   {
    "duration": 0,
    "start_time": "2023-04-27T02:35:59.701Z"
   },
   {
    "duration": 0,
    "start_time": "2023-04-27T02:35:59.702Z"
   },
   {
    "duration": 0,
    "start_time": "2023-04-27T02:35:59.703Z"
   },
   {
    "duration": 0,
    "start_time": "2023-04-27T02:35:59.704Z"
   },
   {
    "duration": 0,
    "start_time": "2023-04-27T02:35:59.705Z"
   },
   {
    "duration": 0,
    "start_time": "2023-04-27T02:35:59.707Z"
   },
   {
    "duration": 0,
    "start_time": "2023-04-27T02:35:59.708Z"
   },
   {
    "duration": 0,
    "start_time": "2023-04-27T02:35:59.709Z"
   },
   {
    "duration": 0,
    "start_time": "2023-04-27T02:35:59.710Z"
   },
   {
    "duration": 0,
    "start_time": "2023-04-27T02:35:59.711Z"
   },
   {
    "duration": 0,
    "start_time": "2023-04-27T02:35:59.712Z"
   },
   {
    "duration": 0,
    "start_time": "2023-04-27T02:35:59.713Z"
   },
   {
    "duration": 0,
    "start_time": "2023-04-27T02:35:59.714Z"
   },
   {
    "duration": 0,
    "start_time": "2023-04-27T02:35:59.715Z"
   },
   {
    "duration": 0,
    "start_time": "2023-04-27T02:35:59.716Z"
   },
   {
    "duration": 0,
    "start_time": "2023-04-27T02:35:59.717Z"
   },
   {
    "duration": 0,
    "start_time": "2023-04-27T02:35:59.718Z"
   },
   {
    "duration": 0,
    "start_time": "2023-04-27T02:35:59.719Z"
   },
   {
    "duration": 0,
    "start_time": "2023-04-27T02:35:59.720Z"
   },
   {
    "duration": 0,
    "start_time": "2023-04-27T02:35:59.721Z"
   },
   {
    "duration": 0,
    "start_time": "2023-04-27T02:35:59.722Z"
   },
   {
    "duration": 0,
    "start_time": "2023-04-27T02:35:59.723Z"
   },
   {
    "duration": 0,
    "start_time": "2023-04-27T02:35:59.733Z"
   },
   {
    "duration": 0,
    "start_time": "2023-04-27T02:35:59.734Z"
   },
   {
    "duration": 0,
    "start_time": "2023-04-27T02:35:59.736Z"
   },
   {
    "duration": 0,
    "start_time": "2023-04-27T02:35:59.737Z"
   },
   {
    "duration": 0,
    "start_time": "2023-04-27T02:35:59.738Z"
   },
   {
    "duration": 0,
    "start_time": "2023-04-27T02:35:59.739Z"
   },
   {
    "duration": 0,
    "start_time": "2023-04-27T02:35:59.740Z"
   },
   {
    "duration": 0,
    "start_time": "2023-04-27T02:35:59.741Z"
   },
   {
    "duration": 0,
    "start_time": "2023-04-27T02:35:59.742Z"
   },
   {
    "duration": 0,
    "start_time": "2023-04-27T02:35:59.743Z"
   },
   {
    "duration": 0,
    "start_time": "2023-04-27T02:35:59.744Z"
   },
   {
    "duration": 0,
    "start_time": "2023-04-27T02:35:59.745Z"
   },
   {
    "duration": 0,
    "start_time": "2023-04-27T02:35:59.746Z"
   },
   {
    "duration": 0,
    "start_time": "2023-04-27T02:35:59.747Z"
   },
   {
    "duration": 0,
    "start_time": "2023-04-27T02:35:59.748Z"
   },
   {
    "duration": 0,
    "start_time": "2023-04-27T02:35:59.749Z"
   },
   {
    "duration": 0,
    "start_time": "2023-04-27T02:35:59.750Z"
   },
   {
    "duration": 0,
    "start_time": "2023-04-27T02:35:59.752Z"
   },
   {
    "duration": 0,
    "start_time": "2023-04-27T02:35:59.752Z"
   },
   {
    "duration": 0,
    "start_time": "2023-04-27T02:35:59.753Z"
   },
   {
    "duration": 1662,
    "start_time": "2023-04-27T02:37:06.735Z"
   },
   {
    "duration": 970,
    "start_time": "2023-04-27T02:37:08.399Z"
   },
   {
    "duration": 19,
    "start_time": "2023-04-27T02:37:09.371Z"
   },
   {
    "duration": 152,
    "start_time": "2023-04-27T02:37:09.392Z"
   },
   {
    "duration": 4,
    "start_time": "2023-04-27T02:37:09.545Z"
   },
   {
    "duration": 693,
    "start_time": "2023-04-27T02:37:09.550Z"
   },
   {
    "duration": 9,
    "start_time": "2023-04-27T02:37:10.245Z"
   },
   {
    "duration": 1021,
    "start_time": "2023-04-27T02:37:10.256Z"
   },
   {
    "duration": 4,
    "start_time": "2023-04-27T02:37:11.278Z"
   },
   {
    "duration": 150,
    "start_time": "2023-04-27T02:37:11.285Z"
   },
   {
    "duration": 40,
    "start_time": "2023-04-27T02:37:11.436Z"
   },
   {
    "duration": 4,
    "start_time": "2023-04-27T02:37:11.478Z"
   },
   {
    "duration": 12,
    "start_time": "2023-04-27T02:37:11.484Z"
   },
   {
    "duration": 592,
    "start_time": "2023-04-27T02:37:11.498Z"
   },
   {
    "duration": 816,
    "start_time": "2023-04-27T02:37:12.092Z"
   },
   {
    "duration": 27,
    "start_time": "2023-04-27T02:37:12.910Z"
   },
   {
    "duration": 15,
    "start_time": "2023-04-27T02:37:12.939Z"
   },
   {
    "duration": 4,
    "start_time": "2023-04-27T02:37:12.956Z"
   },
   {
    "duration": 1219,
    "start_time": "2023-04-27T02:37:12.962Z"
   },
   {
    "duration": 12,
    "start_time": "2023-04-27T02:37:14.182Z"
   },
   {
    "duration": 394,
    "start_time": "2023-04-27T02:37:14.196Z"
   },
   {
    "duration": 52,
    "start_time": "2023-04-27T02:37:14.591Z"
   },
   {
    "duration": 4,
    "start_time": "2023-04-27T02:37:14.645Z"
   },
   {
    "duration": 8,
    "start_time": "2023-04-27T02:37:14.650Z"
   },
   {
    "duration": 5837,
    "start_time": "2023-04-27T02:37:14.659Z"
   },
   {
    "duration": 5,
    "start_time": "2023-04-27T02:37:20.498Z"
   },
   {
    "duration": 34,
    "start_time": "2023-04-27T02:37:20.504Z"
   },
   {
    "duration": 36,
    "start_time": "2023-04-27T02:37:20.543Z"
   },
   {
    "duration": 773,
    "start_time": "2023-04-27T02:37:20.581Z"
   },
   {
    "duration": 2,
    "start_time": "2023-04-27T02:37:21.356Z"
   },
   {
    "duration": 11,
    "start_time": "2023-04-27T02:37:21.360Z"
   },
   {
    "duration": 19,
    "start_time": "2023-04-27T02:37:21.373Z"
   },
   {
    "duration": 244,
    "start_time": "2023-04-27T02:37:21.394Z"
   },
   {
    "duration": 83,
    "start_time": "2023-04-27T02:37:21.640Z"
   },
   {
    "duration": 27,
    "start_time": "2023-04-27T02:37:21.733Z"
   },
   {
    "duration": 6,
    "start_time": "2023-04-27T02:37:21.761Z"
   },
   {
    "duration": 42,
    "start_time": "2023-04-27T02:37:21.768Z"
   },
   {
    "duration": 219,
    "start_time": "2023-04-27T02:37:21.811Z"
   },
   {
    "duration": 400,
    "start_time": "2023-04-27T02:37:22.032Z"
   },
   {
    "duration": 80,
    "start_time": "2023-04-27T02:37:22.434Z"
   },
   {
    "duration": 704,
    "start_time": "2023-04-27T02:37:22.516Z"
   },
   {
    "duration": 25,
    "start_time": "2023-04-27T02:37:23.222Z"
   },
   {
    "duration": 49,
    "start_time": "2023-04-27T02:37:23.248Z"
   },
   {
    "duration": 8,
    "start_time": "2023-04-27T02:37:23.299Z"
   },
   {
    "duration": 43,
    "start_time": "2023-04-27T02:37:23.308Z"
   },
   {
    "duration": 29,
    "start_time": "2023-04-27T02:37:23.352Z"
   },
   {
    "duration": 4,
    "start_time": "2023-04-27T02:37:23.383Z"
   },
   {
    "duration": 11,
    "start_time": "2023-04-27T02:37:23.388Z"
   },
   {
    "duration": 71,
    "start_time": "2023-04-27T02:37:23.401Z"
   },
   {
    "duration": 18,
    "start_time": "2023-04-27T02:37:23.473Z"
   },
   {
    "duration": 24,
    "start_time": "2023-04-27T02:37:23.492Z"
   },
   {
    "duration": 38,
    "start_time": "2023-04-27T02:37:23.518Z"
   },
   {
    "duration": 18,
    "start_time": "2023-04-27T02:37:23.558Z"
   },
   {
    "duration": 27,
    "start_time": "2023-04-27T02:37:23.578Z"
   },
   {
    "duration": 28,
    "start_time": "2023-04-27T02:37:23.606Z"
   },
   {
    "duration": 50,
    "start_time": "2023-04-27T02:37:23.636Z"
   },
   {
    "duration": 158,
    "start_time": "2023-04-27T02:37:23.688Z"
   },
   {
    "duration": 141,
    "start_time": "2023-04-27T02:37:23.847Z"
   },
   {
    "duration": 60,
    "start_time": "2023-04-27T02:37:23.989Z"
   },
   {
    "duration": 16,
    "start_time": "2023-04-27T02:37:24.051Z"
   },
   {
    "duration": 42,
    "start_time": "2023-04-27T02:37:24.069Z"
   },
   {
    "duration": 51,
    "start_time": "2023-04-27T02:37:24.112Z"
   },
   {
    "duration": 72,
    "start_time": "2023-04-27T02:37:24.165Z"
   },
   {
    "duration": 4548,
    "start_time": "2023-04-27T02:37:24.238Z"
   },
   {
    "duration": 546,
    "start_time": "2023-04-27T02:37:28.788Z"
   },
   {
    "duration": 147,
    "start_time": "2023-04-27T02:37:29.336Z"
   },
   {
    "duration": 4,
    "start_time": "2023-04-27T02:37:29.485Z"
   },
   {
    "duration": 27,
    "start_time": "2023-04-27T02:37:29.491Z"
   },
   {
    "duration": 14,
    "start_time": "2023-04-27T02:37:29.534Z"
   },
   {
    "duration": 18,
    "start_time": "2023-04-27T02:37:29.550Z"
   },
   {
    "duration": 9,
    "start_time": "2023-04-27T02:37:29.570Z"
   },
   {
    "duration": 43,
    "start_time": "2023-04-27T02:37:29.580Z"
   },
   {
    "duration": 8,
    "start_time": "2023-04-27T02:37:29.625Z"
   },
   {
    "duration": 4,
    "start_time": "2023-04-27T02:37:29.635Z"
   },
   {
    "duration": 5,
    "start_time": "2023-04-27T02:37:29.640Z"
   },
   {
    "duration": 6,
    "start_time": "2023-04-27T02:37:29.647Z"
   },
   {
    "duration": 5,
    "start_time": "2023-04-27T02:37:29.655Z"
   },
   {
    "duration": 12,
    "start_time": "2023-04-27T02:37:29.662Z"
   },
   {
    "duration": 5,
    "start_time": "2023-04-27T02:37:29.676Z"
   },
   {
    "duration": 10,
    "start_time": "2023-04-27T02:37:29.682Z"
   },
   {
    "duration": 7,
    "start_time": "2023-04-27T02:37:29.693Z"
   },
   {
    "duration": 38,
    "start_time": "2023-04-27T02:37:29.706Z"
   },
   {
    "duration": 164792,
    "start_time": "2023-04-27T02:40:21.684Z"
   },
   {
    "duration": 707700,
    "start_time": "2023-04-27T02:43:06.477Z"
   },
   {
    "duration": 238299,
    "start_time": "2023-04-27T02:54:54.179Z"
   },
   {
    "duration": 4,
    "start_time": "2023-04-27T02:58:52.479Z"
   },
   {
    "duration": 17,
    "start_time": "2023-04-27T03:06:05.298Z"
   },
   {
    "duration": 361,
    "start_time": "2023-04-27T03:06:12.254Z"
   },
   {
    "duration": 3,
    "start_time": "2023-04-27T03:06:29.150Z"
   },
   {
    "duration": 1220004,
    "start_time": "2023-04-27T03:06:38.398Z"
   },
   {
    "duration": 268266,
    "start_time": "2023-04-27T03:31:45.982Z"
   },
   {
    "duration": 1083,
    "start_time": "2023-04-27T03:37:23.643Z"
   },
   {
    "duration": 425545,
    "start_time": "2023-04-27T03:37:28.163Z"
   },
   {
    "duration": 98,
    "start_time": "2023-04-27T03:45:31.868Z"
   },
   {
    "duration": 3,
    "start_time": "2023-04-27T03:45:43.396Z"
   },
   {
    "duration": 2,
    "start_time": "2023-04-27T03:52:42.456Z"
   },
   {
    "duration": 4639,
    "start_time": "2023-04-27T03:52:51.801Z"
   },
   {
    "duration": 21970,
    "start_time": "2023-04-27T03:53:09.072Z"
   },
   {
    "duration": 732,
    "start_time": "2023-04-27T08:43:01.714Z"
   },
   {
    "duration": 16847,
    "start_time": "2023-04-27T08:43:20.290Z"
   },
   {
    "duration": 4,
    "start_time": "2023-04-27T08:44:06.670Z"
   },
   {
    "duration": 259,
    "start_time": "2023-04-27T08:44:25.669Z"
   },
   {
    "duration": 4,
    "start_time": "2023-04-27T08:44:50.301Z"
   },
   {
    "duration": 549371,
    "start_time": "2023-04-27T08:44:59.870Z"
   },
   {
    "duration": 25339,
    "start_time": "2023-04-27T08:59:30.199Z"
   },
   {
    "duration": 283,
    "start_time": "2023-04-27T08:59:55.540Z"
   },
   {
    "duration": 12,
    "start_time": "2023-04-27T09:14:10.809Z"
   },
   {
    "duration": 174163,
    "start_time": "2023-04-27T09:19:16.670Z"
   },
   {
    "duration": 226377,
    "start_time": "2023-04-27T09:29:22.476Z"
   },
   {
    "duration": 3,
    "start_time": "2023-04-27T09:33:08.934Z"
   },
   {
    "duration": 515,
    "start_time": "2023-04-27T09:48:10.782Z"
   },
   {
    "duration": 328,
    "start_time": "2023-04-27T09:48:18.213Z"
   },
   {
    "duration": 5,
    "start_time": "2023-04-27T09:48:30.293Z"
   },
   {
    "duration": 6,
    "start_time": "2023-04-27T09:48:36.638Z"
   },
   {
    "duration": 1446,
    "start_time": "2023-04-27T09:48:42.318Z"
   },
   {
    "duration": 3,
    "start_time": "2023-04-27T09:49:05.373Z"
   },
   {
    "duration": 6,
    "start_time": "2023-04-27T09:49:14.553Z"
   },
   {
    "duration": 7780,
    "start_time": "2023-04-27T09:49:35.563Z"
   },
   {
    "duration": 255,
    "start_time": "2023-04-27T09:49:54.913Z"
   },
   {
    "duration": 8074,
    "start_time": "2023-04-27T09:50:02.654Z"
   },
   {
    "duration": 1547,
    "start_time": "2023-04-27T09:51:37.459Z"
   },
   {
    "duration": 1053,
    "start_time": "2023-04-27T09:51:53.024Z"
   },
   {
    "duration": 14,
    "start_time": "2023-04-27T09:52:41.151Z"
   },
   {
    "duration": 3,
    "start_time": "2023-04-27T09:53:48.271Z"
   },
   {
    "duration": 77,
    "start_time": "2023-04-27T09:55:00.539Z"
   },
   {
    "duration": 357,
    "start_time": "2023-04-27T09:55:44.191Z"
   },
   {
    "duration": 54,
    "start_time": "2023-04-27T09:56:10.920Z"
   },
   {
    "duration": 5,
    "start_time": "2023-04-27T09:56:16.919Z"
   },
   {
    "duration": 15,
    "start_time": "2023-04-27T09:56:21.459Z"
   },
   {
    "duration": 13,
    "start_time": "2023-04-27T09:56:51.424Z"
   },
   {
    "duration": 78,
    "start_time": "2023-04-27T09:57:04.351Z"
   },
   {
    "duration": 15562,
    "start_time": "2023-04-27T09:57:25.272Z"
   },
   {
    "duration": 45,
    "start_time": "2023-04-27T11:34:48.028Z"
   },
   {
    "duration": 6,
    "start_time": "2023-04-27T11:35:32.011Z"
   },
   {
    "duration": 1593,
    "start_time": "2023-04-27T11:35:41.471Z"
   },
   {
    "duration": 2876,
    "start_time": "2023-04-27T11:35:43.067Z"
   },
   {
    "duration": 19,
    "start_time": "2023-04-27T11:35:45.945Z"
   },
   {
    "duration": 105,
    "start_time": "2023-04-27T11:35:45.967Z"
   },
   {
    "duration": 4,
    "start_time": "2023-04-27T11:35:46.074Z"
   },
   {
    "duration": 537,
    "start_time": "2023-04-27T11:35:46.080Z"
   },
   {
    "duration": 9,
    "start_time": "2023-04-27T11:35:46.619Z"
   },
   {
    "duration": 854,
    "start_time": "2023-04-27T11:35:46.630Z"
   },
   {
    "duration": 3,
    "start_time": "2023-04-27T11:35:47.486Z"
   },
   {
    "duration": 119,
    "start_time": "2023-04-27T11:35:47.492Z"
   },
   {
    "duration": 31,
    "start_time": "2023-04-27T11:35:47.613Z"
   },
   {
    "duration": 5,
    "start_time": "2023-04-27T11:35:47.656Z"
   },
   {
    "duration": 6,
    "start_time": "2023-04-27T11:35:47.662Z"
   },
   {
    "duration": 593,
    "start_time": "2023-04-27T11:35:47.670Z"
   },
   {
    "duration": 648,
    "start_time": "2023-04-27T11:35:48.265Z"
   },
   {
    "duration": 12,
    "start_time": "2023-04-27T11:35:48.914Z"
   },
   {
    "duration": 13,
    "start_time": "2023-04-27T11:35:48.927Z"
   },
   {
    "duration": 14,
    "start_time": "2023-04-27T11:35:48.942Z"
   },
   {
    "duration": 1078,
    "start_time": "2023-04-27T11:35:48.958Z"
   },
   {
    "duration": 24,
    "start_time": "2023-04-27T11:35:50.038Z"
   },
   {
    "duration": 409,
    "start_time": "2023-04-27T11:35:50.063Z"
   },
   {
    "duration": 38,
    "start_time": "2023-04-27T11:35:50.474Z"
   },
   {
    "duration": 4,
    "start_time": "2023-04-27T11:35:50.514Z"
   },
   {
    "duration": 19,
    "start_time": "2023-04-27T11:35:50.519Z"
   },
   {
    "duration": 6422,
    "start_time": "2023-04-27T11:35:50.539Z"
   },
   {
    "duration": 4,
    "start_time": "2023-04-27T11:35:56.963Z"
   },
   {
    "duration": 39,
    "start_time": "2023-04-27T11:35:56.969Z"
   },
   {
    "duration": 43,
    "start_time": "2023-04-27T11:35:57.013Z"
   },
   {
    "duration": 862,
    "start_time": "2023-04-27T11:35:57.058Z"
   },
   {
    "duration": 3,
    "start_time": "2023-04-27T11:35:57.921Z"
   },
   {
    "duration": 13,
    "start_time": "2023-04-27T11:35:57.926Z"
   },
   {
    "duration": 22,
    "start_time": "2023-04-27T11:35:57.941Z"
   },
   {
    "duration": 238,
    "start_time": "2023-04-27T11:35:57.965Z"
   },
   {
    "duration": 79,
    "start_time": "2023-04-27T11:35:58.205Z"
   },
   {
    "duration": 29,
    "start_time": "2023-04-27T11:35:58.286Z"
   },
   {
    "duration": 5,
    "start_time": "2023-04-27T11:35:58.317Z"
   },
   {
    "duration": 68,
    "start_time": "2023-04-27T11:35:58.324Z"
   },
   {
    "duration": 224,
    "start_time": "2023-04-27T11:35:58.394Z"
   },
   {
    "duration": 434,
    "start_time": "2023-04-27T11:35:58.620Z"
   },
   {
    "duration": 104,
    "start_time": "2023-04-27T11:35:59.056Z"
   },
   {
    "duration": 837,
    "start_time": "2023-04-27T11:35:59.162Z"
   },
   {
    "duration": 25,
    "start_time": "2023-04-27T11:36:00.001Z"
   },
   {
    "duration": 73,
    "start_time": "2023-04-27T11:36:00.028Z"
   },
   {
    "duration": 10,
    "start_time": "2023-04-27T11:36:00.103Z"
   },
   {
    "duration": 46,
    "start_time": "2023-04-27T11:36:00.115Z"
   },
   {
    "duration": 24,
    "start_time": "2023-04-27T11:36:00.163Z"
   },
   {
    "duration": 5,
    "start_time": "2023-04-27T11:36:00.189Z"
   },
   {
    "duration": 9,
    "start_time": "2023-04-27T11:36:00.196Z"
   },
   {
    "duration": 92,
    "start_time": "2023-04-27T11:36:00.207Z"
   },
   {
    "duration": 38,
    "start_time": "2023-04-27T11:36:00.301Z"
   },
   {
    "duration": 30,
    "start_time": "2023-04-27T11:36:00.341Z"
   },
   {
    "duration": 37,
    "start_time": "2023-04-27T11:36:00.372Z"
   },
   {
    "duration": 25,
    "start_time": "2023-04-27T11:36:00.411Z"
   },
   {
    "duration": 45,
    "start_time": "2023-04-27T11:36:00.438Z"
   },
   {
    "duration": 30,
    "start_time": "2023-04-27T11:36:00.485Z"
   },
   {
    "duration": 105,
    "start_time": "2023-04-27T11:36:00.517Z"
   },
   {
    "duration": 233,
    "start_time": "2023-04-27T11:36:00.625Z"
   },
   {
    "duration": 198,
    "start_time": "2023-04-27T11:36:00.860Z"
   },
   {
    "duration": 75,
    "start_time": "2023-04-27T11:36:01.060Z"
   },
   {
    "duration": 28,
    "start_time": "2023-04-27T11:36:01.136Z"
   },
   {
    "duration": 42,
    "start_time": "2023-04-27T11:36:01.166Z"
   },
   {
    "duration": 94,
    "start_time": "2023-04-27T11:36:01.210Z"
   },
   {
    "duration": 63,
    "start_time": "2023-04-27T11:36:01.306Z"
   },
   {
    "duration": 5138,
    "start_time": "2023-04-27T11:36:01.371Z"
   },
   {
    "duration": 493,
    "start_time": "2023-04-27T11:36:06.511Z"
   },
   {
    "duration": 130,
    "start_time": "2023-04-27T11:36:07.006Z"
   },
   {
    "duration": 5,
    "start_time": "2023-04-27T11:36:07.137Z"
   },
   {
    "duration": 36,
    "start_time": "2023-04-27T11:36:07.143Z"
   },
   {
    "duration": 109,
    "start_time": "2023-04-27T11:36:07.181Z"
   },
   {
    "duration": 10,
    "start_time": "2023-04-27T11:36:07.292Z"
   },
   {
    "duration": 6,
    "start_time": "2023-04-27T11:36:07.304Z"
   },
   {
    "duration": 51,
    "start_time": "2023-04-27T11:36:07.312Z"
   },
   {
    "duration": 3,
    "start_time": "2023-04-27T11:36:07.364Z"
   },
   {
    "duration": 8,
    "start_time": "2023-04-27T11:36:07.369Z"
   },
   {
    "duration": 4,
    "start_time": "2023-04-27T11:36:07.378Z"
   },
   {
    "duration": 12,
    "start_time": "2023-04-27T11:36:07.384Z"
   },
   {
    "duration": 10,
    "start_time": "2023-04-27T11:36:07.397Z"
   },
   {
    "duration": 7,
    "start_time": "2023-04-27T11:36:07.409Z"
   },
   {
    "duration": 9,
    "start_time": "2023-04-27T11:36:07.418Z"
   },
   {
    "duration": 11,
    "start_time": "2023-04-27T11:36:07.429Z"
   },
   {
    "duration": 15,
    "start_time": "2023-04-27T11:36:07.442Z"
   },
   {
    "duration": 3,
    "start_time": "2023-04-27T11:36:07.463Z"
   },
   {
    "duration": 184355,
    "start_time": "2023-04-27T11:36:07.468Z"
   },
   {
    "duration": 746246,
    "start_time": "2023-04-27T11:39:11.824Z"
   },
   {
    "duration": 253338,
    "start_time": "2023-04-27T11:51:38.072Z"
   },
   {
    "duration": 3,
    "start_time": "2023-04-27T11:55:51.411Z"
   },
   {
    "duration": 26,
    "start_time": "2023-04-27T11:55:51.415Z"
   },
   {
    "duration": 232,
    "start_time": "2023-04-27T11:55:51.442Z"
   },
   {
    "duration": 3,
    "start_time": "2023-04-27T11:55:51.676Z"
   },
   {
    "duration": 1208087,
    "start_time": "2023-04-27T11:55:51.681Z"
   },
   {
    "duration": 292854,
    "start_time": "2023-04-27T12:15:59.771Z"
   },
   {
    "duration": 1234,
    "start_time": "2023-04-27T12:20:52.627Z"
   },
   {
    "duration": 464202,
    "start_time": "2023-04-27T12:20:53.863Z"
   },
   {
    "duration": 3,
    "start_time": "2023-04-27T12:28:38.066Z"
   },
   {
    "duration": 7,
    "start_time": "2023-04-27T12:28:38.071Z"
   },
   {
    "duration": 8785,
    "start_time": "2023-04-27T12:28:38.079Z"
   },
   {
    "duration": 28005,
    "start_time": "2023-04-27T12:28:46.865Z"
   },
   {
    "duration": 811,
    "start_time": "2023-04-27T12:29:14.872Z"
   },
   {
    "duration": 13178,
    "start_time": "2023-04-27T12:29:15.685Z"
   },
   {
    "duration": 4,
    "start_time": "2023-04-27T12:29:28.864Z"
   },
   {
    "duration": 261,
    "start_time": "2023-04-27T12:29:28.869Z"
   },
   {
    "duration": 3,
    "start_time": "2023-04-27T12:29:29.132Z"
   },
   {
    "duration": 585734,
    "start_time": "2023-04-27T12:29:29.137Z"
   },
   {
    "duration": 42789,
    "start_time": "2023-04-27T12:39:14.873Z"
   },
   {
    "duration": 0,
    "start_time": "2023-04-27T12:47:06.285Z"
   },
   {
    "duration": 0,
    "start_time": "2023-04-27T12:47:06.286Z"
   },
   {
    "duration": 0,
    "start_time": "2023-04-27T12:47:06.287Z"
   },
   {
    "duration": 0,
    "start_time": "2023-04-27T12:47:06.288Z"
   },
   {
    "duration": 0,
    "start_time": "2023-04-27T12:47:06.289Z"
   },
   {
    "duration": 0,
    "start_time": "2023-04-27T12:47:06.290Z"
   },
   {
    "duration": 0,
    "start_time": "2023-04-27T12:47:06.291Z"
   },
   {
    "duration": 0,
    "start_time": "2023-04-27T12:47:06.292Z"
   },
   {
    "duration": 0,
    "start_time": "2023-04-27T12:47:06.292Z"
   },
   {
    "duration": 0,
    "start_time": "2023-04-27T12:47:06.293Z"
   },
   {
    "duration": 0,
    "start_time": "2023-04-27T12:47:06.294Z"
   },
   {
    "duration": 0,
    "start_time": "2023-04-27T12:47:06.295Z"
   },
   {
    "duration": 0,
    "start_time": "2023-04-27T12:47:06.296Z"
   },
   {
    "duration": 0,
    "start_time": "2023-04-27T12:47:06.297Z"
   },
   {
    "duration": 0,
    "start_time": "2023-04-27T12:47:06.298Z"
   },
   {
    "duration": 0,
    "start_time": "2023-04-27T12:47:06.298Z"
   },
   {
    "duration": 0,
    "start_time": "2023-04-27T12:47:06.299Z"
   },
   {
    "duration": 1,
    "start_time": "2023-04-27T12:47:06.300Z"
   },
   {
    "duration": 0,
    "start_time": "2023-04-27T12:47:06.301Z"
   },
   {
    "duration": 0,
    "start_time": "2023-04-27T12:47:06.303Z"
   },
   {
    "duration": 0,
    "start_time": "2023-04-27T12:47:06.303Z"
   },
   {
    "duration": 0,
    "start_time": "2023-04-27T12:47:06.304Z"
   },
   {
    "duration": 0,
    "start_time": "2023-04-27T12:47:06.305Z"
   },
   {
    "duration": 0,
    "start_time": "2023-04-27T12:47:06.313Z"
   },
   {
    "duration": 0,
    "start_time": "2023-04-27T12:47:06.356Z"
   },
   {
    "duration": 685257,
    "start_time": "2023-04-27T12:47:15.421Z"
   },
   {
    "duration": 347043,
    "start_time": "2023-04-27T12:58:51.930Z"
   },
   {
    "duration": 3,
    "start_time": "2023-04-27T13:16:04.452Z"
   },
   {
    "duration": 545,
    "start_time": "2023-04-27T13:16:10.145Z"
   },
   {
    "duration": 357,
    "start_time": "2023-04-27T13:16:14.021Z"
   },
   {
    "duration": 4,
    "start_time": "2023-04-27T13:16:17.221Z"
   },
   {
    "duration": 4,
    "start_time": "2023-04-27T13:16:20.131Z"
   },
   {
    "duration": 1470,
    "start_time": "2023-04-27T13:16:23.245Z"
   },
   {
    "duration": 2,
    "start_time": "2023-04-27T13:16:37.724Z"
   },
   {
    "duration": 5,
    "start_time": "2023-04-27T13:16:39.829Z"
   },
   {
    "duration": 7182,
    "start_time": "2023-04-27T13:16:42.323Z"
   },
   {
    "duration": 245,
    "start_time": "2023-04-27T13:17:06.222Z"
   },
   {
    "duration": 7403,
    "start_time": "2023-04-27T13:17:14.113Z"
   },
   {
    "duration": 1492,
    "start_time": "2023-04-27T13:17:21.518Z"
   },
   {
    "duration": 838,
    "start_time": "2023-04-27T13:17:23.012Z"
   },
   {
    "duration": 14,
    "start_time": "2023-04-27T13:17:58.819Z"
   },
   {
    "duration": 4,
    "start_time": "2023-04-27T13:18:02.599Z"
   },
   {
    "duration": 68,
    "start_time": "2023-04-27T13:18:04.355Z"
   },
   {
    "duration": 321,
    "start_time": "2023-04-27T13:18:06.514Z"
   },
   {
    "duration": 53,
    "start_time": "2023-04-27T13:18:09.141Z"
   },
   {
    "duration": 3,
    "start_time": "2023-04-27T13:18:11.481Z"
   },
   {
    "duration": 17,
    "start_time": "2023-04-27T13:18:13.142Z"
   },
   {
    "duration": 13,
    "start_time": "2023-04-27T13:18:16.849Z"
   },
   {
    "duration": 14163,
    "start_time": "2023-04-27T13:18:19.998Z"
   },
   {
    "duration": 497,
    "start_time": "2023-04-27T13:18:34.174Z"
   },
   {
    "duration": 13640,
    "start_time": "2023-04-27T13:21:06.022Z"
   },
   {
    "duration": 138,
    "start_time": "2023-04-27T13:21:33.723Z"
   },
   {
    "duration": 69,
    "start_time": "2023-04-27T13:21:45.450Z"
   },
   {
    "duration": 3,
    "start_time": "2023-04-27T13:25:22.776Z"
   },
   {
    "duration": 20644,
    "start_time": "2023-04-27T13:25:35.161Z"
   },
   {
    "duration": 85608,
    "start_time": "2023-04-27T13:25:55.807Z"
   },
   {
    "duration": 25284,
    "start_time": "2023-04-27T13:27:21.417Z"
   },
   {
    "duration": 3,
    "start_time": "2023-04-27T13:27:46.703Z"
   },
   {
    "duration": 6,
    "start_time": "2023-04-27T13:27:46.707Z"
   },
   {
    "duration": 621859,
    "start_time": "2023-04-27T13:27:46.715Z"
   },
   {
    "duration": 4,
    "start_time": "2023-04-27T13:38:08.576Z"
   },
   {
    "duration": 0,
    "start_time": "2023-04-27T13:38:08.581Z"
   },
   {
    "duration": 0,
    "start_time": "2023-04-27T13:38:08.582Z"
   },
   {
    "duration": 4,
    "start_time": "2023-04-27T13:42:05.190Z"
   },
   {
    "duration": 4,
    "start_time": "2023-04-27T13:42:59.871Z"
   },
   {
    "duration": 3,
    "start_time": "2023-04-27T13:43:08.241Z"
   },
   {
    "duration": 3,
    "start_time": "2023-04-27T13:43:17.460Z"
   },
   {
    "duration": 48936,
    "start_time": "2023-04-27T13:43:19.744Z"
   },
   {
    "duration": 193504,
    "start_time": "2023-04-27T13:49:24.480Z"
   },
   {
    "duration": 56371,
    "start_time": "2023-04-27T13:52:37.985Z"
   },
   {
    "duration": 214,
    "start_time": "2023-04-27T14:01:09.684Z"
   },
   {
    "duration": 3,
    "start_time": "2023-04-27T14:01:20.836Z"
   },
   {
    "duration": 4,
    "start_time": "2023-04-27T14:10:48.538Z"
   },
   {
    "duration": 4,
    "start_time": "2023-04-27T14:10:57.572Z"
   },
   {
    "duration": 84321,
    "start_time": "2023-04-27T14:11:00.119Z"
   },
   {
    "duration": 55,
    "start_time": "2023-04-27T14:13:40.167Z"
   },
   {
    "duration": 6,
    "start_time": "2023-04-27T14:14:15.279Z"
   },
   {
    "duration": 47,
    "start_time": "2023-04-27T14:14:21.669Z"
   },
   {
    "duration": 60,
    "start_time": "2023-04-27T14:14:30.679Z"
   },
   {
    "duration": 77,
    "start_time": "2023-04-27T14:15:30.242Z"
   },
   {
    "duration": 1599,
    "start_time": "2023-04-27T14:18:28.157Z"
   },
   {
    "duration": 2993,
    "start_time": "2023-04-27T14:18:29.758Z"
   },
   {
    "duration": 19,
    "start_time": "2023-04-27T14:18:32.753Z"
   },
   {
    "duration": 136,
    "start_time": "2023-04-27T14:18:32.774Z"
   },
   {
    "duration": 4,
    "start_time": "2023-04-27T14:18:32.912Z"
   },
   {
    "duration": 606,
    "start_time": "2023-04-27T14:18:32.918Z"
   },
   {
    "duration": 10,
    "start_time": "2023-04-27T14:18:33.526Z"
   },
   {
    "duration": 980,
    "start_time": "2023-04-27T14:18:33.538Z"
   },
   {
    "duration": 4,
    "start_time": "2023-04-27T14:18:34.520Z"
   },
   {
    "duration": 135,
    "start_time": "2023-04-27T14:18:34.527Z"
   },
   {
    "duration": 36,
    "start_time": "2023-04-27T14:18:34.664Z"
   },
   {
    "duration": 14,
    "start_time": "2023-04-27T14:18:34.702Z"
   },
   {
    "duration": 28,
    "start_time": "2023-04-27T14:18:34.718Z"
   },
   {
    "duration": 598,
    "start_time": "2023-04-27T14:18:34.748Z"
   },
   {
    "duration": 726,
    "start_time": "2023-04-27T14:18:35.348Z"
   },
   {
    "duration": 16,
    "start_time": "2023-04-27T14:18:36.076Z"
   },
   {
    "duration": 42,
    "start_time": "2023-04-27T14:18:36.094Z"
   },
   {
    "duration": 12,
    "start_time": "2023-04-27T14:18:36.138Z"
   },
   {
    "duration": 1150,
    "start_time": "2023-04-27T14:18:36.152Z"
   },
   {
    "duration": 11,
    "start_time": "2023-04-27T14:18:37.303Z"
   },
   {
    "duration": 432,
    "start_time": "2023-04-27T14:18:37.316Z"
   },
   {
    "duration": 40,
    "start_time": "2023-04-27T14:18:37.756Z"
   },
   {
    "duration": 4,
    "start_time": "2023-04-27T14:18:37.798Z"
   },
   {
    "duration": 22,
    "start_time": "2023-04-27T14:18:37.803Z"
   },
   {
    "duration": 6546,
    "start_time": "2023-04-27T14:18:37.827Z"
   },
   {
    "duration": 5,
    "start_time": "2023-04-27T14:18:44.375Z"
   },
   {
    "duration": 24,
    "start_time": "2023-04-27T14:18:44.381Z"
   },
   {
    "duration": 57,
    "start_time": "2023-04-27T14:18:44.410Z"
   },
   {
    "duration": 790,
    "start_time": "2023-04-27T14:18:44.469Z"
   },
   {
    "duration": 3,
    "start_time": "2023-04-27T14:18:45.261Z"
   },
   {
    "duration": 8,
    "start_time": "2023-04-27T14:18:45.266Z"
   },
   {
    "duration": 17,
    "start_time": "2023-04-27T14:18:45.275Z"
   },
   {
    "duration": 246,
    "start_time": "2023-04-27T14:18:45.294Z"
   },
   {
    "duration": 84,
    "start_time": "2023-04-27T14:18:45.542Z"
   },
   {
    "duration": 37,
    "start_time": "2023-04-27T14:18:45.627Z"
   },
   {
    "duration": 5,
    "start_time": "2023-04-27T14:18:45.666Z"
   },
   {
    "duration": 53,
    "start_time": "2023-04-27T14:18:45.673Z"
   },
   {
    "duration": 222,
    "start_time": "2023-04-27T14:18:45.728Z"
   },
   {
    "duration": 370,
    "start_time": "2023-04-27T14:18:45.952Z"
   },
   {
    "duration": 95,
    "start_time": "2023-04-27T14:18:46.324Z"
   },
   {
    "duration": 809,
    "start_time": "2023-04-27T14:18:46.421Z"
   },
   {
    "duration": 28,
    "start_time": "2023-04-27T14:18:47.232Z"
   },
   {
    "duration": 55,
    "start_time": "2023-04-27T14:18:47.261Z"
   },
   {
    "duration": 9,
    "start_time": "2023-04-27T14:18:47.318Z"
   },
   {
    "duration": 46,
    "start_time": "2023-04-27T14:18:47.328Z"
   },
   {
    "duration": 22,
    "start_time": "2023-04-27T14:18:47.375Z"
   },
   {
    "duration": 5,
    "start_time": "2023-04-27T14:18:47.399Z"
   },
   {
    "duration": 15,
    "start_time": "2023-04-27T14:18:47.406Z"
   },
   {
    "duration": 84,
    "start_time": "2023-04-27T14:18:47.423Z"
   },
   {
    "duration": 17,
    "start_time": "2023-04-27T14:18:47.509Z"
   },
   {
    "duration": 33,
    "start_time": "2023-04-27T14:18:47.528Z"
   },
   {
    "duration": 25,
    "start_time": "2023-04-27T14:18:47.562Z"
   },
   {
    "duration": 21,
    "start_time": "2023-04-27T14:18:47.589Z"
   },
   {
    "duration": 32,
    "start_time": "2023-04-27T14:18:47.611Z"
   },
   {
    "duration": 15,
    "start_time": "2023-04-27T14:18:47.656Z"
   },
   {
    "duration": 46,
    "start_time": "2023-04-27T14:18:47.673Z"
   },
   {
    "duration": 202,
    "start_time": "2023-04-27T14:18:47.720Z"
   },
   {
    "duration": 162,
    "start_time": "2023-04-27T14:18:47.924Z"
   },
   {
    "duration": 47,
    "start_time": "2023-04-27T14:18:48.087Z"
   },
   {
    "duration": 30,
    "start_time": "2023-04-27T14:18:48.136Z"
   },
   {
    "duration": 31,
    "start_time": "2023-04-27T14:18:48.168Z"
   },
   {
    "duration": 55,
    "start_time": "2023-04-27T14:18:48.201Z"
   },
   {
    "duration": 64,
    "start_time": "2023-04-27T14:18:48.258Z"
   },
   {
    "duration": 5072,
    "start_time": "2023-04-27T14:18:48.323Z"
   },
   {
    "duration": 503,
    "start_time": "2023-04-27T14:18:53.397Z"
   },
   {
    "duration": 155,
    "start_time": "2023-04-27T14:18:53.902Z"
   },
   {
    "duration": 5,
    "start_time": "2023-04-27T14:18:54.059Z"
   },
   {
    "duration": 31,
    "start_time": "2023-04-27T14:18:54.066Z"
   },
   {
    "duration": 15,
    "start_time": "2023-04-27T14:18:54.099Z"
   },
   {
    "duration": 9,
    "start_time": "2023-04-27T14:18:54.116Z"
   },
   {
    "duration": 29,
    "start_time": "2023-04-27T14:18:54.127Z"
   },
   {
    "duration": 38,
    "start_time": "2023-04-27T14:18:54.158Z"
   },
   {
    "duration": 3,
    "start_time": "2023-04-27T14:18:54.198Z"
   },
   {
    "duration": 17,
    "start_time": "2023-04-27T14:18:54.202Z"
   },
   {
    "duration": 5,
    "start_time": "2023-04-27T14:18:54.220Z"
   },
   {
    "duration": 5,
    "start_time": "2023-04-27T14:18:54.226Z"
   },
   {
    "duration": 5,
    "start_time": "2023-04-27T14:18:54.233Z"
   },
   {
    "duration": 3,
    "start_time": "2023-04-27T14:18:54.256Z"
   },
   {
    "duration": 5,
    "start_time": "2023-04-27T14:18:54.261Z"
   },
   {
    "duration": 4,
    "start_time": "2023-04-27T14:18:54.268Z"
   },
   {
    "duration": 8,
    "start_time": "2023-04-27T14:18:54.274Z"
   },
   {
    "duration": 3,
    "start_time": "2023-04-27T14:18:54.288Z"
   },
   {
    "duration": 185882,
    "start_time": "2023-04-27T14:18:54.292Z"
   },
   {
    "duration": 27447,
    "start_time": "2023-04-27T14:22:00.176Z"
   },
   {
    "duration": 0,
    "start_time": "2023-04-27T14:22:27.625Z"
   },
   {
    "duration": 0,
    "start_time": "2023-04-27T14:22:27.626Z"
   },
   {
    "duration": 0,
    "start_time": "2023-04-27T14:22:27.627Z"
   },
   {
    "duration": 0,
    "start_time": "2023-04-27T14:22:27.628Z"
   },
   {
    "duration": 0,
    "start_time": "2023-04-27T14:22:27.629Z"
   },
   {
    "duration": 0,
    "start_time": "2023-04-27T14:22:27.630Z"
   },
   {
    "duration": 0,
    "start_time": "2023-04-27T14:22:27.631Z"
   },
   {
    "duration": 0,
    "start_time": "2023-04-27T14:22:27.633Z"
   },
   {
    "duration": 0,
    "start_time": "2023-04-27T14:22:27.634Z"
   },
   {
    "duration": 0,
    "start_time": "2023-04-27T14:22:27.635Z"
   },
   {
    "duration": 0,
    "start_time": "2023-04-27T14:22:27.636Z"
   },
   {
    "duration": 0,
    "start_time": "2023-04-27T14:22:27.637Z"
   },
   {
    "duration": 0,
    "start_time": "2023-04-27T14:22:27.638Z"
   },
   {
    "duration": 0,
    "start_time": "2023-04-27T14:22:27.639Z"
   },
   {
    "duration": 0,
    "start_time": "2023-04-27T14:22:27.640Z"
   },
   {
    "duration": 0,
    "start_time": "2023-04-27T14:22:27.642Z"
   },
   {
    "duration": 0,
    "start_time": "2023-04-27T14:22:27.643Z"
   },
   {
    "duration": 0,
    "start_time": "2023-04-27T14:22:27.644Z"
   },
   {
    "duration": 0,
    "start_time": "2023-04-27T14:22:27.645Z"
   },
   {
    "duration": 0,
    "start_time": "2023-04-27T14:22:27.646Z"
   },
   {
    "duration": 0,
    "start_time": "2023-04-27T14:22:27.648Z"
   },
   {
    "duration": 0,
    "start_time": "2023-04-27T14:22:27.649Z"
   },
   {
    "duration": 0,
    "start_time": "2023-04-27T14:22:27.650Z"
   },
   {
    "duration": 0,
    "start_time": "2023-04-27T14:22:27.651Z"
   },
   {
    "duration": 0,
    "start_time": "2023-04-27T14:22:27.652Z"
   },
   {
    "duration": 0,
    "start_time": "2023-04-27T14:22:27.653Z"
   },
   {
    "duration": 0,
    "start_time": "2023-04-27T14:22:27.654Z"
   },
   {
    "duration": 0,
    "start_time": "2023-04-27T14:22:27.656Z"
   },
   {
    "duration": 0,
    "start_time": "2023-04-27T14:22:27.657Z"
   },
   {
    "duration": 0,
    "start_time": "2023-04-27T14:22:27.658Z"
   },
   {
    "duration": 0,
    "start_time": "2023-04-27T14:22:27.659Z"
   },
   {
    "duration": 0,
    "start_time": "2023-04-27T14:22:27.660Z"
   },
   {
    "duration": 0,
    "start_time": "2023-04-27T14:22:27.661Z"
   },
   {
    "duration": 0,
    "start_time": "2023-04-27T14:22:27.662Z"
   },
   {
    "duration": 0,
    "start_time": "2023-04-27T14:22:27.663Z"
   },
   {
    "duration": 0,
    "start_time": "2023-04-27T14:22:27.664Z"
   },
   {
    "duration": 0,
    "start_time": "2023-04-27T14:22:27.666Z"
   },
   {
    "duration": 0,
    "start_time": "2023-04-27T14:22:27.667Z"
   },
   {
    "duration": 0,
    "start_time": "2023-04-27T14:22:27.668Z"
   },
   {
    "duration": 0,
    "start_time": "2023-04-27T14:22:27.669Z"
   },
   {
    "duration": 0,
    "start_time": "2023-04-27T14:22:27.670Z"
   },
   {
    "duration": 0,
    "start_time": "2023-04-27T14:22:27.671Z"
   },
   {
    "duration": 0,
    "start_time": "2023-04-27T14:22:27.672Z"
   },
   {
    "duration": 0,
    "start_time": "2023-04-27T14:22:27.673Z"
   },
   {
    "duration": 0,
    "start_time": "2023-04-27T14:22:27.674Z"
   },
   {
    "duration": 0,
    "start_time": "2023-04-27T14:22:27.675Z"
   },
   {
    "duration": 0,
    "start_time": "2023-04-27T14:22:27.676Z"
   },
   {
    "duration": 0,
    "start_time": "2023-04-27T14:22:27.678Z"
   },
   {
    "duration": 0,
    "start_time": "2023-04-27T14:22:27.679Z"
   },
   {
    "duration": 0,
    "start_time": "2023-04-27T14:22:27.680Z"
   },
   {
    "duration": 0,
    "start_time": "2023-04-27T14:22:27.681Z"
   },
   {
    "duration": 0,
    "start_time": "2023-04-27T14:22:27.683Z"
   },
   {
    "duration": 0,
    "start_time": "2023-04-27T14:22:27.684Z"
   },
   {
    "duration": 0,
    "start_time": "2023-04-27T14:22:27.685Z"
   },
   {
    "duration": 0,
    "start_time": "2023-04-27T14:22:27.686Z"
   },
   {
    "duration": 0,
    "start_time": "2023-04-27T14:22:27.687Z"
   },
   {
    "duration": 0,
    "start_time": "2023-04-27T14:22:27.688Z"
   },
   {
    "duration": 0,
    "start_time": "2023-04-27T14:22:27.689Z"
   },
   {
    "duration": 0,
    "start_time": "2023-04-27T14:22:27.690Z"
   },
   {
    "duration": 0,
    "start_time": "2023-04-27T14:22:27.691Z"
   },
   {
    "duration": 0,
    "start_time": "2023-04-27T14:22:27.692Z"
   },
   {
    "duration": 0,
    "start_time": "2023-04-27T14:22:27.692Z"
   },
   {
    "duration": 0,
    "start_time": "2023-04-27T14:22:27.756Z"
   },
   {
    "duration": 0,
    "start_time": "2023-04-27T14:22:27.757Z"
   },
   {
    "duration": 0,
    "start_time": "2023-04-27T14:22:27.758Z"
   },
   {
    "duration": 0,
    "start_time": "2023-04-27T14:22:27.759Z"
   },
   {
    "duration": 0,
    "start_time": "2023-04-27T14:22:27.760Z"
   },
   {
    "duration": 1403,
    "start_time": "2023-04-27T14:22:41.183Z"
   },
   {
    "duration": 9,
    "start_time": "2023-04-27T14:22:51.210Z"
   },
   {
    "duration": 7,
    "start_time": "2023-04-27T14:23:04.848Z"
   },
   {
    "duration": 3,
    "start_time": "2023-04-27T14:23:10.325Z"
   },
   {
    "duration": 5763,
    "start_time": "2023-04-27T14:23:13.612Z"
   },
   {
    "duration": 11059,
    "start_time": "2023-04-27T14:23:22.671Z"
   },
   {
    "duration": 16,
    "start_time": "2023-04-27T14:23:37.211Z"
   },
   {
    "duration": 8,
    "start_time": "2023-04-27T14:23:43.042Z"
   },
   {
    "duration": 1439,
    "start_time": "2023-04-27T14:26:52.974Z"
   },
   {
    "duration": 739,
    "start_time": "2023-04-27T14:26:54.415Z"
   },
   {
    "duration": 18,
    "start_time": "2023-04-27T14:26:55.156Z"
   },
   {
    "duration": 126,
    "start_time": "2023-04-27T14:26:55.175Z"
   },
   {
    "duration": 3,
    "start_time": "2023-04-27T14:26:55.303Z"
   },
   {
    "duration": 601,
    "start_time": "2023-04-27T14:26:55.308Z"
   },
   {
    "duration": 16,
    "start_time": "2023-04-27T14:26:55.911Z"
   },
   {
    "duration": 875,
    "start_time": "2023-04-27T14:26:55.929Z"
   },
   {
    "duration": 3,
    "start_time": "2023-04-27T14:26:56.806Z"
   },
   {
    "duration": 115,
    "start_time": "2023-04-27T14:26:56.811Z"
   },
   {
    "duration": 36,
    "start_time": "2023-04-27T14:26:56.928Z"
   },
   {
    "duration": 3,
    "start_time": "2023-04-27T14:26:56.966Z"
   },
   {
    "duration": 6,
    "start_time": "2023-04-27T14:26:56.971Z"
   },
   {
    "duration": 567,
    "start_time": "2023-04-27T14:26:56.980Z"
   },
   {
    "duration": 680,
    "start_time": "2023-04-27T14:26:57.549Z"
   },
   {
    "duration": 25,
    "start_time": "2023-04-27T14:26:58.231Z"
   },
   {
    "duration": 16,
    "start_time": "2023-04-27T14:26:58.258Z"
   },
   {
    "duration": 5,
    "start_time": "2023-04-27T14:26:58.276Z"
   },
   {
    "duration": 1243,
    "start_time": "2023-04-27T14:26:58.283Z"
   },
   {
    "duration": 29,
    "start_time": "2023-04-27T14:26:59.529Z"
   },
   {
    "duration": 476,
    "start_time": "2023-04-27T14:26:59.560Z"
   },
   {
    "duration": 51,
    "start_time": "2023-04-27T14:27:00.038Z"
   },
   {
    "duration": 4,
    "start_time": "2023-04-27T14:27:00.091Z"
   },
   {
    "duration": 19,
    "start_time": "2023-04-27T14:27:00.097Z"
   },
   {
    "duration": 6722,
    "start_time": "2023-04-27T14:27:00.118Z"
   },
   {
    "duration": 4,
    "start_time": "2023-04-27T14:27:06.842Z"
   },
   {
    "duration": 32,
    "start_time": "2023-04-27T14:27:06.848Z"
   },
   {
    "duration": 40,
    "start_time": "2023-04-27T14:27:06.882Z"
   },
   {
    "duration": 813,
    "start_time": "2023-04-27T14:27:06.924Z"
   },
   {
    "duration": 2,
    "start_time": "2023-04-27T14:27:07.739Z"
   },
   {
    "duration": 15,
    "start_time": "2023-04-27T14:27:07.743Z"
   },
   {
    "duration": 28,
    "start_time": "2023-04-27T14:27:07.759Z"
   },
   {
    "duration": 221,
    "start_time": "2023-04-27T14:27:07.789Z"
   },
   {
    "duration": 80,
    "start_time": "2023-04-27T14:27:08.011Z"
   },
   {
    "duration": 28,
    "start_time": "2023-04-27T14:27:08.092Z"
   },
   {
    "duration": 6,
    "start_time": "2023-04-27T14:27:08.122Z"
   },
   {
    "duration": 64,
    "start_time": "2023-04-27T14:27:08.129Z"
   },
   {
    "duration": 216,
    "start_time": "2023-04-27T14:27:08.195Z"
   },
   {
    "duration": 357,
    "start_time": "2023-04-27T14:27:08.413Z"
   },
   {
    "duration": 90,
    "start_time": "2023-04-27T14:27:08.772Z"
   },
   {
    "duration": 775,
    "start_time": "2023-04-27T14:27:08.868Z"
   },
   {
    "duration": 24,
    "start_time": "2023-04-27T14:27:09.645Z"
   },
   {
    "duration": 50,
    "start_time": "2023-04-27T14:27:09.671Z"
   },
   {
    "duration": 8,
    "start_time": "2023-04-27T14:27:09.723Z"
   },
   {
    "duration": 44,
    "start_time": "2023-04-27T14:27:09.732Z"
   },
   {
    "duration": 24,
    "start_time": "2023-04-27T14:27:09.777Z"
   },
   {
    "duration": 4,
    "start_time": "2023-04-27T14:27:09.803Z"
   },
   {
    "duration": 16,
    "start_time": "2023-04-27T14:27:09.808Z"
   },
   {
    "duration": 82,
    "start_time": "2023-04-27T14:27:09.826Z"
   },
   {
    "duration": 19,
    "start_time": "2023-04-27T14:27:09.909Z"
   },
   {
    "duration": 32,
    "start_time": "2023-04-27T14:27:09.930Z"
   },
   {
    "duration": 26,
    "start_time": "2023-04-27T14:27:09.964Z"
   },
   {
    "duration": 17,
    "start_time": "2023-04-27T14:27:09.992Z"
   },
   {
    "duration": 52,
    "start_time": "2023-04-27T14:27:10.011Z"
   },
   {
    "duration": 22,
    "start_time": "2023-04-27T14:27:10.064Z"
   },
   {
    "duration": 82,
    "start_time": "2023-04-27T14:27:10.087Z"
   },
   {
    "duration": 164,
    "start_time": "2023-04-27T14:27:10.171Z"
   },
   {
    "duration": 150,
    "start_time": "2023-04-27T14:27:10.337Z"
   },
   {
    "duration": 45,
    "start_time": "2023-04-27T14:27:10.489Z"
   },
   {
    "duration": 31,
    "start_time": "2023-04-27T14:27:10.535Z"
   },
   {
    "duration": 43,
    "start_time": "2023-04-27T14:27:10.568Z"
   },
   {
    "duration": 45,
    "start_time": "2023-04-27T14:27:10.612Z"
   },
   {
    "duration": 53,
    "start_time": "2023-04-27T14:27:10.658Z"
   },
   {
    "duration": 5150,
    "start_time": "2023-04-27T14:27:10.713Z"
   },
   {
    "duration": 565,
    "start_time": "2023-04-27T14:27:15.864Z"
   },
   {
    "duration": 146,
    "start_time": "2023-04-27T14:27:16.431Z"
   },
   {
    "duration": 5,
    "start_time": "2023-04-27T14:27:16.579Z"
   },
   {
    "duration": 28,
    "start_time": "2023-04-27T14:27:16.586Z"
   },
   {
    "duration": 15,
    "start_time": "2023-04-27T14:27:16.615Z"
   },
   {
    "duration": 8,
    "start_time": "2023-04-27T14:27:16.655Z"
   },
   {
    "duration": 30,
    "start_time": "2023-04-27T14:27:16.664Z"
   },
   {
    "duration": 43,
    "start_time": "2023-04-27T14:27:16.696Z"
   },
   {
    "duration": 4,
    "start_time": "2023-04-27T14:27:16.741Z"
   },
   {
    "duration": 6,
    "start_time": "2023-04-27T14:27:16.746Z"
   },
   {
    "duration": 4,
    "start_time": "2023-04-27T14:27:16.757Z"
   },
   {
    "duration": 4,
    "start_time": "2023-04-27T14:27:16.763Z"
   },
   {
    "duration": 9,
    "start_time": "2023-04-27T14:27:16.769Z"
   },
   {
    "duration": 7,
    "start_time": "2023-04-27T14:27:16.779Z"
   },
   {
    "duration": 5,
    "start_time": "2023-04-27T14:27:16.787Z"
   },
   {
    "duration": 5,
    "start_time": "2023-04-27T14:27:16.794Z"
   },
   {
    "duration": 21,
    "start_time": "2023-04-27T14:27:16.801Z"
   },
   {
    "duration": 9,
    "start_time": "2023-04-27T14:27:16.824Z"
   },
   {
    "duration": 183079,
    "start_time": "2023-04-27T14:27:16.835Z"
   },
   {
    "duration": 740025,
    "start_time": "2023-04-27T14:30:19.916Z"
   },
   {
    "duration": 252084,
    "start_time": "2023-04-27T14:42:39.943Z"
   },
   {
    "duration": 3,
    "start_time": "2023-04-27T14:46:52.029Z"
   },
   {
    "duration": 22,
    "start_time": "2023-04-27T14:46:52.033Z"
   },
   {
    "duration": 384,
    "start_time": "2023-04-27T14:46:52.057Z"
   },
   {
    "duration": 3,
    "start_time": "2023-04-27T14:46:52.442Z"
   },
   {
    "duration": 1197905,
    "start_time": "2023-04-27T14:46:52.447Z"
   },
   {
    "duration": 293292,
    "start_time": "2023-04-27T15:06:50.355Z"
   },
   {
    "duration": 1253,
    "start_time": "2023-04-27T15:11:43.649Z"
   },
   {
    "duration": 467904,
    "start_time": "2023-04-27T15:11:44.904Z"
   },
   {
    "duration": 2,
    "start_time": "2023-04-27T15:19:32.810Z"
   },
   {
    "duration": 9,
    "start_time": "2023-04-27T15:19:32.813Z"
   },
   {
    "duration": 7849,
    "start_time": "2023-04-27T15:19:32.824Z"
   },
   {
    "duration": 27098,
    "start_time": "2023-04-27T15:19:40.675Z"
   },
   {
    "duration": 698,
    "start_time": "2023-04-27T15:20:07.775Z"
   },
   {
    "duration": 13296,
    "start_time": "2023-04-27T15:20:08.475Z"
   },
   {
    "duration": 3,
    "start_time": "2023-04-27T15:20:21.773Z"
   },
   {
    "duration": 291,
    "start_time": "2023-04-27T15:20:21.778Z"
   },
   {
    "duration": 3,
    "start_time": "2023-04-27T15:20:22.071Z"
   },
   {
    "duration": 576000,
    "start_time": "2023-04-27T15:20:22.075Z"
   },
   {
    "duration": 22482,
    "start_time": "2023-04-27T15:29:58.077Z"
   },
   {
    "duration": 109707,
    "start_time": "2023-04-27T15:30:20.561Z"
   },
   {
    "duration": 42786,
    "start_time": "2023-04-27T15:32:10.271Z"
   },
   {
    "duration": 3,
    "start_time": "2023-04-27T15:32:53.059Z"
   },
   {
    "duration": 566,
    "start_time": "2023-04-27T15:32:53.063Z"
   },
   {
    "duration": 338,
    "start_time": "2023-04-27T15:32:53.631Z"
   },
   {
    "duration": 5,
    "start_time": "2023-04-27T15:32:53.971Z"
   },
   {
    "duration": 6,
    "start_time": "2023-04-27T15:32:53.978Z"
   },
   {
    "duration": 1278,
    "start_time": "2023-04-27T15:32:53.986Z"
   },
   {
    "duration": 3,
    "start_time": "2023-04-27T15:32:55.265Z"
   },
   {
    "duration": 5,
    "start_time": "2023-04-27T15:32:55.269Z"
   },
   {
    "duration": 7705,
    "start_time": "2023-04-27T15:32:55.276Z"
   },
   {
    "duration": 263,
    "start_time": "2023-04-27T15:33:02.984Z"
   },
   {
    "duration": 6927,
    "start_time": "2023-04-27T15:33:03.249Z"
   },
   {
    "duration": 1361,
    "start_time": "2023-04-27T15:33:10.177Z"
   },
   {
    "duration": 953,
    "start_time": "2023-04-27T15:33:11.540Z"
   },
   {
    "duration": 12,
    "start_time": "2023-04-27T15:33:12.495Z"
   },
   {
    "duration": 21,
    "start_time": "2023-04-27T15:33:12.509Z"
   },
   {
    "duration": 64,
    "start_time": "2023-04-27T15:33:12.539Z"
   },
   {
    "duration": 314,
    "start_time": "2023-04-27T15:33:12.605Z"
   },
   {
    "duration": 57,
    "start_time": "2023-04-27T15:33:12.921Z"
   },
   {
    "duration": 4,
    "start_time": "2023-04-27T15:33:12.980Z"
   },
   {
    "duration": 18,
    "start_time": "2023-04-27T15:33:12.985Z"
   },
   {
    "duration": 11,
    "start_time": "2023-04-27T15:33:13.005Z"
   },
   {
    "duration": 13620,
    "start_time": "2023-04-27T15:33:13.018Z"
   },
   {
    "duration": 449,
    "start_time": "2023-04-27T15:33:26.640Z"
   },
   {
    "duration": 13295,
    "start_time": "2023-04-27T15:33:27.090Z"
   },
   {
    "duration": 143,
    "start_time": "2023-04-27T15:33:40.387Z"
   },
   {
    "duration": 80,
    "start_time": "2023-04-27T15:33:40.532Z"
   },
   {
    "duration": 3,
    "start_time": "2023-04-27T15:33:40.614Z"
   },
   {
    "duration": 21110,
    "start_time": "2023-04-27T15:33:40.618Z"
   },
   {
    "duration": 83134,
    "start_time": "2023-04-27T15:34:01.730Z"
   },
   {
    "duration": 24849,
    "start_time": "2023-04-27T15:35:24.867Z"
   },
   {
    "duration": 3,
    "start_time": "2023-04-27T15:35:49.718Z"
   },
   {
    "duration": 30,
    "start_time": "2023-04-27T15:35:49.722Z"
   },
   {
    "duration": 593514,
    "start_time": "2023-04-27T15:35:49.754Z"
   },
   {
    "duration": 2,
    "start_time": "2023-04-27T15:45:43.270Z"
   },
   {
    "duration": 48971,
    "start_time": "2023-04-27T15:45:43.273Z"
   },
   {
    "duration": 188521,
    "start_time": "2023-04-27T15:46:32.246Z"
   },
   {
    "duration": 56123,
    "start_time": "2023-04-27T15:49:40.769Z"
   },
   {
    "duration": 226,
    "start_time": "2023-04-27T15:50:36.894Z"
   },
   {
    "duration": 3,
    "start_time": "2023-04-27T15:50:37.122Z"
   },
   {
    "duration": 10,
    "start_time": "2023-04-27T15:50:37.127Z"
   },
   {
    "duration": 84108,
    "start_time": "2023-04-27T15:50:37.138Z"
   },
   {
    "duration": 1628,
    "start_time": "2023-04-27T18:33:57.580Z"
   },
   {
    "duration": 2950,
    "start_time": "2023-04-27T18:33:59.210Z"
   },
   {
    "duration": 18,
    "start_time": "2023-04-27T18:34:02.162Z"
   },
   {
    "duration": 134,
    "start_time": "2023-04-27T18:34:02.181Z"
   },
   {
    "duration": 3,
    "start_time": "2023-04-27T18:34:02.318Z"
   },
   {
    "duration": 549,
    "start_time": "2023-04-27T18:34:02.323Z"
   },
   {
    "duration": 8,
    "start_time": "2023-04-27T18:34:02.874Z"
   },
   {
    "duration": 859,
    "start_time": "2023-04-27T18:34:02.893Z"
   },
   {
    "duration": 4,
    "start_time": "2023-04-27T18:34:03.754Z"
   },
   {
    "duration": 132,
    "start_time": "2023-04-27T18:34:03.759Z"
   },
   {
    "duration": 31,
    "start_time": "2023-04-27T18:34:03.893Z"
   },
   {
    "duration": 30,
    "start_time": "2023-04-27T18:34:03.926Z"
   },
   {
    "duration": 44,
    "start_time": "2023-04-27T18:34:03.957Z"
   },
   {
    "duration": 617,
    "start_time": "2023-04-27T18:34:04.004Z"
   },
   {
    "duration": 680,
    "start_time": "2023-04-27T18:34:04.623Z"
   },
   {
    "duration": 13,
    "start_time": "2023-04-27T18:34:05.305Z"
   },
   {
    "duration": 26,
    "start_time": "2023-04-27T18:34:05.320Z"
   },
   {
    "duration": 9,
    "start_time": "2023-04-27T18:34:05.348Z"
   },
   {
    "duration": 1154,
    "start_time": "2023-04-27T18:34:05.358Z"
   },
   {
    "duration": 12,
    "start_time": "2023-04-27T18:34:06.513Z"
   },
   {
    "duration": 445,
    "start_time": "2023-04-27T18:34:06.526Z"
   },
   {
    "duration": 48,
    "start_time": "2023-04-27T18:34:06.973Z"
   },
   {
    "duration": 5,
    "start_time": "2023-04-27T18:34:07.022Z"
   },
   {
    "duration": 5,
    "start_time": "2023-04-27T18:34:07.029Z"
   },
   {
    "duration": 6672,
    "start_time": "2023-04-27T18:34:07.036Z"
   },
   {
    "duration": 4,
    "start_time": "2023-04-27T18:34:13.710Z"
   },
   {
    "duration": 37,
    "start_time": "2023-04-27T18:34:13.716Z"
   },
   {
    "duration": 43,
    "start_time": "2023-04-27T18:34:13.755Z"
   },
   {
    "duration": 810,
    "start_time": "2023-04-27T18:34:13.800Z"
   },
   {
    "duration": 3,
    "start_time": "2023-04-27T18:34:14.612Z"
   },
   {
    "duration": 5,
    "start_time": "2023-04-27T18:34:14.617Z"
   },
   {
    "duration": 16,
    "start_time": "2023-04-27T18:34:14.624Z"
   },
   {
    "duration": 253,
    "start_time": "2023-04-27T18:34:14.642Z"
   },
   {
    "duration": 78,
    "start_time": "2023-04-27T18:34:14.897Z"
   },
   {
    "duration": 49,
    "start_time": "2023-04-27T18:34:14.977Z"
   },
   {
    "duration": 6,
    "start_time": "2023-04-27T18:34:15.028Z"
   },
   {
    "duration": 55,
    "start_time": "2023-04-27T18:34:15.035Z"
   },
   {
    "duration": 211,
    "start_time": "2023-04-27T18:34:15.092Z"
   },
   {
    "duration": 402,
    "start_time": "2023-04-27T18:34:15.305Z"
   },
   {
    "duration": 97,
    "start_time": "2023-04-27T18:34:15.709Z"
   },
   {
    "duration": 816,
    "start_time": "2023-04-27T18:34:15.811Z"
   },
   {
    "duration": 25,
    "start_time": "2023-04-27T18:34:16.628Z"
   },
   {
    "duration": 70,
    "start_time": "2023-04-27T18:34:16.655Z"
   },
   {
    "duration": 8,
    "start_time": "2023-04-27T18:34:16.727Z"
   },
   {
    "duration": 28,
    "start_time": "2023-04-27T18:34:16.737Z"
   },
   {
    "duration": 39,
    "start_time": "2023-04-27T18:34:16.766Z"
   },
   {
    "duration": 5,
    "start_time": "2023-04-27T18:34:16.806Z"
   },
   {
    "duration": 18,
    "start_time": "2023-04-27T18:34:16.812Z"
   },
   {
    "duration": 93,
    "start_time": "2023-04-27T18:34:16.832Z"
   },
   {
    "duration": 17,
    "start_time": "2023-04-27T18:34:16.927Z"
   },
   {
    "duration": 33,
    "start_time": "2023-04-27T18:34:16.945Z"
   },
   {
    "duration": 46,
    "start_time": "2023-04-27T18:34:16.981Z"
   },
   {
    "duration": 32,
    "start_time": "2023-04-27T18:34:17.029Z"
   },
   {
    "duration": 32,
    "start_time": "2023-04-27T18:34:17.064Z"
   },
   {
    "duration": 20,
    "start_time": "2023-04-27T18:34:17.097Z"
   },
   {
    "duration": 47,
    "start_time": "2023-04-27T18:34:17.119Z"
   },
   {
    "duration": 198,
    "start_time": "2023-04-27T18:34:17.168Z"
   },
   {
    "duration": 160,
    "start_time": "2023-04-27T18:34:17.368Z"
   },
   {
    "duration": 52,
    "start_time": "2023-04-27T18:34:17.530Z"
   },
   {
    "duration": 18,
    "start_time": "2023-04-27T18:34:17.592Z"
   },
   {
    "duration": 32,
    "start_time": "2023-04-27T18:34:17.612Z"
   },
   {
    "duration": 61,
    "start_time": "2023-04-27T18:34:17.646Z"
   },
   {
    "duration": 62,
    "start_time": "2023-04-27T18:34:17.708Z"
   },
   {
    "duration": 5339,
    "start_time": "2023-04-27T18:34:17.772Z"
   },
   {
    "duration": 497,
    "start_time": "2023-04-27T18:34:23.113Z"
   },
   {
    "duration": 141,
    "start_time": "2023-04-27T18:34:23.611Z"
   },
   {
    "duration": 4,
    "start_time": "2023-04-27T18:34:23.754Z"
   },
   {
    "duration": 24,
    "start_time": "2023-04-27T18:34:23.760Z"
   },
   {
    "duration": 108,
    "start_time": "2023-04-27T18:34:23.794Z"
   },
   {
    "duration": 7,
    "start_time": "2023-04-27T18:34:23.904Z"
   },
   {
    "duration": 7,
    "start_time": "2023-04-27T18:34:23.913Z"
   },
   {
    "duration": 37,
    "start_time": "2023-04-27T18:34:23.922Z"
   },
   {
    "duration": 3,
    "start_time": "2023-04-27T18:34:23.961Z"
   },
   {
    "duration": 6,
    "start_time": "2023-04-27T18:34:23.965Z"
   },
   {
    "duration": 3,
    "start_time": "2023-04-27T18:34:23.993Z"
   },
   {
    "duration": 8,
    "start_time": "2023-04-27T18:34:23.998Z"
   },
   {
    "duration": 5,
    "start_time": "2023-04-27T18:34:24.007Z"
   },
   {
    "duration": 8,
    "start_time": "2023-04-27T18:34:24.013Z"
   },
   {
    "duration": 9,
    "start_time": "2023-04-27T18:34:24.023Z"
   },
   {
    "duration": 6,
    "start_time": "2023-04-27T18:34:24.033Z"
   },
   {
    "duration": 11,
    "start_time": "2023-04-27T18:34:24.040Z"
   },
   {
    "duration": 5,
    "start_time": "2023-04-27T18:34:24.052Z"
   },
   {
    "duration": 183678,
    "start_time": "2023-04-27T18:34:24.058Z"
   },
   {
    "duration": 761862,
    "start_time": "2023-04-27T18:37:27.738Z"
   },
   {
    "duration": 262494,
    "start_time": "2023-04-27T18:50:09.601Z"
   },
   {
    "duration": 3,
    "start_time": "2023-04-27T18:54:32.097Z"
   },
   {
    "duration": 43,
    "start_time": "2023-04-27T18:54:32.101Z"
   },
   {
    "duration": 301,
    "start_time": "2023-04-27T18:54:32.146Z"
   },
   {
    "duration": 3,
    "start_time": "2023-04-27T18:54:32.448Z"
   },
   {
    "duration": 1280706,
    "start_time": "2023-04-27T18:54:32.453Z"
   },
   {
    "duration": 309522,
    "start_time": "2023-04-27T19:15:53.162Z"
   },
   {
    "duration": 1265,
    "start_time": "2023-04-27T19:21:02.685Z"
   },
   {
    "duration": 493447,
    "start_time": "2023-04-27T19:21:03.952Z"
   },
   {
    "duration": 3,
    "start_time": "2023-04-27T19:29:17.401Z"
   },
   {
    "duration": 6,
    "start_time": "2023-04-27T19:29:17.406Z"
   },
   {
    "duration": 65390,
    "start_time": "2023-04-27T19:29:17.414Z"
   },
   {
    "duration": 27702,
    "start_time": "2023-04-27T19:30:22.806Z"
   },
   {
    "duration": 787,
    "start_time": "2023-04-27T19:30:50.510Z"
   },
   {
    "duration": 40908,
    "start_time": "2023-04-27T19:30:51.298Z"
   },
   {
    "duration": 2,
    "start_time": "2023-04-27T19:31:32.208Z"
   },
   {
    "duration": 313,
    "start_time": "2023-04-27T19:31:32.212Z"
   },
   {
    "duration": 3,
    "start_time": "2023-04-27T19:31:32.527Z"
   },
   {
    "duration": 1162572,
    "start_time": "2023-04-27T19:31:32.532Z"
   },
   {
    "duration": 545592,
    "start_time": "2023-04-27T19:50:55.106Z"
   },
   {
    "duration": 2777620,
    "start_time": "2023-04-27T20:00:00.700Z"
   },
   {
    "duration": 117977,
    "start_time": "2023-04-27T20:46:18.323Z"
   },
   {
    "duration": 2,
    "start_time": "2023-04-27T20:48:16.302Z"
   },
   {
    "duration": 484,
    "start_time": "2023-04-27T20:48:16.306Z"
   },
   {
    "duration": 314,
    "start_time": "2023-04-27T20:48:16.793Z"
   },
   {
    "duration": 3,
    "start_time": "2023-04-27T20:48:17.109Z"
   },
   {
    "duration": 15,
    "start_time": "2023-04-27T20:48:17.114Z"
   },
   {
    "duration": 1312,
    "start_time": "2023-04-27T20:48:17.130Z"
   },
   {
    "duration": 3,
    "start_time": "2023-04-27T20:48:18.444Z"
   },
   {
    "duration": 8,
    "start_time": "2023-04-27T20:48:18.448Z"
   },
   {
    "duration": 7209,
    "start_time": "2023-04-27T20:48:18.458Z"
   },
   {
    "duration": 252,
    "start_time": "2023-04-27T20:48:25.668Z"
   },
   {
    "duration": 7324,
    "start_time": "2023-04-27T20:48:25.921Z"
   },
   {
    "duration": 1326,
    "start_time": "2023-04-27T20:48:33.247Z"
   },
   {
    "duration": 767,
    "start_time": "2023-04-27T20:48:34.575Z"
   },
   {
    "duration": 12,
    "start_time": "2023-04-27T20:48:35.343Z"
   },
   {
    "duration": 13,
    "start_time": "2023-04-27T20:48:35.357Z"
   },
   {
    "duration": 68,
    "start_time": "2023-04-27T20:48:35.376Z"
   },
   {
    "duration": 318,
    "start_time": "2023-04-27T20:48:35.446Z"
   },
   {
    "duration": 62,
    "start_time": "2023-04-27T20:48:35.766Z"
   },
   {
    "duration": 5,
    "start_time": "2023-04-27T20:48:35.830Z"
   },
   {
    "duration": 15,
    "start_time": "2023-04-27T20:48:35.837Z"
   },
   {
    "duration": 11,
    "start_time": "2023-04-27T20:48:35.853Z"
   },
   {
    "duration": 14149,
    "start_time": "2023-04-27T20:48:35.866Z"
   },
   {
    "duration": 509,
    "start_time": "2023-04-27T20:48:50.017Z"
   },
   {
    "duration": 14671,
    "start_time": "2023-04-27T20:48:50.528Z"
   },
   {
    "duration": 136,
    "start_time": "2023-04-27T20:49:05.200Z"
   },
   {
    "duration": 76,
    "start_time": "2023-04-27T20:49:05.338Z"
   },
   {
    "duration": 2,
    "start_time": "2023-04-27T20:49:05.416Z"
   },
   {
    "duration": 20729,
    "start_time": "2023-04-27T20:49:05.420Z"
   },
   {
    "duration": 81288,
    "start_time": "2023-04-27T20:49:26.151Z"
   },
   {
    "duration": 26326,
    "start_time": "2023-04-27T20:50:47.441Z"
   },
   {
    "duration": 6,
    "start_time": "2023-04-27T20:51:13.769Z"
   },
   {
    "duration": 17,
    "start_time": "2023-04-27T20:51:13.777Z"
   },
   {
    "duration": 592098,
    "start_time": "2023-04-27T20:51:13.797Z"
   },
   {
    "duration": 2,
    "start_time": "2023-04-27T21:01:05.897Z"
   },
   {
    "duration": 48045,
    "start_time": "2023-04-27T21:01:05.900Z"
   },
   {
    "duration": 195543,
    "start_time": "2023-04-27T21:01:53.947Z"
   },
   {
    "duration": 58405,
    "start_time": "2023-04-27T21:05:09.492Z"
   },
   {
    "duration": 250,
    "start_time": "2023-04-27T21:06:07.899Z"
   },
   {
    "duration": 3,
    "start_time": "2023-04-27T21:06:08.150Z"
   },
   {
    "duration": 5,
    "start_time": "2023-04-27T21:06:08.155Z"
   },
   {
    "duration": 87296,
    "start_time": "2023-04-27T21:06:08.162Z"
   },
   {
    "duration": 48,
    "start_time": "2023-04-28T00:35:14.485Z"
   },
   {
    "duration": 6,
    "start_time": "2023-04-28T00:35:17.025Z"
   },
   {
    "duration": 7,
    "start_time": "2023-04-28T00:37:32.460Z"
   },
   {
    "duration": 6,
    "start_time": "2023-04-28T00:42:11.921Z"
   },
   {
    "duration": 1387,
    "start_time": "2023-04-28T00:44:14.035Z"
   },
   {
    "duration": 2925,
    "start_time": "2023-04-28T00:44:15.424Z"
   },
   {
    "duration": 19,
    "start_time": "2023-04-28T00:44:18.351Z"
   },
   {
    "duration": 106,
    "start_time": "2023-04-28T00:44:18.372Z"
   },
   {
    "duration": 3,
    "start_time": "2023-04-28T00:44:18.480Z"
   },
   {
    "duration": 568,
    "start_time": "2023-04-28T00:44:18.485Z"
   },
   {
    "duration": 8,
    "start_time": "2023-04-28T00:44:19.055Z"
   },
   {
    "duration": 875,
    "start_time": "2023-04-28T00:44:19.065Z"
   },
   {
    "duration": 3,
    "start_time": "2023-04-28T00:44:19.942Z"
   },
   {
    "duration": 118,
    "start_time": "2023-04-28T00:44:19.947Z"
   },
   {
    "duration": 36,
    "start_time": "2023-04-28T00:44:20.067Z"
   },
   {
    "duration": 4,
    "start_time": "2023-04-28T00:44:20.105Z"
   },
   {
    "duration": 10,
    "start_time": "2023-04-28T00:44:20.110Z"
   },
   {
    "duration": 552,
    "start_time": "2023-04-28T00:44:20.121Z"
   },
   {
    "duration": 647,
    "start_time": "2023-04-28T00:44:20.675Z"
   },
   {
    "duration": 12,
    "start_time": "2023-04-28T00:44:21.324Z"
   },
   {
    "duration": 13,
    "start_time": "2023-04-28T00:44:21.338Z"
   },
   {
    "duration": 3,
    "start_time": "2023-04-28T00:44:21.353Z"
   },
   {
    "duration": 1144,
    "start_time": "2023-04-28T00:44:21.358Z"
   },
   {
    "duration": 11,
    "start_time": "2023-04-28T00:44:22.503Z"
   },
   {
    "duration": 422,
    "start_time": "2023-04-28T00:44:22.516Z"
   },
   {
    "duration": 42,
    "start_time": "2023-04-28T00:44:22.940Z"
   },
   {
    "duration": 4,
    "start_time": "2023-04-28T00:44:22.992Z"
   },
   {
    "duration": 11,
    "start_time": "2023-04-28T00:44:22.998Z"
   },
   {
    "duration": 6250,
    "start_time": "2023-04-28T00:44:23.011Z"
   },
   {
    "duration": 4,
    "start_time": "2023-04-28T00:44:29.262Z"
   },
   {
    "duration": 36,
    "start_time": "2023-04-28T00:44:29.268Z"
   },
   {
    "duration": 40,
    "start_time": "2023-04-28T00:44:29.309Z"
   },
   {
    "duration": 825,
    "start_time": "2023-04-28T00:44:29.351Z"
   },
   {
    "duration": 3,
    "start_time": "2023-04-28T00:44:30.178Z"
   },
   {
    "duration": 14,
    "start_time": "2023-04-28T00:44:30.182Z"
   },
   {
    "duration": 38,
    "start_time": "2023-04-28T00:44:30.198Z"
   },
   {
    "duration": 254,
    "start_time": "2023-04-28T00:44:30.238Z"
   },
   {
    "duration": 79,
    "start_time": "2023-04-28T00:44:30.493Z"
   },
   {
    "duration": 45,
    "start_time": "2023-04-28T00:44:30.573Z"
   },
   {
    "duration": 13,
    "start_time": "2023-04-28T00:44:30.620Z"
   },
   {
    "duration": 58,
    "start_time": "2023-04-28T00:44:30.634Z"
   },
   {
    "duration": 219,
    "start_time": "2023-04-28T00:44:30.694Z"
   },
   {
    "duration": 429,
    "start_time": "2023-04-28T00:44:30.915Z"
   },
   {
    "duration": 90,
    "start_time": "2023-04-28T00:44:31.346Z"
   },
   {
    "duration": 764,
    "start_time": "2023-04-28T00:44:31.437Z"
   },
   {
    "duration": 23,
    "start_time": "2023-04-28T00:44:32.202Z"
   },
   {
    "duration": 69,
    "start_time": "2023-04-28T00:44:32.226Z"
   },
   {
    "duration": 8,
    "start_time": "2023-04-28T00:44:32.297Z"
   },
   {
    "duration": 23,
    "start_time": "2023-04-28T00:44:32.307Z"
   },
   {
    "duration": 25,
    "start_time": "2023-04-28T00:44:32.332Z"
   },
   {
    "duration": 4,
    "start_time": "2023-04-28T00:44:32.358Z"
   },
   {
    "duration": 32,
    "start_time": "2023-04-28T00:44:32.364Z"
   },
   {
    "duration": 59,
    "start_time": "2023-04-28T00:44:32.398Z"
   },
   {
    "duration": 35,
    "start_time": "2023-04-28T00:44:32.459Z"
   },
   {
    "duration": 17,
    "start_time": "2023-04-28T00:44:32.495Z"
   },
   {
    "duration": 27,
    "start_time": "2023-04-28T00:44:32.513Z"
   },
   {
    "duration": 17,
    "start_time": "2023-04-28T00:44:32.541Z"
   },
   {
    "duration": 49,
    "start_time": "2023-04-28T00:44:32.559Z"
   },
   {
    "duration": 16,
    "start_time": "2023-04-28T00:44:32.609Z"
   },
   {
    "duration": 40,
    "start_time": "2023-04-28T00:44:32.627Z"
   },
   {
    "duration": 196,
    "start_time": "2023-04-28T00:44:32.669Z"
   },
   {
    "duration": 158,
    "start_time": "2023-04-28T00:44:32.867Z"
   },
   {
    "duration": 46,
    "start_time": "2023-04-28T00:44:33.027Z"
   },
   {
    "duration": 25,
    "start_time": "2023-04-28T00:44:33.074Z"
   },
   {
    "duration": 29,
    "start_time": "2023-04-28T00:44:33.101Z"
   },
   {
    "duration": 35,
    "start_time": "2023-04-28T00:44:33.132Z"
   },
   {
    "duration": 86,
    "start_time": "2023-04-28T00:44:33.168Z"
   },
   {
    "duration": 4953,
    "start_time": "2023-04-28T00:44:33.256Z"
   },
   {
    "duration": 490,
    "start_time": "2023-04-28T00:44:38.211Z"
   },
   {
    "duration": 138,
    "start_time": "2023-04-28T00:44:38.703Z"
   },
   {
    "duration": 4,
    "start_time": "2023-04-28T00:44:38.843Z"
   },
   {
    "duration": 25,
    "start_time": "2023-04-28T00:44:38.848Z"
   },
   {
    "duration": 22,
    "start_time": "2023-04-28T00:44:38.875Z"
   },
   {
    "duration": 21,
    "start_time": "2023-04-28T00:44:38.898Z"
   },
   {
    "duration": 15,
    "start_time": "2023-04-28T00:44:38.920Z"
   },
   {
    "duration": 39,
    "start_time": "2023-04-28T00:44:38.937Z"
   },
   {
    "duration": 3,
    "start_time": "2023-04-28T00:44:38.978Z"
   },
   {
    "duration": 19,
    "start_time": "2023-04-28T00:44:38.983Z"
   },
   {
    "duration": 12,
    "start_time": "2023-04-28T00:44:39.003Z"
   },
   {
    "duration": 9,
    "start_time": "2023-04-28T00:44:39.017Z"
   },
   {
    "duration": 7,
    "start_time": "2023-04-28T00:44:39.027Z"
   },
   {
    "duration": 14,
    "start_time": "2023-04-28T00:44:39.036Z"
   },
   {
    "duration": 16,
    "start_time": "2023-04-28T00:44:39.052Z"
   },
   {
    "duration": 16,
    "start_time": "2023-04-28T00:44:39.069Z"
   },
   {
    "duration": 16,
    "start_time": "2023-04-28T00:44:39.086Z"
   },
   {
    "duration": 4,
    "start_time": "2023-04-28T00:44:39.109Z"
   },
   {
    "duration": 180285,
    "start_time": "2023-04-28T00:44:39.115Z"
   },
   {
    "duration": 732249,
    "start_time": "2023-04-28T00:47:39.402Z"
   },
   {
    "duration": 249695,
    "start_time": "2023-04-28T00:59:51.653Z"
   },
   {
    "duration": 3,
    "start_time": "2023-04-28T01:04:01.350Z"
   },
   {
    "duration": 42,
    "start_time": "2023-04-28T01:04:01.355Z"
   },
   {
    "duration": 387,
    "start_time": "2023-04-28T01:04:01.399Z"
   },
   {
    "duration": 3,
    "start_time": "2023-04-28T01:04:01.792Z"
   },
   {
    "duration": 1197697,
    "start_time": "2023-04-28T01:04:01.796Z"
   },
   {
    "duration": 291034,
    "start_time": "2023-04-28T01:23:59.494Z"
   },
   {
    "duration": 1198,
    "start_time": "2023-04-28T01:28:50.530Z"
   },
   {
    "duration": 459270,
    "start_time": "2023-04-28T01:28:51.730Z"
   },
   {
    "duration": 3,
    "start_time": "2023-04-28T01:36:31.002Z"
   },
   {
    "duration": 22,
    "start_time": "2023-04-28T01:36:31.006Z"
   },
   {
    "duration": 4774,
    "start_time": "2023-04-28T01:36:31.030Z"
   },
   {
    "duration": 26089,
    "start_time": "2023-04-28T01:36:35.805Z"
   },
   {
    "duration": 704,
    "start_time": "2023-04-28T01:37:01.896Z"
   },
   {
    "duration": 12102,
    "start_time": "2023-04-28T01:37:02.602Z"
   },
   {
    "duration": 3,
    "start_time": "2023-04-28T01:37:14.705Z"
   },
   {
    "duration": 285,
    "start_time": "2023-04-28T01:37:14.710Z"
   },
   {
    "duration": 3,
    "start_time": "2023-04-28T01:37:14.996Z"
   },
   {
    "duration": 457003,
    "start_time": "2023-04-28T01:37:15.001Z"
   },
   {
    "duration": 21991,
    "start_time": "2023-04-28T01:44:52.006Z"
   },
   {
    "duration": 97109,
    "start_time": "2023-04-28T01:45:13.998Z"
   },
   {
    "duration": 42497,
    "start_time": "2023-04-28T01:46:51.109Z"
   },
   {
    "duration": 3,
    "start_time": "2023-04-28T01:47:33.607Z"
   },
   {
    "duration": 496,
    "start_time": "2023-04-28T01:47:33.612Z"
   },
   {
    "duration": 301,
    "start_time": "2023-04-28T01:47:34.110Z"
   },
   {
    "duration": 4,
    "start_time": "2023-04-28T01:47:34.413Z"
   },
   {
    "duration": 11,
    "start_time": "2023-04-28T01:47:34.418Z"
   },
   {
    "duration": 1225,
    "start_time": "2023-04-28T01:47:34.430Z"
   },
   {
    "duration": 3,
    "start_time": "2023-04-28T01:47:35.656Z"
   },
   {
    "duration": 5,
    "start_time": "2023-04-28T01:47:35.660Z"
   },
   {
    "duration": 7076,
    "start_time": "2023-04-28T01:47:35.666Z"
   },
   {
    "duration": 237,
    "start_time": "2023-04-28T01:47:42.744Z"
   },
   {
    "duration": 6962,
    "start_time": "2023-04-28T01:47:42.983Z"
   },
   {
    "duration": 1213,
    "start_time": "2023-04-28T01:47:49.946Z"
   },
   {
    "duration": 844,
    "start_time": "2023-04-28T01:47:51.161Z"
   },
   {
    "duration": 12,
    "start_time": "2023-04-28T01:47:52.007Z"
   },
   {
    "duration": 5,
    "start_time": "2023-04-28T01:47:52.021Z"
   },
   {
    "duration": 76,
    "start_time": "2023-04-28T01:47:52.027Z"
   },
   {
    "duration": 330,
    "start_time": "2023-04-28T01:47:52.105Z"
   },
   {
    "duration": 56,
    "start_time": "2023-04-28T01:47:52.437Z"
   },
   {
    "duration": 5,
    "start_time": "2023-04-28T01:47:52.494Z"
   },
   {
    "duration": 18,
    "start_time": "2023-04-28T01:47:52.500Z"
   },
   {
    "duration": 10,
    "start_time": "2023-04-28T01:47:52.519Z"
   },
   {
    "duration": 13461,
    "start_time": "2023-04-28T01:47:52.531Z"
   },
   {
    "duration": 482,
    "start_time": "2023-04-28T01:48:05.994Z"
   },
   {
    "duration": 13323,
    "start_time": "2023-04-28T01:48:06.478Z"
   },
   {
    "duration": 140,
    "start_time": "2023-04-28T01:48:19.803Z"
   },
   {
    "duration": 84,
    "start_time": "2023-04-28T01:48:19.945Z"
   },
   {
    "duration": 3,
    "start_time": "2023-04-28T01:48:20.030Z"
   },
   {
    "duration": 19859,
    "start_time": "2023-04-28T01:48:20.035Z"
   },
   {
    "duration": 78909,
    "start_time": "2023-04-28T01:48:39.896Z"
   },
   {
    "duration": 24774,
    "start_time": "2023-04-28T01:49:58.807Z"
   },
   {
    "duration": 2,
    "start_time": "2023-04-28T01:50:23.583Z"
   },
   {
    "duration": 9,
    "start_time": "2023-04-28T01:50:23.586Z"
   },
   {
    "duration": 565845,
    "start_time": "2023-04-28T01:50:23.596Z"
   },
   {
    "duration": 2,
    "start_time": "2023-04-28T01:59:49.443Z"
   },
   {
    "duration": 46755,
    "start_time": "2023-04-28T01:59:49.447Z"
   },
   {
    "duration": 182620,
    "start_time": "2023-04-28T02:00:36.204Z"
   },
   {
    "duration": 55943,
    "start_time": "2023-04-28T02:03:38.826Z"
   },
   {
    "duration": 234,
    "start_time": "2023-04-28T02:04:34.771Z"
   },
   {
    "duration": 3,
    "start_time": "2023-04-28T02:04:35.007Z"
   },
   {
    "duration": 6,
    "start_time": "2023-04-28T02:04:35.011Z"
   },
   {
    "duration": 83678,
    "start_time": "2023-04-28T02:04:35.019Z"
   },
   {
    "duration": 51,
    "start_time": "2023-04-28T02:22:35.612Z"
   },
   {
    "duration": 2212,
    "start_time": "2023-04-28T02:22:36.721Z"
   },
   {
    "duration": 1920,
    "start_time": "2023-04-28T02:22:38.947Z"
   },
   {
    "duration": 1915,
    "start_time": "2023-04-28T02:22:40.869Z"
   },
   {
    "duration": 1478,
    "start_time": "2023-04-28T02:23:23.331Z"
   },
   {
    "duration": 6,
    "start_time": "2023-04-28T02:23:46.337Z"
   },
   {
    "duration": 3,
    "start_time": "2023-04-28T02:24:06.288Z"
   },
   {
    "duration": 3,
    "start_time": "2023-04-28T02:24:14.268Z"
   },
   {
    "duration": 220,
    "start_time": "2023-04-28T02:25:16.770Z"
   },
   {
    "duration": 2934,
    "start_time": "2023-04-28T02:26:06.517Z"
   },
   {
    "duration": 17,
    "start_time": "2023-04-28T02:26:29.028Z"
   },
   {
    "duration": 116,
    "start_time": "2023-04-28T02:26:59.916Z"
   },
   {
    "duration": 94,
    "start_time": "2023-04-28T02:27:22.448Z"
   },
   {
    "duration": 4,
    "start_time": "2023-04-28T02:28:29.680Z"
   },
   {
    "duration": 4,
    "start_time": "2023-04-28T02:28:36.661Z"
   },
   {
    "duration": 1586,
    "start_time": "2023-04-28T02:28:46.848Z"
   },
   {
    "duration": 236,
    "start_time": "2023-04-28T02:29:14.848Z"
   },
   {
    "duration": 25,
    "start_time": "2023-04-28T02:29:34.456Z"
   },
   {
    "duration": 3,
    "start_time": "2023-04-28T02:29:54.956Z"
   },
   {
    "duration": 23,
    "start_time": "2023-04-28T02:34:55.523Z"
   },
   {
    "duration": 3,
    "start_time": "2023-04-28T02:35:46.079Z"
   },
   {
    "duration": 2,
    "start_time": "2023-04-28T02:37:11.019Z"
   },
   {
    "duration": 1585,
    "start_time": "2023-04-28T02:37:21.058Z"
   },
   {
    "duration": 26,
    "start_time": "2023-04-28T02:39:18.519Z"
   },
   {
    "duration": 4,
    "start_time": "2023-04-28T02:39:37.678Z"
   },
   {
    "duration": 51,
    "start_time": "2023-04-28T02:40:29.050Z"
   },
   {
    "duration": 15,
    "start_time": "2023-04-28T02:41:01.538Z"
   },
   {
    "duration": 3,
    "start_time": "2023-04-28T02:41:56.122Z"
   },
   {
    "duration": 16,
    "start_time": "2023-04-28T02:42:12.841Z"
   },
   {
    "duration": 16,
    "start_time": "2023-04-28T02:43:03.801Z"
   },
   {
    "duration": 3,
    "start_time": "2023-04-28T02:45:45.031Z"
   },
   {
    "duration": 3,
    "start_time": "2023-04-28T02:46:04.810Z"
   },
   {
    "duration": 5,
    "start_time": "2023-04-28T02:46:07.891Z"
   },
   {
    "duration": 26,
    "start_time": "2023-04-28T02:46:37.007Z"
   },
   {
    "duration": 71,
    "start_time": "2023-04-28T03:05:51.291Z"
   },
   {
    "duration": 32,
    "start_time": "2023-04-28T03:06:18.936Z"
   },
   {
    "duration": 14,
    "start_time": "2023-04-28T03:06:38.636Z"
   },
   {
    "duration": 141,
    "start_time": "2023-04-28T03:08:16.188Z"
   },
   {
    "duration": 4,
    "start_time": "2023-04-28T03:08:41.160Z"
   },
   {
    "duration": 4,
    "start_time": "2023-04-28T03:12:33.799Z"
   },
   {
    "duration": 30,
    "start_time": "2023-04-28T03:15:17.955Z"
   },
   {
    "duration": 29,
    "start_time": "2023-04-28T03:15:58.175Z"
   },
   {
    "duration": 1331,
    "start_time": "2023-04-28T03:16:29.987Z"
   },
   {
    "duration": 2516,
    "start_time": "2023-04-28T03:17:09.295Z"
   },
   {
    "duration": 10,
    "start_time": "2023-04-28T03:18:42.515Z"
   },
   {
    "duration": 18,
    "start_time": "2023-04-28T03:19:11.090Z"
   },
   {
    "duration": 14,
    "start_time": "2023-04-28T03:19:16.550Z"
   },
   {
    "duration": 20,
    "start_time": "2023-04-28T03:20:06.830Z"
   },
   {
    "duration": 22,
    "start_time": "2023-04-28T03:20:13.735Z"
   },
   {
    "duration": 33,
    "start_time": "2023-04-28T03:28:34.370Z"
   },
   {
    "duration": 765,
    "start_time": "2023-04-28T03:29:42.845Z"
   },
   {
    "duration": 29,
    "start_time": "2023-04-28T03:29:57.925Z"
   },
   {
    "duration": 68,
    "start_time": "2023-04-28T03:30:07.725Z"
   },
   {
    "duration": 297,
    "start_time": "2023-04-28T03:33:18.917Z"
   },
   {
    "duration": 188,
    "start_time": "2023-04-28T03:33:47.817Z"
   },
   {
    "duration": 56,
    "start_time": "2023-04-28T03:39:05.479Z"
   },
   {
    "duration": 15,
    "start_time": "2023-04-28T03:39:15.149Z"
   },
   {
    "duration": 15,
    "start_time": "2023-04-28T03:40:13.278Z"
   },
   {
    "duration": 4,
    "start_time": "2023-04-28T03:40:28.103Z"
   },
   {
    "duration": 56,
    "start_time": "2023-04-28T03:40:52.915Z"
   },
   {
    "duration": 171,
    "start_time": "2023-04-28T03:41:20.363Z"
   },
   {
    "duration": 17,
    "start_time": "2023-04-28T03:41:51.936Z"
   },
   {
    "duration": 16,
    "start_time": "2023-04-28T03:42:03.436Z"
   },
   {
    "duration": 142,
    "start_time": "2023-04-28T03:42:35.983Z"
   },
   {
    "duration": 53,
    "start_time": "2023-04-28T04:11:29.904Z"
   },
   {
    "duration": 82,
    "start_time": "2023-04-28T04:12:10.876Z"
   },
   {
    "duration": 57,
    "start_time": "2023-04-28T04:12:23.204Z"
   },
   {
    "duration": 53,
    "start_time": "2023-04-28T04:15:14.523Z"
   },
   {
    "duration": 16,
    "start_time": "2023-04-28T04:15:31.256Z"
   },
   {
    "duration": 9,
    "start_time": "2023-04-28T04:15:42.398Z"
   },
   {
    "duration": 47,
    "start_time": "2023-04-28T04:15:56.124Z"
   },
   {
    "duration": 61,
    "start_time": "2023-04-28T04:16:20.529Z"
   },
   {
    "duration": 4,
    "start_time": "2023-04-28T04:17:54.288Z"
   },
   {
    "duration": 180,
    "start_time": "2023-04-28T04:17:59.823Z"
   },
   {
    "duration": 2,
    "start_time": "2023-04-28T04:18:20.624Z"
   },
   {
    "duration": 2,
    "start_time": "2023-04-28T04:19:24.628Z"
   },
   {
    "duration": 39,
    "start_time": "2023-04-28T04:19:42.483Z"
   },
   {
    "duration": 39,
    "start_time": "2023-04-28T04:19:50.283Z"
   },
   {
    "duration": 880,
    "start_time": "2023-04-28T04:20:01.828Z"
   },
   {
    "duration": 3,
    "start_time": "2023-04-28T04:20:59.119Z"
   },
   {
    "duration": 3,
    "start_time": "2023-04-28T04:21:19.935Z"
   },
   {
    "duration": 15,
    "start_time": "2023-04-28T04:21:27.415Z"
   },
   {
    "duration": 4,
    "start_time": "2023-04-28T04:21:58.332Z"
   },
   {
    "duration": 3,
    "start_time": "2023-04-28T04:22:04.087Z"
   },
   {
    "duration": 39,
    "start_time": "2023-04-28T04:23:24.369Z"
   },
   {
    "duration": 47,
    "start_time": "2023-04-28T04:24:18.963Z"
   },
   {
    "duration": 4,
    "start_time": "2023-04-28T04:24:25.663Z"
   },
   {
    "duration": 142,
    "start_time": "2023-04-28T04:24:33.402Z"
   },
   {
    "duration": 3,
    "start_time": "2023-04-28T04:31:44.473Z"
   },
   {
    "duration": 6,
    "start_time": "2023-04-28T04:32:06.498Z"
   },
   {
    "duration": 3,
    "start_time": "2023-04-28T04:32:51.033Z"
   },
   {
    "duration": 2,
    "start_time": "2023-04-28T04:33:00.914Z"
   },
   {
    "duration": 21960,
    "start_time": "2023-04-28T04:34:16.349Z"
   },
   {
    "duration": 47,
    "start_time": "2023-04-28T04:35:23.885Z"
   },
   {
    "duration": 50,
    "start_time": "2023-04-28T04:36:57.285Z"
   },
   {
    "duration": 10,
    "start_time": "2023-04-28T04:37:35.745Z"
   },
   {
    "duration": 46,
    "start_time": "2023-04-28T04:38:32.947Z"
   },
   {
    "duration": 756245,
    "start_time": "2023-04-28T04:43:43.096Z"
   },
   {
    "duration": 3315,
    "start_time": "2023-04-28T04:56:19.343Z"
   },
   {
    "duration": 1184710,
    "start_time": "2023-04-28T05:32:32.414Z"
   },
   {
    "duration": 0,
    "start_time": "2023-04-28T05:52:17.126Z"
   },
   {
    "duration": 0,
    "start_time": "2023-04-28T05:52:17.193Z"
   },
   {
    "duration": 0,
    "start_time": "2023-04-28T05:52:17.195Z"
   },
   {
    "duration": 0,
    "start_time": "2023-04-28T05:52:17.196Z"
   },
   {
    "duration": 0,
    "start_time": "2023-04-28T05:52:17.203Z"
   },
   {
    "duration": 0,
    "start_time": "2023-04-28T05:52:17.204Z"
   },
   {
    "duration": 0,
    "start_time": "2023-04-28T05:52:17.205Z"
   },
   {
    "duration": 0,
    "start_time": "2023-04-28T05:52:17.206Z"
   },
   {
    "duration": 11,
    "start_time": "2023-04-28T05:52:40.364Z"
   },
   {
    "duration": 1945,
    "start_time": "2023-04-28T05:52:56.285Z"
   },
   {
    "duration": 1913,
    "start_time": "2023-04-28T05:52:58.233Z"
   },
   {
    "duration": 1954,
    "start_time": "2023-04-28T05:53:00.148Z"
   },
   {
    "duration": 1455,
    "start_time": "2023-04-28T05:53:02.105Z"
   },
   {
    "duration": 5,
    "start_time": "2023-04-28T05:53:03.562Z"
   },
   {
    "duration": 29,
    "start_time": "2023-04-28T05:53:03.569Z"
   },
   {
    "duration": 12,
    "start_time": "2023-04-28T05:53:03.600Z"
   },
   {
    "duration": 803,
    "start_time": "2023-04-28T05:53:03.614Z"
   },
   {
    "duration": 18,
    "start_time": "2023-04-28T05:53:04.419Z"
   },
   {
    "duration": 129,
    "start_time": "2023-04-28T05:53:04.439Z"
   },
   {
    "duration": 130,
    "start_time": "2023-04-28T05:53:04.570Z"
   },
   {
    "duration": 4,
    "start_time": "2023-04-28T05:53:04.702Z"
   },
   {
    "duration": 11,
    "start_time": "2023-04-28T05:53:04.707Z"
   },
   {
    "duration": 1559,
    "start_time": "2023-04-28T05:53:04.719Z"
   },
   {
    "duration": 246,
    "start_time": "2023-04-28T05:53:06.280Z"
   },
   {
    "duration": 25,
    "start_time": "2023-04-28T05:53:06.527Z"
   },
   {
    "duration": 3,
    "start_time": "2023-04-28T05:53:06.553Z"
   },
   {
    "duration": 41,
    "start_time": "2023-04-28T05:53:06.557Z"
   },
   {
    "duration": 3,
    "start_time": "2023-04-28T05:53:06.600Z"
   },
   {
    "duration": 1550,
    "start_time": "2023-04-28T05:53:06.604Z"
   },
   {
    "duration": 39,
    "start_time": "2023-04-28T05:53:08.155Z"
   },
   {
    "duration": 3,
    "start_time": "2023-04-28T05:53:08.196Z"
   },
   {
    "duration": 20,
    "start_time": "2023-04-28T05:53:08.201Z"
   },
   {
    "duration": 18,
    "start_time": "2023-04-28T05:53:08.223Z"
   },
   {
    "duration": 17,
    "start_time": "2023-04-28T05:53:08.243Z"
   },
   {
    "duration": 33,
    "start_time": "2023-04-28T05:53:08.261Z"
   },
   {
    "duration": 18,
    "start_time": "2023-04-28T05:53:08.296Z"
   },
   {
    "duration": 37,
    "start_time": "2023-04-28T05:53:08.318Z"
   },
   {
    "duration": 77,
    "start_time": "2023-04-28T05:53:08.357Z"
   },
   {
    "duration": 46,
    "start_time": "2023-04-28T05:53:08.435Z"
   },
   {
    "duration": 151,
    "start_time": "2023-04-28T05:53:08.483Z"
   },
   {
    "duration": 4,
    "start_time": "2023-04-28T05:53:08.636Z"
   },
   {
    "duration": 4,
    "start_time": "2023-04-28T05:53:08.642Z"
   },
   {
    "duration": 46,
    "start_time": "2023-04-28T05:53:08.647Z"
   },
   {
    "duration": 28,
    "start_time": "2023-04-28T05:53:08.695Z"
   },
   {
    "duration": 1370,
    "start_time": "2023-04-28T05:53:08.725Z"
   },
   {
    "duration": 2407,
    "start_time": "2023-04-28T05:53:10.098Z"
   },
   {
    "duration": 10,
    "start_time": "2023-04-28T05:53:12.507Z"
   },
   {
    "duration": 17,
    "start_time": "2023-04-28T05:53:12.519Z"
   },
   {
    "duration": 15,
    "start_time": "2023-04-28T05:53:12.538Z"
   },
   {
    "duration": 39,
    "start_time": "2023-04-28T05:53:12.554Z"
   },
   {
    "duration": 14,
    "start_time": "2023-04-28T05:53:12.595Z"
   },
   {
    "duration": 31,
    "start_time": "2023-04-28T05:53:12.610Z"
   },
   {
    "duration": 30,
    "start_time": "2023-04-28T05:53:12.642Z"
   },
   {
    "duration": 83,
    "start_time": "2023-04-28T05:53:12.674Z"
   },
   {
    "duration": 345,
    "start_time": "2023-04-28T05:53:12.759Z"
   },
   {
    "duration": 246,
    "start_time": "2023-04-28T05:53:13.106Z"
   },
   {
    "duration": 16,
    "start_time": "2023-04-28T05:53:13.354Z"
   },
   {
    "duration": 23,
    "start_time": "2023-04-28T05:53:13.371Z"
   },
   {
    "duration": 4,
    "start_time": "2023-04-28T05:53:13.395Z"
   },
   {
    "duration": 67,
    "start_time": "2023-04-28T05:53:13.400Z"
   },
   {
    "duration": 162,
    "start_time": "2023-04-28T05:53:13.468Z"
   },
   {
    "duration": 16,
    "start_time": "2023-04-28T05:53:13.632Z"
   },
   {
    "duration": 15,
    "start_time": "2023-04-28T05:53:13.650Z"
   },
   {
    "duration": 168,
    "start_time": "2023-04-28T05:53:13.666Z"
   },
   {
    "duration": 61,
    "start_time": "2023-04-28T05:53:13.836Z"
   },
   {
    "duration": 52,
    "start_time": "2023-04-28T05:53:13.898Z"
   },
   {
    "duration": 61,
    "start_time": "2023-04-28T05:53:13.951Z"
   },
   {
    "duration": 17,
    "start_time": "2023-04-28T05:53:14.013Z"
   },
   {
    "duration": 10,
    "start_time": "2023-04-28T05:53:14.032Z"
   },
   {
    "duration": 73,
    "start_time": "2023-04-28T05:53:14.044Z"
   },
   {
    "duration": 76,
    "start_time": "2023-04-28T05:53:14.119Z"
   },
   {
    "duration": 5,
    "start_time": "2023-04-28T05:53:14.197Z"
   },
   {
    "duration": 199,
    "start_time": "2023-04-28T05:53:14.204Z"
   },
   {
    "duration": 3,
    "start_time": "2023-04-28T05:53:14.405Z"
   },
   {
    "duration": 855,
    "start_time": "2023-04-28T05:53:14.410Z"
   },
   {
    "duration": 3,
    "start_time": "2023-04-28T05:53:15.267Z"
   },
   {
    "duration": 13,
    "start_time": "2023-04-28T05:53:15.272Z"
   },
   {
    "duration": 24,
    "start_time": "2023-04-28T05:53:15.287Z"
   },
   {
    "duration": 3,
    "start_time": "2023-04-28T05:53:15.313Z"
   },
   {
    "duration": 7,
    "start_time": "2023-04-28T05:53:15.318Z"
   },
   {
    "duration": 55,
    "start_time": "2023-04-28T05:53:15.326Z"
   },
   {
    "duration": 5,
    "start_time": "2023-04-28T05:53:15.382Z"
   },
   {
    "duration": 152,
    "start_time": "2023-04-28T05:53:15.392Z"
   },
   {
    "duration": 3,
    "start_time": "2023-04-28T05:53:15.546Z"
   },
   {
    "duration": 9,
    "start_time": "2023-04-28T05:53:15.550Z"
   },
   {
    "duration": 6,
    "start_time": "2023-04-28T05:53:15.560Z"
   },
   {
    "duration": 13,
    "start_time": "2023-04-28T05:53:15.568Z"
   },
   {
    "duration": 21137,
    "start_time": "2023-04-28T05:53:15.582Z"
   },
   {
    "duration": 45,
    "start_time": "2023-04-28T05:53:36.721Z"
   },
   {
    "duration": 577076,
    "start_time": "2023-04-28T05:53:36.768Z"
   },
   {
    "duration": 3310,
    "start_time": "2023-04-28T06:03:13.849Z"
   },
   {
    "duration": 2182911,
    "start_time": "2023-04-28T06:03:17.160Z"
   },
   {
    "duration": 1547,
    "start_time": "2023-04-28T06:39:40.073Z"
   },
   {
    "duration": 3992,
    "start_time": "2023-04-28T07:01:35.702Z"
   },
   {
    "duration": 1550291,
    "start_time": "2023-04-28T07:01:39.696Z"
   },
   {
    "duration": 283,
    "start_time": "2023-04-28T07:27:29.989Z"
   },
   {
    "duration": 19,
    "start_time": "2023-04-28T07:27:30.274Z"
   },
   {
    "duration": 18,
    "start_time": "2023-04-28T07:27:30.295Z"
   },
   {
    "duration": 1808123,
    "start_time": "2023-04-28T07:27:30.316Z"
   },
   {
    "duration": 0,
    "start_time": "2023-04-28T07:57:38.442Z"
   },
   {
    "duration": 0,
    "start_time": "2023-04-28T07:57:38.444Z"
   },
   {
    "duration": 0,
    "start_time": "2023-04-28T07:57:38.447Z"
   },
   {
    "duration": 0,
    "start_time": "2023-04-28T07:57:38.448Z"
   },
   {
    "duration": 6,
    "start_time": "2023-04-28T07:57:47.193Z"
   },
   {
    "duration": 16,
    "start_time": "2023-04-28T07:57:57.882Z"
   },
   {
    "duration": 13,
    "start_time": "2023-04-28T07:57:59.128Z"
   },
   {
    "duration": 4,
    "start_time": "2023-04-28T07:58:04.806Z"
   },
   {
    "duration": 20,
    "start_time": "2023-04-28T07:58:05.301Z"
   },
   {
    "duration": 14,
    "start_time": "2023-04-28T07:58:06.063Z"
   },
   {
    "duration": 3,
    "start_time": "2023-04-28T07:58:09.755Z"
   },
   {
    "duration": 6,
    "start_time": "2023-04-28T07:58:10.581Z"
   },
   {
    "duration": 206,
    "start_time": "2023-04-28T07:58:11.306Z"
   },
   {
    "duration": 23,
    "start_time": "2023-04-28T08:02:41.845Z"
   },
   {
    "duration": 15,
    "start_time": "2023-04-28T08:04:02.985Z"
   },
   {
    "duration": 15,
    "start_time": "2023-04-28T08:06:00.041Z"
   },
   {
    "duration": 11,
    "start_time": "2023-04-28T08:06:23.316Z"
   },
   {
    "duration": 11,
    "start_time": "2023-04-28T08:06:44.222Z"
   },
   {
    "duration": 150,
    "start_time": "2023-04-28T08:07:06.514Z"
   },
   {
    "duration": 13,
    "start_time": "2023-04-28T08:11:07.284Z"
   },
   {
    "duration": 266,
    "start_time": "2023-04-28T08:11:28.125Z"
   },
   {
    "duration": 12,
    "start_time": "2023-04-28T08:11:46.732Z"
   },
   {
    "duration": 11,
    "start_time": "2023-04-28T08:13:58.860Z"
   },
   {
    "duration": 151,
    "start_time": "2023-04-28T08:14:10.185Z"
   },
   {
    "duration": 11,
    "start_time": "2023-04-28T08:14:34.420Z"
   },
   {
    "duration": 147,
    "start_time": "2023-04-28T08:14:43.624Z"
   },
   {
    "duration": 2087,
    "start_time": "2023-04-28T08:15:51.396Z"
   },
   {
    "duration": 1988,
    "start_time": "2023-04-28T08:15:53.486Z"
   },
   {
    "duration": 1978,
    "start_time": "2023-04-28T08:15:55.480Z"
   },
   {
    "duration": 1543,
    "start_time": "2023-04-28T08:15:57.460Z"
   },
   {
    "duration": 7,
    "start_time": "2023-04-28T08:15:59.005Z"
   },
   {
    "duration": 8,
    "start_time": "2023-04-28T08:15:59.013Z"
   },
   {
    "duration": 5,
    "start_time": "2023-04-28T08:15:59.023Z"
   },
   {
    "duration": 841,
    "start_time": "2023-04-28T08:15:59.030Z"
   },
   {
    "duration": 19,
    "start_time": "2023-04-28T08:15:59.874Z"
   },
   {
    "duration": 129,
    "start_time": "2023-04-28T08:15:59.895Z"
   },
   {
    "duration": 105,
    "start_time": "2023-04-28T08:16:00.026Z"
   },
   {
    "duration": 4,
    "start_time": "2023-04-28T08:16:00.133Z"
   },
   {
    "duration": 31,
    "start_time": "2023-04-28T08:16:00.138Z"
   },
   {
    "duration": 1571,
    "start_time": "2023-04-28T08:16:00.170Z"
   },
   {
    "duration": 304,
    "start_time": "2023-04-28T08:16:01.743Z"
   },
   {
    "duration": 27,
    "start_time": "2023-04-28T08:16:02.049Z"
   },
   {
    "duration": 17,
    "start_time": "2023-04-28T08:16:02.078Z"
   },
   {
    "duration": 38,
    "start_time": "2023-04-28T08:16:02.097Z"
   },
   {
    "duration": 4,
    "start_time": "2023-04-28T08:16:02.137Z"
   },
   {
    "duration": 1598,
    "start_time": "2023-04-28T08:16:02.143Z"
   },
   {
    "duration": 28,
    "start_time": "2023-04-28T08:16:03.743Z"
   },
   {
    "duration": 3,
    "start_time": "2023-04-28T08:16:03.773Z"
   },
   {
    "duration": 15,
    "start_time": "2023-04-28T08:16:03.793Z"
   },
   {
    "duration": 16,
    "start_time": "2023-04-28T08:16:03.810Z"
   },
   {
    "duration": 15,
    "start_time": "2023-04-28T08:16:03.828Z"
   },
   {
    "duration": 3,
    "start_time": "2023-04-28T08:16:03.845Z"
   },
   {
    "duration": 9,
    "start_time": "2023-04-28T08:16:03.853Z"
   },
   {
    "duration": 30,
    "start_time": "2023-04-28T08:16:03.893Z"
   },
   {
    "duration": 91,
    "start_time": "2023-04-28T08:16:03.926Z"
   },
   {
    "duration": 33,
    "start_time": "2023-04-28T08:16:04.019Z"
   },
   {
    "duration": 170,
    "start_time": "2023-04-28T08:16:04.054Z"
   },
   {
    "duration": 4,
    "start_time": "2023-04-28T08:16:04.226Z"
   },
   {
    "duration": 7,
    "start_time": "2023-04-28T08:16:04.232Z"
   },
   {
    "duration": 44,
    "start_time": "2023-04-28T08:16:04.241Z"
   },
   {
    "duration": 29,
    "start_time": "2023-04-28T08:16:04.286Z"
   },
   {
    "duration": 1405,
    "start_time": "2023-04-28T08:16:04.316Z"
   },
   {
    "duration": 2383,
    "start_time": "2023-04-28T08:16:05.723Z"
   },
   {
    "duration": 16,
    "start_time": "2023-04-28T08:16:08.108Z"
   },
   {
    "duration": 18,
    "start_time": "2023-04-28T08:16:08.126Z"
   },
   {
    "duration": 16,
    "start_time": "2023-04-28T08:16:08.146Z"
   },
   {
    "duration": 36,
    "start_time": "2023-04-28T08:16:08.164Z"
   },
   {
    "duration": 15,
    "start_time": "2023-04-28T08:16:08.202Z"
   },
   {
    "duration": 41,
    "start_time": "2023-04-28T08:16:08.219Z"
   },
   {
    "duration": 60,
    "start_time": "2023-04-28T08:16:08.262Z"
   },
   {
    "duration": 92,
    "start_time": "2023-04-28T08:16:08.324Z"
   },
   {
    "duration": 378,
    "start_time": "2023-04-28T08:16:08.417Z"
   },
   {
    "duration": 248,
    "start_time": "2023-04-28T08:16:08.796Z"
   },
   {
    "duration": 14,
    "start_time": "2023-04-28T08:16:09.046Z"
   },
   {
    "duration": 16,
    "start_time": "2023-04-28T08:16:09.063Z"
   },
   {
    "duration": 3,
    "start_time": "2023-04-28T08:16:09.094Z"
   },
   {
    "duration": 72,
    "start_time": "2023-04-28T08:16:09.099Z"
   },
   {
    "duration": 178,
    "start_time": "2023-04-28T08:16:09.173Z"
   },
   {
    "duration": 19,
    "start_time": "2023-04-28T08:16:09.352Z"
   },
   {
    "duration": 31,
    "start_time": "2023-04-28T08:16:09.373Z"
   },
   {
    "duration": 172,
    "start_time": "2023-04-28T08:16:09.406Z"
   },
   {
    "duration": 60,
    "start_time": "2023-04-28T08:16:09.580Z"
   },
   {
    "duration": 65,
    "start_time": "2023-04-28T08:16:09.642Z"
   },
   {
    "duration": 60,
    "start_time": "2023-04-28T08:16:09.709Z"
   },
   {
    "duration": 32,
    "start_time": "2023-04-28T08:16:09.771Z"
   },
   {
    "duration": 10,
    "start_time": "2023-04-28T08:16:09.805Z"
   },
   {
    "duration": 49,
    "start_time": "2023-04-28T08:16:09.816Z"
   },
   {
    "duration": 82,
    "start_time": "2023-04-28T08:16:09.867Z"
   },
   {
    "duration": 4,
    "start_time": "2023-04-28T08:16:09.951Z"
   },
   {
    "duration": 205,
    "start_time": "2023-04-28T08:16:09.957Z"
   },
   {
    "duration": 3,
    "start_time": "2023-04-28T08:16:10.163Z"
   },
   {
    "duration": 918,
    "start_time": "2023-04-28T08:16:10.167Z"
   },
   {
    "duration": 6,
    "start_time": "2023-04-28T08:16:11.087Z"
   },
   {
    "duration": 7,
    "start_time": "2023-04-28T08:16:11.095Z"
   },
   {
    "duration": 16,
    "start_time": "2023-04-28T08:16:11.104Z"
   },
   {
    "duration": 3,
    "start_time": "2023-04-28T08:16:11.122Z"
   },
   {
    "duration": 4,
    "start_time": "2023-04-28T08:16:11.127Z"
   },
   {
    "duration": 67,
    "start_time": "2023-04-28T08:16:11.133Z"
   },
   {
    "duration": 4,
    "start_time": "2023-04-28T08:16:11.202Z"
   },
   {
    "duration": 175,
    "start_time": "2023-04-28T08:16:11.208Z"
   },
   {
    "duration": 2,
    "start_time": "2023-04-28T08:16:11.385Z"
   },
   {
    "duration": 6,
    "start_time": "2023-04-28T08:16:11.394Z"
   },
   {
    "duration": 14,
    "start_time": "2023-04-28T08:16:11.402Z"
   },
   {
    "duration": 16,
    "start_time": "2023-04-28T08:16:11.417Z"
   },
   {
    "duration": 22880,
    "start_time": "2023-04-28T08:16:11.435Z"
   },
   {
    "duration": 48,
    "start_time": "2023-04-28T08:16:34.317Z"
   },
   {
    "duration": 637127,
    "start_time": "2023-04-28T08:16:34.370Z"
   },
   {
    "duration": 3435,
    "start_time": "2023-04-28T08:27:11.499Z"
   },
   {
    "duration": 1596462,
    "start_time": "2023-04-28T08:27:14.936Z"
   },
   {
    "duration": 4005,
    "start_time": "2023-04-28T08:53:51.400Z"
   },
   {
    "duration": 1613578,
    "start_time": "2023-04-28T08:53:55.407Z"
   },
   {
    "duration": 296,
    "start_time": "2023-04-28T09:20:48.988Z"
   },
   {
    "duration": 18,
    "start_time": "2023-04-28T09:20:49.285Z"
   },
   {
    "duration": 10,
    "start_time": "2023-04-28T09:20:49.305Z"
   },
   {
    "duration": 4,
    "start_time": "2023-04-28T09:20:49.317Z"
   },
   {
    "duration": 34,
    "start_time": "2023-04-28T09:20:49.322Z"
   },
   {
    "duration": 30,
    "start_time": "2023-04-28T09:20:49.358Z"
   },
   {
    "duration": 21,
    "start_time": "2023-04-28T09:20:49.390Z"
   },
   {
    "duration": 17,
    "start_time": "2023-04-28T09:20:49.413Z"
   },
   {
    "duration": 205,
    "start_time": "2023-04-28T09:20:49.432Z"
   },
   {
    "duration": 12,
    "start_time": "2023-04-28T09:20:49.639Z"
   },
   {
    "duration": 177,
    "start_time": "2023-04-28T09:20:49.652Z"
   },
   {
    "duration": 13,
    "start_time": "2023-04-28T09:55:18.014Z"
   }
  ],
  "kernelspec": {
   "display_name": "Python 3 (ipykernel)",
   "language": "python",
   "name": "python3"
  },
  "language_info": {
   "codemirror_mode": {
    "name": "ipython",
    "version": 3
   },
   "file_extension": ".py",
   "mimetype": "text/x-python",
   "name": "python",
   "nbconvert_exporter": "python",
   "pygments_lexer": "ipython3",
   "version": "3.9.5"
  },
  "toc": {
   "base_numbering": 1,
   "nav_menu": {},
   "number_sections": true,
   "sideBar": true,
   "skip_h1_title": true,
   "title_cell": "Table of Contents",
   "title_sidebar": "Contents",
   "toc_cell": false,
   "toc_position": {},
   "toc_section_display": true,
   "toc_window_display": false
  }
 },
 "nbformat": 4,
 "nbformat_minor": 2
}
